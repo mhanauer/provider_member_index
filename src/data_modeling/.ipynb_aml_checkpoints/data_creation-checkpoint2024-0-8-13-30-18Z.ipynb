{
  "cells": [
    {
      "cell_type": "code",
      "source": [
        "%load_ext lab_black"
      ],
      "outputs": [
        {
          "output_type": "stream",
          "name": "stdout",
          "text": "The lab_black extension is already loaded. To reload it, use:\n  %reload_ext lab_black\n"
        }
      ],
      "execution_count": 8,
      "metadata": {
        "jupyter": {
          "source_hidden": false,
          "outputs_hidden": false
        },
        "nteract": {
          "transient": {
            "deleting": false
          }
        }
      }
    },
    {
      "cell_type": "code",
      "source": [
        "import numpy as np\n",
        "import pandas as pd\n",
        "from pyprojroot import here\n",
        "import os\n",
        "\n",
        "path_data = here(\"./data\")\n",
        "os.chdir(path_data)"
      ],
      "outputs": [],
      "execution_count": 9,
      "metadata": {
        "gather": {
          "logged": 1704720203809
        }
      }
    },
    {
      "cell_type": "code",
      "source": [
        "import numpy as np\n",
        "import pandas as pd\n",
        "\n",
        "# Set random seed for reproducibility\n",
        "np.random.seed(42)\n",
        "\n",
        "# Number of samples\n",
        "n_samples = 100000\n",
        "\n",
        "# Generate predictors\n",
        "high_blood_pressure = np.random.binomial(1, 0.3, n_samples)\n",
        "high_cholesterol = np.random.binomial(1, 0.4, n_samples)\n",
        "diabetes = np.random.binomial(1, 0.25, n_samples)\n",
        "preventative_services = np.random.binomial(1, 0.5, n_samples)\n",
        "\n",
        "# Generate hospital_id (from 1 to 10)\n",
        "hospital_id = np.random.randint(1, 4, n_samples)\n",
        "\n",
        "# Initialize the costs array\n",
        "costs = np.zeros(n_samples)\n",
        "\n",
        "# Adjusted mean and standard deviation\n",
        "mean_cost = 4000\n",
        "std_dev_cost = 2000\n",
        "\n",
        "# Simulate the costs with adjusted correlations\n",
        "for i in range(n_samples):\n",
        "    base_cost = np.random.normal(mean_cost, std_dev_cost)\n",
        "\n",
        "    # Adjust cost based on conditions\n",
        "    if high_blood_pressure[i] == 1:\n",
        "        base_cost += 2700\n",
        "    if high_cholesterol[i] == 1:\n",
        "        base_cost += 2300\n",
        "    if diabetes[i] == 1:\n",
        "        base_cost += 2200\n",
        "    if preventative_services[i] == 1:\n",
        "        base_cost -= 2200\n",
        "\n",
        "    # Consider interaction effects\n",
        "    if high_blood_pressure[i] == 1 and diabetes[i] == 1:\n",
        "        base_cost += 500  # Additional cost for comorbidity\n",
        "\n",
        "    # Ensure the cost is within the specified range\n",
        "    costs[i] = min(max(base_cost, 100), 10000)\n",
        "\n",
        "# Create a DataFrame\n",
        "data = pd.DataFrame(\n",
        "    {\n",
        "        \"Hospital ID\": hospital_id,\n",
        "        \"High Blood Pressure\": high_blood_pressure,\n",
        "        \"High Cholesterol\": high_cholesterol,\n",
        "        \"Diabetes\": diabetes,\n",
        "        \"Preventative Services\": preventative_services,\n",
        "        \"Per Member Per Month Cost\": costs,\n",
        "    }\n",
        ")\n",
        "\n",
        "data.to_csv(\"data_pmpm.csv\", index=False)"
      ],
      "outputs": [],
      "execution_count": 2,
      "metadata": {
        "jupyter": {
          "source_hidden": false,
          "outputs_hidden": false
        },
        "nteract": {
          "transient": {
            "deleting": false
          }
        },
        "gather": {
          "logged": 1704639785186
        }
      }
    },
    {
      "cell_type": "code",
      "source": [
        "data.corr()"
      ],
      "outputs": [
        {
          "output_type": "execute_result",
          "execution_count": 25,
          "data": {
            "text/plain": "                           Hospital ID  High Blood Pressure  High Cholesterol  \\\nHospital ID                   1.000000            -0.003160          0.005881   \nHigh Blood Pressure          -0.003160             1.000000         -0.000540   \nHigh Cholesterol              0.005881            -0.000540          1.000000   \nDiabetes                      0.003493            -0.006216         -0.000524   \nPreventative Services         0.004019            -0.002099          0.000998   \nPer Member Per Month Cost     0.000151             0.421567          0.368588   \n\n                           Diabetes  Preventative Services  \\\nHospital ID                0.003493               0.004019   \nHigh Blood Pressure       -0.006216              -0.002099   \nHigh Cholesterol          -0.000524               0.000998   \nDiabetes                   1.000000               0.001747   \nPreventative Services      0.001747               1.000000   \nPer Member Per Month Cost  0.318707              -0.363270   \n\n                           Per Member Per Month Cost  \nHospital ID                                 0.000151  \nHigh Blood Pressure                         0.421567  \nHigh Cholesterol                            0.368588  \nDiabetes                                    0.318707  \nPreventative Services                      -0.363270  \nPer Member Per Month Cost                   1.000000  ",
            "text/html": "<div>\n<style scoped>\n    .dataframe tbody tr th:only-of-type {\n        vertical-align: middle;\n    }\n\n    .dataframe tbody tr th {\n        vertical-align: top;\n    }\n\n    .dataframe thead th {\n        text-align: right;\n    }\n</style>\n<table border=\"1\" class=\"dataframe\">\n  <thead>\n    <tr style=\"text-align: right;\">\n      <th></th>\n      <th>Hospital ID</th>\n      <th>High Blood Pressure</th>\n      <th>High Cholesterol</th>\n      <th>Diabetes</th>\n      <th>Preventative Services</th>\n      <th>Per Member Per Month Cost</th>\n    </tr>\n  </thead>\n  <tbody>\n    <tr>\n      <th>Hospital ID</th>\n      <td>1.000000</td>\n      <td>-0.003160</td>\n      <td>0.005881</td>\n      <td>0.003493</td>\n      <td>0.004019</td>\n      <td>0.000151</td>\n    </tr>\n    <tr>\n      <th>High Blood Pressure</th>\n      <td>-0.003160</td>\n      <td>1.000000</td>\n      <td>-0.000540</td>\n      <td>-0.006216</td>\n      <td>-0.002099</td>\n      <td>0.421567</td>\n    </tr>\n    <tr>\n      <th>High Cholesterol</th>\n      <td>0.005881</td>\n      <td>-0.000540</td>\n      <td>1.000000</td>\n      <td>-0.000524</td>\n      <td>0.000998</td>\n      <td>0.368588</td>\n    </tr>\n    <tr>\n      <th>Diabetes</th>\n      <td>0.003493</td>\n      <td>-0.006216</td>\n      <td>-0.000524</td>\n      <td>1.000000</td>\n      <td>0.001747</td>\n      <td>0.318707</td>\n    </tr>\n    <tr>\n      <th>Preventative Services</th>\n      <td>0.004019</td>\n      <td>-0.002099</td>\n      <td>0.000998</td>\n      <td>0.001747</td>\n      <td>1.000000</td>\n      <td>-0.363270</td>\n    </tr>\n    <tr>\n      <th>Per Member Per Month Cost</th>\n      <td>0.000151</td>\n      <td>0.421567</td>\n      <td>0.368588</td>\n      <td>0.318707</td>\n      <td>-0.363270</td>\n      <td>1.000000</td>\n    </tr>\n  </tbody>\n</table>\n</div>"
          },
          "metadata": {}
        }
      ],
      "execution_count": 25,
      "metadata": {
        "jupyter": {
          "source_hidden": false,
          "outputs_hidden": false
        },
        "nteract": {
          "transient": {
            "deleting": false
          }
        },
        "gather": {
          "logged": 1702409161939
        }
      }
    },
    {
      "cell_type": "code",
      "source": [
        "import pandas as pd\n",
        "from scipy.stats import median_abs_deviation\n",
        "\n",
        "# Sample data, replace this with your actual DataFrame\n",
        "data_pmpm = pd.read_csv(\"data_pmpm.csv\")\n",
        "\n",
        "# Assuming 'Per Member Per Month Cost' is the column of interest\n",
        "costs = data_pmpm[\"Per Member Per Month Cost\"]\n",
        "\n",
        "# Calculate the Median\n",
        "median_cost = costs.median()\n",
        "\n",
        "# Calculate the Median Absolute Deviation\n",
        "mad = median_abs_deviation(costs)\n",
        "\n",
        "# Identify high outliers\n",
        "threshold = 2 * mad  # You can adjust this threshold as needed\n",
        "is_high_outlier = (costs - median_cost) > threshold\n",
        "\n",
        "# Convert boolean to 1 and 0\n",
        "is_high_outlier = is_high_outlier.astype(int)\n",
        "\n",
        "# Create a new DataFrame with selected columns without altering data_pmpm\n",
        "data_high_cost_members = data_pmpm.copy()\n",
        "member_id_with_m = \"M\" + pd.Series(np.arange(1, len(data_pmpm) + 1)).astype(str)\n",
        "data_high_cost_members[\"Member ID\"] = member_id_with_m\n",
        "data_high_cost_members[\"High Cost Member\"] = is_high_outlier\n",
        "data_high_cost_members = data_high_cost_members[\n",
        "    [\"Member ID\", \"Per Member Per Month Cost\", \"High Cost Member\"]\n",
        "]\n",
        "\n",
        "# Display the new DataFrame\n",
        "data_high_cost_members = data_high_cost_members.round(0)"
      ],
      "outputs": [],
      "execution_count": 17,
      "metadata": {
        "jupyter": {
          "source_hidden": false,
          "outputs_hidden": false
        },
        "nteract": {
          "transient": {
            "deleting": false
          }
        },
        "gather": {
          "logged": 1704720592380
        }
      }
    },
    {
      "cell_type": "code",
      "source": [
        "import pandas as pd\n",
        "import numpy as np\n",
        "\n",
        "\n",
        "# Number of rows in the DataFrame\n",
        "n_rows = data_high_cost_members.shape[0]\n",
        "\n",
        "# Generate random numbers from a normal distribution\n",
        "random_values = np.random.normal(1000, 250, n_rows)\n",
        "\n",
        "# Randomly decide to add or subtract for each row\n",
        "add_or_subtract = np.random.choice([-1, 1], n_rows)\n",
        "\n",
        "# Apply the addition or subtraction\n",
        "data_high_cost_members[\"Per Member Per Month Cost\"] += add_or_subtract * random_values\n",
        "\n",
        "# Display the modified DataFrame\n",
        "data_high_cost_members"
      ],
      "outputs": [
        {
          "output_type": "execute_result",
          "execution_count": 18,
          "data": {
            "text/plain": "      Member ID  Per Member Per Month Cost  High Cost Member\n0            M1                2882.216964                 0\n1            M2                5931.772709                 0\n2            M3                5252.993283                 0\n3            M4                2527.333235                 0\n4            M5                3612.845814                 0\n...         ...                        ...               ...\n99995    M99996                7571.423202                 0\n99996    M99997               10778.390818                 1\n99997    M99998                3210.464085                 0\n99998    M99999                4593.307426                 0\n99999   M100000                3184.742461                 0\n\n[100000 rows x 3 columns]",
            "text/html": "<div>\n<style scoped>\n    .dataframe tbody tr th:only-of-type {\n        vertical-align: middle;\n    }\n\n    .dataframe tbody tr th {\n        vertical-align: top;\n    }\n\n    .dataframe thead th {\n        text-align: right;\n    }\n</style>\n<table border=\"1\" class=\"dataframe\">\n  <thead>\n    <tr style=\"text-align: right;\">\n      <th></th>\n      <th>Member ID</th>\n      <th>Per Member Per Month Cost</th>\n      <th>High Cost Member</th>\n    </tr>\n  </thead>\n  <tbody>\n    <tr>\n      <th>0</th>\n      <td>M1</td>\n      <td>2882.216964</td>\n      <td>0</td>\n    </tr>\n    <tr>\n      <th>1</th>\n      <td>M2</td>\n      <td>5931.772709</td>\n      <td>0</td>\n    </tr>\n    <tr>\n      <th>2</th>\n      <td>M3</td>\n      <td>5252.993283</td>\n      <td>0</td>\n    </tr>\n    <tr>\n      <th>3</th>\n      <td>M4</td>\n      <td>2527.333235</td>\n      <td>0</td>\n    </tr>\n    <tr>\n      <th>4</th>\n      <td>M5</td>\n      <td>3612.845814</td>\n      <td>0</td>\n    </tr>\n    <tr>\n      <th>...</th>\n      <td>...</td>\n      <td>...</td>\n      <td>...</td>\n    </tr>\n    <tr>\n      <th>99995</th>\n      <td>M99996</td>\n      <td>7571.423202</td>\n      <td>0</td>\n    </tr>\n    <tr>\n      <th>99996</th>\n      <td>M99997</td>\n      <td>10778.390818</td>\n      <td>1</td>\n    </tr>\n    <tr>\n      <th>99997</th>\n      <td>M99998</td>\n      <td>3210.464085</td>\n      <td>0</td>\n    </tr>\n    <tr>\n      <th>99998</th>\n      <td>M99999</td>\n      <td>4593.307426</td>\n      <td>0</td>\n    </tr>\n    <tr>\n      <th>99999</th>\n      <td>M100000</td>\n      <td>3184.742461</td>\n      <td>0</td>\n    </tr>\n  </tbody>\n</table>\n<p>100000 rows × 3 columns</p>\n</div>"
          },
          "metadata": {}
        }
      ],
      "execution_count": 18,
      "metadata": {
        "jupyter": {
          "source_hidden": false,
          "outputs_hidden": false
        },
        "nteract": {
          "transient": {
            "deleting": false
          }
        },
        "gather": {
          "logged": 1704720597629
        }
      }
    },
    {
      "cell_type": "code",
      "source": [
        "data_high_cost_members.to_csv(\"data_high_cost_members.csv\", index=False)"
      ],
      "outputs": [],
      "execution_count": 19,
      "metadata": {
        "jupyter": {
          "source_hidden": false,
          "outputs_hidden": false
        },
        "nteract": {
          "transient": {
            "deleting": false
          }
        },
        "gather": {
          "logged": 1704720611295
        }
      }
    }
  ],
  "metadata": {
    "kernelspec": {
      "name": "python38-azureml",
      "language": "python",
      "display_name": "Python 3.8 - AzureML"
    },
    "language_info": {
      "name": "python",
      "version": "3.8.5",
      "mimetype": "text/x-python",
      "codemirror_mode": {
        "name": "ipython",
        "version": 3
      },
      "pygments_lexer": "ipython3",
      "nbconvert_exporter": "python",
      "file_extension": ".py"
    },
    "microsoft": {
      "ms_spell_check": {
        "ms_spell_check_language": "en"
      },
      "host": {
        "AzureML": {
          "notebookHasBeenCompleted": true
        }
      }
    },
    "kernel_info": {
      "name": "python38-azureml"
    },
    "nteract": {
      "version": "nteract-front-end@1.0.0"
    }
  },
  "nbformat": 4,
  "nbformat_minor": 2
}