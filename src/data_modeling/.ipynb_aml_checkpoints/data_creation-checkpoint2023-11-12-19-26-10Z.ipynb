{
  "cells": [
    {
      "cell_type": "code",
      "source": [
        "%load_ext lab_black"
      ],
      "outputs": [],
      "execution_count": 20,
      "metadata": {
        "jupyter": {
          "source_hidden": false,
          "outputs_hidden": false
        },
        "nteract": {
          "transient": {
            "deleting": false
          }
        }
      }
    },
    {
      "cell_type": "code",
      "source": [
        "import numpy as np\n",
        "import pandas as pd\n",
        "from pyprojroot import here\n",
        "import os\n",
        "\n",
        "path_data = here(\"./data\")\n",
        "os.chdir(path_data)"
      ],
      "outputs": [],
      "execution_count": 21,
      "metadata": {
        "gather": {
          "logged": 1702408515333
        }
      }
    },
    {
      "cell_type": "code",
      "source": [
        "import numpy as np\n",
        "import pandas as pd\n",
        "\n",
        "# Set random seed for reproducibility\n",
        "np.random.seed(42)\n",
        "\n",
        "# Number of samples\n",
        "n_samples = 100000\n",
        "\n",
        "# Generate predictors\n",
        "high_blood_pressure = np.random.binomial(1, 0.3, n_samples)\n",
        "high_cholesterol = np.random.binomial(1, 0.4, n_samples)\n",
        "diabetes = np.random.binomial(1, 0.25, n_samples)\n",
        "preventative_services = np.random.binomial(1, 0.5, n_samples)\n",
        "\n",
        "# Generate hospital_id (from 1 to 10)\n",
        "hospital_id = np.random.randint(1, 4, n_samples)\n",
        "\n",
        "# Initialize the costs array\n",
        "costs = np.zeros(n_samples)\n",
        "\n",
        "# Adjusted mean and standard deviation\n",
        "mean_cost = 4000\n",
        "std_dev_cost = 2000\n",
        "\n",
        "# Simulate the costs with adjusted correlations\n",
        "for i in range(n_samples):\n",
        "    base_cost = np.random.normal(mean_cost, std_dev_cost)\n",
        "\n",
        "    # Adjust cost based on conditions\n",
        "    if high_blood_pressure[i] == 1:\n",
        "        base_cost += 2700\n",
        "    if high_cholesterol[i] == 1:\n",
        "        base_cost += 2300\n",
        "    if diabetes[i] == 1:\n",
        "        base_cost += 2200\n",
        "    if preventative_services[i] == 1:\n",
        "        base_cost -= 2200\n",
        "\n",
        "    # Consider interaction effects\n",
        "    if high_blood_pressure[i] == 1 and diabetes[i] == 1:\n",
        "        base_cost += 500  # Additional cost for comorbidity\n",
        "\n",
        "    # Ensure the cost is within the specified range\n",
        "    costs[i] = min(max(base_cost, 100), 10000)\n",
        "\n",
        "# Create a DataFrame\n",
        "data = pd.DataFrame(\n",
        "    {\n",
        "        \"Hospital ID\": hospital_id,\n",
        "        \"High Blood Pressure\": high_blood_pressure,\n",
        "        \"High Cholesterol\": high_cholesterol,\n",
        "        \"Diabetes\": diabetes,\n",
        "        \"Preventative Services\": preventative_services,\n",
        "        \"Per Member Per Month Cost\": costs,\n",
        "    }\n",
        ")\n",
        "\n",
        "data.to_csv(\"data_pmpm.csv\", index=False)"
      ],
      "outputs": [],
      "execution_count": 24,
      "metadata": {
        "jupyter": {
          "source_hidden": false,
          "outputs_hidden": false
        },
        "nteract": {
          "transient": {
            "deleting": false
          }
        },
        "gather": {
          "logged": 1702409159481
        }
      }
    },
    {
      "cell_type": "code",
      "source": [
        "data.corr()"
      ],
      "outputs": [
        {
          "output_type": "execute_result",
          "execution_count": 25,
          "data": {
            "text/plain": "                           Hospital ID  High Blood Pressure  High Cholesterol  \\\nHospital ID                   1.000000            -0.003160          0.005881   \nHigh Blood Pressure          -0.003160             1.000000         -0.000540   \nHigh Cholesterol              0.005881            -0.000540          1.000000   \nDiabetes                      0.003493            -0.006216         -0.000524   \nPreventative Services         0.004019            -0.002099          0.000998   \nPer Member Per Month Cost     0.000151             0.421567          0.368588   \n\n                           Diabetes  Preventative Services  \\\nHospital ID                0.003493               0.004019   \nHigh Blood Pressure       -0.006216              -0.002099   \nHigh Cholesterol          -0.000524               0.000998   \nDiabetes                   1.000000               0.001747   \nPreventative Services      0.001747               1.000000   \nPer Member Per Month Cost  0.318707              -0.363270   \n\n                           Per Member Per Month Cost  \nHospital ID                                 0.000151  \nHigh Blood Pressure                         0.421567  \nHigh Cholesterol                            0.368588  \nDiabetes                                    0.318707  \nPreventative Services                      -0.363270  \nPer Member Per Month Cost                   1.000000  ",
            "text/html": "<div>\n<style scoped>\n    .dataframe tbody tr th:only-of-type {\n        vertical-align: middle;\n    }\n\n    .dataframe tbody tr th {\n        vertical-align: top;\n    }\n\n    .dataframe thead th {\n        text-align: right;\n    }\n</style>\n<table border=\"1\" class=\"dataframe\">\n  <thead>\n    <tr style=\"text-align: right;\">\n      <th></th>\n      <th>Hospital ID</th>\n      <th>High Blood Pressure</th>\n      <th>High Cholesterol</th>\n      <th>Diabetes</th>\n      <th>Preventative Services</th>\n      <th>Per Member Per Month Cost</th>\n    </tr>\n  </thead>\n  <tbody>\n    <tr>\n      <th>Hospital ID</th>\n      <td>1.000000</td>\n      <td>-0.003160</td>\n      <td>0.005881</td>\n      <td>0.003493</td>\n      <td>0.004019</td>\n      <td>0.000151</td>\n    </tr>\n    <tr>\n      <th>High Blood Pressure</th>\n      <td>-0.003160</td>\n      <td>1.000000</td>\n      <td>-0.000540</td>\n      <td>-0.006216</td>\n      <td>-0.002099</td>\n      <td>0.421567</td>\n    </tr>\n    <tr>\n      <th>High Cholesterol</th>\n      <td>0.005881</td>\n      <td>-0.000540</td>\n      <td>1.000000</td>\n      <td>-0.000524</td>\n      <td>0.000998</td>\n      <td>0.368588</td>\n    </tr>\n    <tr>\n      <th>Diabetes</th>\n      <td>0.003493</td>\n      <td>-0.006216</td>\n      <td>-0.000524</td>\n      <td>1.000000</td>\n      <td>0.001747</td>\n      <td>0.318707</td>\n    </tr>\n    <tr>\n      <th>Preventative Services</th>\n      <td>0.004019</td>\n      <td>-0.002099</td>\n      <td>0.000998</td>\n      <td>0.001747</td>\n      <td>1.000000</td>\n      <td>-0.363270</td>\n    </tr>\n    <tr>\n      <th>Per Member Per Month Cost</th>\n      <td>0.000151</td>\n      <td>0.421567</td>\n      <td>0.368588</td>\n      <td>0.318707</td>\n      <td>-0.363270</td>\n      <td>1.000000</td>\n    </tr>\n  </tbody>\n</table>\n</div>"
          },
          "metadata": {}
        }
      ],
      "execution_count": 25,
      "metadata": {
        "jupyter": {
          "source_hidden": false,
          "outputs_hidden": false
        },
        "nteract": {
          "transient": {
            "deleting": false
          }
        },
        "gather": {
          "logged": 1702409161939
        }
      }
    }
  ],
  "metadata": {
    "kernelspec": {
      "name": "python38-azureml",
      "language": "python",
      "display_name": "Python 3.8 - AzureML"
    },
    "language_info": {
      "name": "python",
      "version": "3.8.5",
      "mimetype": "text/x-python",
      "codemirror_mode": {
        "name": "ipython",
        "version": 3
      },
      "pygments_lexer": "ipython3",
      "nbconvert_exporter": "python",
      "file_extension": ".py"
    },
    "microsoft": {
      "ms_spell_check": {
        "ms_spell_check_language": "en"
      },
      "host": {
        "AzureML": {
          "notebookHasBeenCompleted": true
        }
      }
    },
    "kernel_info": {
      "name": "python38-azureml"
    },
    "nteract": {
      "version": "nteract-front-end@1.0.0"
    }
  },
  "nbformat": 4,
  "nbformat_minor": 2
}