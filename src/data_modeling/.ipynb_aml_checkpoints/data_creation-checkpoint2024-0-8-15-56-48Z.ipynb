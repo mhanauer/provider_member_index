{
  "cells": [
    {
      "cell_type": "code",
      "source": [
        "%load_ext lab_black"
      ],
      "outputs": [],
      "execution_count": 2,
      "metadata": {
        "jupyter": {
          "source_hidden": false,
          "outputs_hidden": false
        },
        "nteract": {
          "transient": {
            "deleting": false
          }
        }
      }
    },
    {
      "cell_type": "code",
      "source": [
        "import numpy as np\n",
        "import pandas as pd\n",
        "from pyprojroot import here\n",
        "import os\n",
        "\n",
        "path_data = here(\"./data\")\n",
        "os.chdir(path_data)"
      ],
      "outputs": [],
      "execution_count": 3,
      "metadata": {
        "gather": {
          "logged": 1704729387944
        }
      }
    },
    {
      "cell_type": "code",
      "source": [
        "np.random.seed(0)\n",
        "n_rows_provider = 10000\n",
        "n_rows_member = 10000\n",
        "\n",
        "provider_index = np.random.normal(0, 1, n_rows_provider)\n",
        "member_index = np.random.normal(0, 1, n_rows_member)"
      ],
      "outputs": [],
      "execution_count": 4,
      "metadata": {
        "jupyter": {
          "source_hidden": false,
          "outputs_hidden": false
        },
        "nteract": {
          "transient": {
            "deleting": false
          }
        },
        "gather": {
          "logged": 1704729388027
        }
      }
    },
    {
      "cell_type": "code",
      "source": [
        "# Create member IDs\n",
        "member_ids = [\"M\" + str(i) for i in range(1, n_rows_member + 1)]\n",
        "\n",
        "# Create provider IDs\n",
        "provider_ids = [\"P\" + str(i) for i in range(1, n_rows_provider + 1)]"
      ],
      "outputs": [],
      "execution_count": 5,
      "metadata": {
        "jupyter": {
          "source_hidden": false,
          "outputs_hidden": false
        },
        "nteract": {
          "transient": {
            "deleting": false
          }
        },
        "gather": {
          "logged": 1704729390610
        }
      }
    },
    {
      "cell_type": "code",
      "source": [
        "import pandas as pd\n",
        "\n",
        "# Assuming provider_ids, member_ids, provider_index, and member_index are already defined\n",
        "\n",
        "# Convert lists to Pandas Series\n",
        "provider_ids_series = pd.Series(provider_ids)\n",
        "member_ids_series = pd.Series(member_ids)\n",
        "\n",
        "# Convert the numpy arrays to Pandas Series\n",
        "provider_index_series = pd.Series(provider_index)\n",
        "member_index_series = pd.Series(member_index)\n",
        "\n",
        "# Concatenate the Series\n",
        "data_provider_index = pd.concat([provider_ids_series, provider_index_series], axis=1)\n",
        "data_member_index = pd.concat([member_ids_series, member_index_series], axis=1)\n",
        "\n",
        "# Optionally, you can give names to the columns\n",
        "data_provider_index.columns = [\"Provider ID\", \"Provider index\"]\n",
        "data_provider_index = data_provider_index.round(2)\n",
        "data_member_index.columns = [\"Member ID\", \"Member index\"]\n",
        "data_member_index = data_member_index.round(2)"
      ],
      "outputs": [],
      "execution_count": 6,
      "metadata": {
        "jupyter": {
          "source_hidden": false,
          "outputs_hidden": false
        },
        "nteract": {
          "transient": {
            "deleting": false
          }
        },
        "gather": {
          "logged": 1704729392520
        }
      }
    },
    {
      "cell_type": "code",
      "source": [
        "data_member_index"
      ],
      "outputs": [
        {
          "output_type": "execute_result",
          "execution_count": 7,
          "data": {
            "text/plain": "     Member ID  Member index\n0           M1         -0.20\n1           M2         -0.83\n2           M3          1.73\n3           M4          0.19\n4           M5         -0.18\n...        ...           ...\n9995     M9996          0.27\n9996     M9997         -0.11\n9997     M9998         -0.06\n9998     M9999         -1.06\n9999    M10000         -0.33\n\n[10000 rows x 2 columns]",
            "text/html": "<div>\n<style scoped>\n    .dataframe tbody tr th:only-of-type {\n        vertical-align: middle;\n    }\n\n    .dataframe tbody tr th {\n        vertical-align: top;\n    }\n\n    .dataframe thead th {\n        text-align: right;\n    }\n</style>\n<table border=\"1\" class=\"dataframe\">\n  <thead>\n    <tr style=\"text-align: right;\">\n      <th></th>\n      <th>Member ID</th>\n      <th>Member index</th>\n    </tr>\n  </thead>\n  <tbody>\n    <tr>\n      <th>0</th>\n      <td>M1</td>\n      <td>-0.20</td>\n    </tr>\n    <tr>\n      <th>1</th>\n      <td>M2</td>\n      <td>-0.83</td>\n    </tr>\n    <tr>\n      <th>2</th>\n      <td>M3</td>\n      <td>1.73</td>\n    </tr>\n    <tr>\n      <th>3</th>\n      <td>M4</td>\n      <td>0.19</td>\n    </tr>\n    <tr>\n      <th>4</th>\n      <td>M5</td>\n      <td>-0.18</td>\n    </tr>\n    <tr>\n      <th>...</th>\n      <td>...</td>\n      <td>...</td>\n    </tr>\n    <tr>\n      <th>9995</th>\n      <td>M9996</td>\n      <td>0.27</td>\n    </tr>\n    <tr>\n      <th>9996</th>\n      <td>M9997</td>\n      <td>-0.11</td>\n    </tr>\n    <tr>\n      <th>9997</th>\n      <td>M9998</td>\n      <td>-0.06</td>\n    </tr>\n    <tr>\n      <th>9998</th>\n      <td>M9999</td>\n      <td>-1.06</td>\n    </tr>\n    <tr>\n      <th>9999</th>\n      <td>M10000</td>\n      <td>-0.33</td>\n    </tr>\n  </tbody>\n</table>\n<p>10000 rows × 2 columns</p>\n</div>"
          },
          "metadata": {}
        }
      ],
      "execution_count": 7,
      "metadata": {
        "jupyter": {
          "source_hidden": false,
          "outputs_hidden": false
        },
        "nteract": {
          "transient": {
            "deleting": false
          }
        },
        "gather": {
          "logged": 1704729395136
        }
      }
    }
  ],
  "metadata": {
    "kernelspec": {
      "name": "python38-azureml",
      "language": "python",
      "display_name": "Python 3.8 - AzureML"
    },
    "language_info": {
      "name": "python",
      "version": "3.8.5",
      "mimetype": "text/x-python",
      "codemirror_mode": {
        "name": "ipython",
        "version": 3
      },
      "pygments_lexer": "ipython3",
      "nbconvert_exporter": "python",
      "file_extension": ".py"
    },
    "microsoft": {
      "ms_spell_check": {
        "ms_spell_check_language": "en"
      },
      "host": {
        "AzureML": {
          "notebookHasBeenCompleted": true
        }
      }
    },
    "kernel_info": {
      "name": "python38-azureml"
    },
    "nteract": {
      "version": "nteract-front-end@1.0.0"
    }
  },
  "nbformat": 4,
  "nbformat_minor": 2
}