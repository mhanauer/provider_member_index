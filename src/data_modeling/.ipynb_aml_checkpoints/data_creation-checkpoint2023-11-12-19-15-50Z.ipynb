{
  "cells": [
    {
      "cell_type": "code",
      "source": [
        "%load_ext lab_black"
      ],
      "outputs": [],
      "execution_count": 20,
      "metadata": {
        "jupyter": {
          "source_hidden": false,
          "outputs_hidden": false
        },
        "nteract": {
          "transient": {
            "deleting": false
          }
        }
      }
    },
    {
      "cell_type": "code",
      "source": [
        "import numpy as np\n",
        "import pandas as pd\n",
        "from pyprojroot import here\n",
        "import os\n",
        "\n",
        "path_data = here(\"./data\")\n",
        "os.chdir(path_data)"
      ],
      "outputs": [],
      "execution_count": 21,
      "metadata": {
        "gather": {
          "logged": 1702408515333
        }
      }
    },
    {
      "cell_type": "code",
      "source": [
        "import numpy as np\n",
        "import pandas as pd\n",
        "\n",
        "# Set random seed for reproducibility\n",
        "np.random.seed(42)\n",
        "\n",
        "# Number of samples\n",
        "n_samples = 10000\n",
        "\n",
        "# Generate predictors\n",
        "high_blood_pressure = np.random.binomial(1, 0.3, n_samples)\n",
        "high_cholesterol = np.random.binomial(1, 0.4, n_samples)\n",
        "diabetes = np.random.binomial(1, 0.25, n_samples)\n",
        "preventative_services = np.random.binomial(1, 0.5, n_samples)\n",
        "\n",
        "# Generate hospital_id (from 1 to 10)\n",
        "hospital_id = np.random.randint(1, 4, n_samples)\n",
        "\n",
        "# Initialize the costs array\n",
        "costs = np.zeros(n_samples)\n",
        "\n",
        "# Adjusted mean and standard deviation\n",
        "mean_cost = 4000\n",
        "std_dev_cost = 2000\n",
        "\n",
        "# Simulate the costs with adjusted correlations\n",
        "for i in range(n_samples):\n",
        "    base_cost = np.random.normal(mean_cost, std_dev_cost)\n",
        "\n",
        "    # Adjust cost based on conditions\n",
        "    if high_blood_pressure[i] == 1:\n",
        "        base_cost += 2700\n",
        "    if high_cholesterol[i] == 1:\n",
        "        base_cost += 2300\n",
        "    if diabetes[i] == 1:\n",
        "        base_cost += 2200\n",
        "    if preventative_services[i] == 1:\n",
        "        base_cost -= 2200\n",
        "\n",
        "    # Consider interaction effects\n",
        "    if high_blood_pressure[i] == 1 and diabetes[i] == 1:\n",
        "        base_cost += 500  # Additional cost for comorbidity\n",
        "\n",
        "    # Ensure the cost is within the specified range\n",
        "    costs[i] = min(max(base_cost, 100), 10000)\n",
        "\n",
        "# Create a DataFrame\n",
        "data = pd.DataFrame(\n",
        "    {\n",
        "        \"Hospital ID\": hospital_id,\n",
        "        \"High Blood Pressure\": high_blood_pressure,\n",
        "        \"High Cholesterol\": high_cholesterol,\n",
        "        \"Diabetes\": diabetes,\n",
        "        \"Preventative Services\": preventative_services,\n",
        "        \"Per Member Per Month Cost\": costs,\n",
        "    }\n",
        ")\n",
        "\n",
        "data.to_csv(\"data_pmpm.csv\", index=False)"
      ],
      "outputs": [],
      "execution_count": 22,
      "metadata": {
        "jupyter": {
          "source_hidden": false,
          "outputs_hidden": false
        },
        "nteract": {
          "transient": {
            "deleting": false
          }
        },
        "gather": {
          "logged": 1702408539785
        }
      }
    },
    {
      "cell_type": "code",
      "source": [
        "data.corr()"
      ],
      "outputs": [
        {
          "output_type": "execute_result",
          "execution_count": 23,
          "data": {
            "text/plain": "                           Hospital ID  High Blood Pressure  High Cholesterol  \\\nHospital ID                   1.000000             0.002485         -0.004357   \nHigh Blood Pressure           0.002485             1.000000          0.002841   \nHigh Cholesterol             -0.004357             0.002841          1.000000   \nDiabetes                     -0.005583            -0.014090         -0.022389   \nPreventative Services        -0.010173             0.000662         -0.004277   \nPer Member Per Month Cost    -0.008763             0.413886          0.378183   \n\n                           Diabetes  Preventative Services  \\\nHospital ID               -0.005583              -0.010173   \nHigh Blood Pressure       -0.014090               0.000662   \nHigh Cholesterol          -0.022389              -0.004277   \nDiabetes                   1.000000               0.003024   \nPreventative Services      0.003024               1.000000   \nPer Member Per Month Cost  0.313861              -0.359326   \n\n                           Per Member Per Month Cost  \nHospital ID                                -0.008763  \nHigh Blood Pressure                         0.413886  \nHigh Cholesterol                            0.378183  \nDiabetes                                    0.313861  \nPreventative Services                      -0.359326  \nPer Member Per Month Cost                   1.000000  ",
            "text/html": "<div>\n<style scoped>\n    .dataframe tbody tr th:only-of-type {\n        vertical-align: middle;\n    }\n\n    .dataframe tbody tr th {\n        vertical-align: top;\n    }\n\n    .dataframe thead th {\n        text-align: right;\n    }\n</style>\n<table border=\"1\" class=\"dataframe\">\n  <thead>\n    <tr style=\"text-align: right;\">\n      <th></th>\n      <th>Hospital ID</th>\n      <th>High Blood Pressure</th>\n      <th>High Cholesterol</th>\n      <th>Diabetes</th>\n      <th>Preventative Services</th>\n      <th>Per Member Per Month Cost</th>\n    </tr>\n  </thead>\n  <tbody>\n    <tr>\n      <th>Hospital ID</th>\n      <td>1.000000</td>\n      <td>0.002485</td>\n      <td>-0.004357</td>\n      <td>-0.005583</td>\n      <td>-0.010173</td>\n      <td>-0.008763</td>\n    </tr>\n    <tr>\n      <th>High Blood Pressure</th>\n      <td>0.002485</td>\n      <td>1.000000</td>\n      <td>0.002841</td>\n      <td>-0.014090</td>\n      <td>0.000662</td>\n      <td>0.413886</td>\n    </tr>\n    <tr>\n      <th>High Cholesterol</th>\n      <td>-0.004357</td>\n      <td>0.002841</td>\n      <td>1.000000</td>\n      <td>-0.022389</td>\n      <td>-0.004277</td>\n      <td>0.378183</td>\n    </tr>\n    <tr>\n      <th>Diabetes</th>\n      <td>-0.005583</td>\n      <td>-0.014090</td>\n      <td>-0.022389</td>\n      <td>1.000000</td>\n      <td>0.003024</td>\n      <td>0.313861</td>\n    </tr>\n    <tr>\n      <th>Preventative Services</th>\n      <td>-0.010173</td>\n      <td>0.000662</td>\n      <td>-0.004277</td>\n      <td>0.003024</td>\n      <td>1.000000</td>\n      <td>-0.359326</td>\n    </tr>\n    <tr>\n      <th>Per Member Per Month Cost</th>\n      <td>-0.008763</td>\n      <td>0.413886</td>\n      <td>0.378183</td>\n      <td>0.313861</td>\n      <td>-0.359326</td>\n      <td>1.000000</td>\n    </tr>\n  </tbody>\n</table>\n</div>"
          },
          "metadata": {}
        }
      ],
      "execution_count": 23,
      "metadata": {
        "jupyter": {
          "source_hidden": false,
          "outputs_hidden": false
        },
        "nteract": {
          "transient": {
            "deleting": false
          }
        },
        "gather": {
          "logged": 1702408542337
        }
      }
    }
  ],
  "metadata": {
    "kernelspec": {
      "name": "python38-azureml",
      "language": "python",
      "display_name": "Python 3.8 - AzureML"
    },
    "language_info": {
      "name": "python",
      "version": "3.8.5",
      "mimetype": "text/x-python",
      "codemirror_mode": {
        "name": "ipython",
        "version": 3
      },
      "pygments_lexer": "ipython3",
      "nbconvert_exporter": "python",
      "file_extension": ".py"
    },
    "microsoft": {
      "ms_spell_check": {
        "ms_spell_check_language": "en"
      },
      "host": {
        "AzureML": {
          "notebookHasBeenCompleted": true
        }
      }
    },
    "kernel_info": {
      "name": "python38-azureml"
    },
    "nteract": {
      "version": "nteract-front-end@1.0.0"
    }
  },
  "nbformat": 4,
  "nbformat_minor": 2
}