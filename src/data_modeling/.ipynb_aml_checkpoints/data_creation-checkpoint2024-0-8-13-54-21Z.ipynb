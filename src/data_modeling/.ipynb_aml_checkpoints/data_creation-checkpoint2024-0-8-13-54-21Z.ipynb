{
  "cells": [
    {
      "cell_type": "code",
      "source": [
        "%load_ext lab_black"
      ],
      "outputs": [],
      "execution_count": 1,
      "metadata": {
        "jupyter": {
          "source_hidden": false,
          "outputs_hidden": false
        },
        "nteract": {
          "transient": {
            "deleting": false
          }
        }
      }
    },
    {
      "cell_type": "code",
      "source": [
        "import numpy as np\n",
        "import pandas as pd\n",
        "from pyprojroot import here\n",
        "import os\n",
        "\n",
        "path_data = here(\"./data\")\n",
        "os.chdir(path_data)"
      ],
      "outputs": [],
      "execution_count": 2,
      "metadata": {
        "gather": {
          "logged": 1704721609231
        }
      }
    },
    {
      "cell_type": "code",
      "source": [
        "np.random.seed(0)\n",
        "n_rows_provider = 10000\n",
        "n_rows_member = 10000\n",
        "\n",
        "provider_index = np.random.normal(0, 1, n_rows_provider)\n",
        "member_index = np.random.normal(0, 1, n_rows_member)"
      ],
      "outputs": [],
      "execution_count": 3,
      "metadata": {
        "jupyter": {
          "source_hidden": false,
          "outputs_hidden": false
        },
        "nteract": {
          "transient": {
            "deleting": false
          }
        },
        "gather": {
          "logged": 1704721773784
        }
      }
    },
    {
      "cell_type": "code",
      "source": [
        "# Create member IDs\n",
        "member_ids = [\"M\" + str(i) for i in range(1, n_rows_member + 1)]\n",
        "\n",
        "# Create provider IDs\n",
        "provider_ids = [\"P\" + str(i) for i in range(1, n_rows_provider + 1)]"
      ],
      "outputs": [],
      "execution_count": 6,
      "metadata": {
        "jupyter": {
          "source_hidden": false,
          "outputs_hidden": false
        },
        "nteract": {
          "transient": {
            "deleting": false
          }
        },
        "gather": {
          "logged": 1704721857724
        }
      }
    },
    {
      "cell_type": "code",
      "source": [
        "import pandas as pd\n",
        "\n",
        "# Assuming provider_ids, member_ids, provider_index, and member_index are already defined\n",
        "\n",
        "# Convert lists to Pandas Series\n",
        "provider_ids_series = pd.Series(provider_ids)\n",
        "member_ids_series = pd.Series(member_ids)\n",
        "\n",
        "# Convert the numpy arrays to Pandas Series\n",
        "provider_index_series = pd.Series(provider_index)\n",
        "member_index_series = pd.Series(member_index)\n",
        "\n",
        "# Concatenate the Series\n",
        "data_provider_index = pd.concat([provider_ids_series, provider_index_series], axis=1)\n",
        "data_member_index = pd.concat([member_ids_series, member_index_series], axis=1)\n",
        "\n",
        "# Optionally, you can give names to the columns\n",
        "data_provider_index.columns = [\"Provider ID\", \"Provider index\"]\n",
        "data_provider_index = data_provider_index.round(2)\n",
        "data_member_index.columns = [\"Member ID\", \"Member index\"]\n",
        "data_member_index = data_member_index.round(2)"
      ],
      "outputs": [],
      "execution_count": 10,
      "metadata": {
        "jupyter": {
          "source_hidden": false,
          "outputs_hidden": false
        },
        "nteract": {
          "transient": {
            "deleting": false
          }
        },
        "gather": {
          "logged": 1704722053300
        }
      }
    }
  ],
  "metadata": {
    "kernelspec": {
      "name": "python38-azureml",
      "language": "python",
      "display_name": "Python 3.8 - AzureML"
    },
    "language_info": {
      "name": "python",
      "version": "3.8.5",
      "mimetype": "text/x-python",
      "codemirror_mode": {
        "name": "ipython",
        "version": 3
      },
      "pygments_lexer": "ipython3",
      "nbconvert_exporter": "python",
      "file_extension": ".py"
    },
    "microsoft": {
      "ms_spell_check": {
        "ms_spell_check_language": "en"
      },
      "host": {
        "AzureML": {
          "notebookHasBeenCompleted": true
        }
      }
    },
    "kernel_info": {
      "name": "python38-azureml"
    },
    "nteract": {
      "version": "nteract-front-end@1.0.0"
    }
  },
  "nbformat": 4,
  "nbformat_minor": 2
}