{
  "cells": [
    {
      "cell_type": "code",
      "source": [
        "%load_ext lab_black"
      ],
      "outputs": [],
      "execution_count": 1,
      "metadata": {
        "jupyter": {
          "source_hidden": false,
          "outputs_hidden": false
        },
        "nteract": {
          "transient": {
            "deleting": false
          }
        }
      }
    },
    {
      "cell_type": "code",
      "source": [
        "import numpy as np\n",
        "import pandas as pd\n",
        "from pyprojroot import here\n",
        "import os\n",
        "\n",
        "path_data = here(\"./data\")\n",
        "os.chdir(path_data)"
      ],
      "outputs": [],
      "execution_count": 2,
      "metadata": {
        "gather": {
          "logged": 1704734927976
        }
      }
    },
    {
      "cell_type": "code",
      "source": [
        "np.random.seed(0)\n",
        "n_rows_provider = 10000\n",
        "n_rows_member = 100000\n",
        "\n",
        "provider_index = np.random.normal(0, 1, n_rows_provider)\n",
        "member_index = np.random.normal(0, 1, n_rows_member)"
      ],
      "outputs": [],
      "execution_count": 3,
      "metadata": {
        "jupyter": {
          "source_hidden": false,
          "outputs_hidden": false
        },
        "nteract": {
          "transient": {
            "deleting": false
          }
        },
        "gather": {
          "logged": 1704734928973
        }
      }
    },
    {
      "cell_type": "code",
      "source": [
        "# Create member IDs\n",
        "member_ids = [\"M\" + str(i) for i in range(1, n_rows_member + 1)]\n",
        "\n",
        "# Create provider IDs\n",
        "provider_ids = [\"P\" + str(i) for i in range(1, n_rows_provider + 1)]"
      ],
      "outputs": [],
      "execution_count": 4,
      "metadata": {
        "jupyter": {
          "source_hidden": false,
          "outputs_hidden": false
        },
        "nteract": {
          "transient": {
            "deleting": false
          }
        },
        "gather": {
          "logged": 1704734930699
        }
      }
    },
    {
      "cell_type": "code",
      "source": [
        "import pandas as pd\n",
        "\n",
        "# Assuming provider_ids, member_ids, provider_index, and member_index are already defined\n",
        "\n",
        "# Convert lists to Pandas Series\n",
        "provider_ids_series = pd.Series(provider_ids)\n",
        "member_ids_series = pd.Series(member_ids)\n",
        "\n",
        "# Convert the numpy arrays to Pandas Series\n",
        "provider_index_series = pd.Series(provider_index)\n",
        "member_index_series = pd.Series(member_index)\n",
        "\n",
        "# Concatenate the Series\n",
        "data_provider_index = pd.concat([provider_ids_series, provider_index_series], axis=1)\n",
        "data_member_index = pd.concat([member_ids_series, member_index_series], axis=1)\n",
        "\n",
        "# Optionally, you can give names to the columns\n",
        "data_provider_index.columns = [\"Provider ID\", \"Provider index\"]\n",
        "data_provider_index = data_provider_index.round(2)\n",
        "data_member_index.columns = [\"Member ID\", \"Member index\"]\n",
        "data_member_index = data_member_index.round(2)"
      ],
      "outputs": [],
      "execution_count": 5,
      "metadata": {
        "jupyter": {
          "source_hidden": false,
          "outputs_hidden": false
        },
        "nteract": {
          "transient": {
            "deleting": false
          }
        },
        "gather": {
          "logged": 1704734932113
        }
      }
    },
    {
      "cell_type": "code",
      "source": [
        "# Number of members and providers\n",
        "\n",
        "# Generating PMPM\n",
        "mean_pmpm, sd_pmpm = 500, 100\n",
        "data_member_index[\"PMPM\"] = np.random.normal(mean_pmpm, sd_pmpm, n_rows_member)\n",
        "data_member_index[\"PMPM\"] = data_member_index[\"PMPM\"].clip(\n",
        "    0, 20000\n",
        ")  # Ensure PMPM is between 0 and 20000\n",
        "\n",
        "\n",
        "# Generating HEDIS, Prevention, Generic, Social Vulnerability Index\n",
        "data_member_index[\"HEDIS\"] = np.random.uniform(0, 1, n_rows_member)\n",
        "data_member_index[\"Prevention\"] = np.random.uniform(0, 1, n_rows_member)\n",
        "data_member_index[\"Generic\"] = np.random.uniform(0, 1, n_rows_member)\n",
        "data_member_index[\"SocialVulnerabilityIndex\"] = np.random.uniform(0, 1, n_rows_member)"
      ],
      "outputs": [],
      "execution_count": 6,
      "metadata": {
        "jupyter": {
          "source_hidden": false,
          "outputs_hidden": false
        },
        "nteract": {
          "transient": {
            "deleting": false
          }
        },
        "gather": {
          "logged": 1704734933892
        }
      }
    },
    {
      "cell_type": "code",
      "source": [
        "# Adjusting values based on provider index percentile\n",
        "# Assuming provider_index has a column 'ZScore' indicating the z-score\n",
        "bottom_10_percentile = data_member_index[\"Member index\"] <= data_member_index[\n",
        "    \"Member index\"\n",
        "].quantile(0.1)\n",
        "bottom_providers = data_member_index[bottom_10_percentile][\"Member ID\"]\n",
        "\n",
        "# Adjust values for members with providers in bottom 10 percentile\n",
        "\n",
        "adjustment_factor = 0.3  # Example adjustment factor\n",
        "data_member_index.loc[\n",
        "    data_member_index[\"Member ID\"].isin(bottom_providers), \"PMPM\"\n",
        "] *= (1 + adjustment_factor)\n",
        "data_member_index.loc[\n",
        "    data_member_index[\"Member ID\"].isin(bottom_providers), \"HEDIS\"\n",
        "] *= (1 - adjustment_factor)\n",
        "data_member_index.loc[\n",
        "    data_member_index[\"Member ID\"].isin(bottom_providers), \"Prevention\"\n",
        "] *= (1 - adjustment_factor)\n",
        "data_member_index.loc[\n",
        "    data_member_index[\"Member ID\"].isin(bottom_providers), \"Generic\"\n",
        "] *= (1 - adjustment_factor)\n",
        "data_member_index.loc[\n",
        "    data_member_index[\"Member ID\"].isin(bottom_providers), \"SocialVulnerabilityIndex\"\n",
        "] *= (1 + adjustment_factor)\n",
        "\n",
        "\n",
        "data_member_index"
      ],
      "outputs": [
        {
          "output_type": "execute_result",
          "execution_count": 7,
          "data": {
            "text/plain": "      Member ID  Member index        PMPM     HEDIS  Prevention   Generic  \\\n0            M1         -0.20  600.702482  0.221901    0.729904  0.921946   \n1            M2         -0.83  351.850541  0.152828    0.229193  0.478179   \n2            M3          1.73  404.559448  0.273582    0.946263  0.575789   \n3            M4          0.19  556.162112  0.983603    0.766034  0.281967   \n4            M5         -0.18  456.119559  0.266594    0.580547  0.972669   \n...         ...           ...         ...       ...         ...       ...   \n99995    M99996          1.68  620.222439  0.196263    0.720796  0.214165   \n99996    M99997          0.54  366.646315  0.089004    0.210240  0.262633   \n99997    M99998          0.71  540.351391  0.313010    0.581753  0.013070   \n99998    M99999         -0.45  572.711521  0.028841    0.051847  0.229373   \n99999   M100000          2.24  546.934734  0.987738    0.132967  0.378374   \n\n       SocialVulnerabilityIndex  \n0                      0.185367  \n1                      0.756308  \n2                      0.651382  \n3                      0.124627  \n4                      0.278419  \n...                         ...  \n99995                  0.176862  \n99996                  0.194530  \n99997                  0.945721  \n99998                  0.121864  \n99999                  0.857013  \n\n[100000 rows x 7 columns]",
            "text/html": "<div>\n<style scoped>\n    .dataframe tbody tr th:only-of-type {\n        vertical-align: middle;\n    }\n\n    .dataframe tbody tr th {\n        vertical-align: top;\n    }\n\n    .dataframe thead th {\n        text-align: right;\n    }\n</style>\n<table border=\"1\" class=\"dataframe\">\n  <thead>\n    <tr style=\"text-align: right;\">\n      <th></th>\n      <th>Member ID</th>\n      <th>Member index</th>\n      <th>PMPM</th>\n      <th>HEDIS</th>\n      <th>Prevention</th>\n      <th>Generic</th>\n      <th>SocialVulnerabilityIndex</th>\n    </tr>\n  </thead>\n  <tbody>\n    <tr>\n      <th>0</th>\n      <td>M1</td>\n      <td>-0.20</td>\n      <td>600.702482</td>\n      <td>0.221901</td>\n      <td>0.729904</td>\n      <td>0.921946</td>\n      <td>0.185367</td>\n    </tr>\n    <tr>\n      <th>1</th>\n      <td>M2</td>\n      <td>-0.83</td>\n      <td>351.850541</td>\n      <td>0.152828</td>\n      <td>0.229193</td>\n      <td>0.478179</td>\n      <td>0.756308</td>\n    </tr>\n    <tr>\n      <th>2</th>\n      <td>M3</td>\n      <td>1.73</td>\n      <td>404.559448</td>\n      <td>0.273582</td>\n      <td>0.946263</td>\n      <td>0.575789</td>\n      <td>0.651382</td>\n    </tr>\n    <tr>\n      <th>3</th>\n      <td>M4</td>\n      <td>0.19</td>\n      <td>556.162112</td>\n      <td>0.983603</td>\n      <td>0.766034</td>\n      <td>0.281967</td>\n      <td>0.124627</td>\n    </tr>\n    <tr>\n      <th>4</th>\n      <td>M5</td>\n      <td>-0.18</td>\n      <td>456.119559</td>\n      <td>0.266594</td>\n      <td>0.580547</td>\n      <td>0.972669</td>\n      <td>0.278419</td>\n    </tr>\n    <tr>\n      <th>...</th>\n      <td>...</td>\n      <td>...</td>\n      <td>...</td>\n      <td>...</td>\n      <td>...</td>\n      <td>...</td>\n      <td>...</td>\n    </tr>\n    <tr>\n      <th>99995</th>\n      <td>M99996</td>\n      <td>1.68</td>\n      <td>620.222439</td>\n      <td>0.196263</td>\n      <td>0.720796</td>\n      <td>0.214165</td>\n      <td>0.176862</td>\n    </tr>\n    <tr>\n      <th>99996</th>\n      <td>M99997</td>\n      <td>0.54</td>\n      <td>366.646315</td>\n      <td>0.089004</td>\n      <td>0.210240</td>\n      <td>0.262633</td>\n      <td>0.194530</td>\n    </tr>\n    <tr>\n      <th>99997</th>\n      <td>M99998</td>\n      <td>0.71</td>\n      <td>540.351391</td>\n      <td>0.313010</td>\n      <td>0.581753</td>\n      <td>0.013070</td>\n      <td>0.945721</td>\n    </tr>\n    <tr>\n      <th>99998</th>\n      <td>M99999</td>\n      <td>-0.45</td>\n      <td>572.711521</td>\n      <td>0.028841</td>\n      <td>0.051847</td>\n      <td>0.229373</td>\n      <td>0.121864</td>\n    </tr>\n    <tr>\n      <th>99999</th>\n      <td>M100000</td>\n      <td>2.24</td>\n      <td>546.934734</td>\n      <td>0.987738</td>\n      <td>0.132967</td>\n      <td>0.378374</td>\n      <td>0.857013</td>\n    </tr>\n  </tbody>\n</table>\n<p>100000 rows × 7 columns</p>\n</div>"
          },
          "metadata": {}
        }
      ],
      "execution_count": 7,
      "metadata": {
        "jupyter": {
          "source_hidden": false,
          "outputs_hidden": false
        },
        "nteract": {
          "transient": {
            "deleting": false
          }
        },
        "gather": {
          "logged": 1704734935768
        }
      }
    },
    {
      "cell_type": "code",
      "source": [
        "# Ensuring the values are within the specified ranges\n",
        "data_member_index[\"HEDIS\"] = data_member_index[\"HEDIS\"].clip(0, 1)\n",
        "data_member_index[\"Prevention\"] = data_member_index[\"Prevention\"].clip(0, 1)\n",
        "data_member_index[\"Generic\"] = data_member_index[\"Generic\"].clip(0, 1)\n",
        "data_member_index[\"SocialVulnerabilityIndex\"] = data_member_index[\n",
        "    \"SocialVulnerabilityIndex\"\n",
        "].clip(0, 1)\n",
        "\n",
        "data_member_index"
      ],
      "outputs": [
        {
          "output_type": "execute_result",
          "execution_count": 8,
          "data": {
            "text/plain": "      Member ID  Member index        PMPM     HEDIS  Prevention   Generic  \\\n0            M1         -0.20  600.702482  0.221901    0.729904  0.921946   \n1            M2         -0.83  351.850541  0.152828    0.229193  0.478179   \n2            M3          1.73  404.559448  0.273582    0.946263  0.575789   \n3            M4          0.19  556.162112  0.983603    0.766034  0.281967   \n4            M5         -0.18  456.119559  0.266594    0.580547  0.972669   \n...         ...           ...         ...       ...         ...       ...   \n99995    M99996          1.68  620.222439  0.196263    0.720796  0.214165   \n99996    M99997          0.54  366.646315  0.089004    0.210240  0.262633   \n99997    M99998          0.71  540.351391  0.313010    0.581753  0.013070   \n99998    M99999         -0.45  572.711521  0.028841    0.051847  0.229373   \n99999   M100000          2.24  546.934734  0.987738    0.132967  0.378374   \n\n       SocialVulnerabilityIndex  \n0                      0.185367  \n1                      0.756308  \n2                      0.651382  \n3                      0.124627  \n4                      0.278419  \n...                         ...  \n99995                  0.176862  \n99996                  0.194530  \n99997                  0.945721  \n99998                  0.121864  \n99999                  0.857013  \n\n[100000 rows x 7 columns]",
            "text/html": "<div>\n<style scoped>\n    .dataframe tbody tr th:only-of-type {\n        vertical-align: middle;\n    }\n\n    .dataframe tbody tr th {\n        vertical-align: top;\n    }\n\n    .dataframe thead th {\n        text-align: right;\n    }\n</style>\n<table border=\"1\" class=\"dataframe\">\n  <thead>\n    <tr style=\"text-align: right;\">\n      <th></th>\n      <th>Member ID</th>\n      <th>Member index</th>\n      <th>PMPM</th>\n      <th>HEDIS</th>\n      <th>Prevention</th>\n      <th>Generic</th>\n      <th>SocialVulnerabilityIndex</th>\n    </tr>\n  </thead>\n  <tbody>\n    <tr>\n      <th>0</th>\n      <td>M1</td>\n      <td>-0.20</td>\n      <td>600.702482</td>\n      <td>0.221901</td>\n      <td>0.729904</td>\n      <td>0.921946</td>\n      <td>0.185367</td>\n    </tr>\n    <tr>\n      <th>1</th>\n      <td>M2</td>\n      <td>-0.83</td>\n      <td>351.850541</td>\n      <td>0.152828</td>\n      <td>0.229193</td>\n      <td>0.478179</td>\n      <td>0.756308</td>\n    </tr>\n    <tr>\n      <th>2</th>\n      <td>M3</td>\n      <td>1.73</td>\n      <td>404.559448</td>\n      <td>0.273582</td>\n      <td>0.946263</td>\n      <td>0.575789</td>\n      <td>0.651382</td>\n    </tr>\n    <tr>\n      <th>3</th>\n      <td>M4</td>\n      <td>0.19</td>\n      <td>556.162112</td>\n      <td>0.983603</td>\n      <td>0.766034</td>\n      <td>0.281967</td>\n      <td>0.124627</td>\n    </tr>\n    <tr>\n      <th>4</th>\n      <td>M5</td>\n      <td>-0.18</td>\n      <td>456.119559</td>\n      <td>0.266594</td>\n      <td>0.580547</td>\n      <td>0.972669</td>\n      <td>0.278419</td>\n    </tr>\n    <tr>\n      <th>...</th>\n      <td>...</td>\n      <td>...</td>\n      <td>...</td>\n      <td>...</td>\n      <td>...</td>\n      <td>...</td>\n      <td>...</td>\n    </tr>\n    <tr>\n      <th>99995</th>\n      <td>M99996</td>\n      <td>1.68</td>\n      <td>620.222439</td>\n      <td>0.196263</td>\n      <td>0.720796</td>\n      <td>0.214165</td>\n      <td>0.176862</td>\n    </tr>\n    <tr>\n      <th>99996</th>\n      <td>M99997</td>\n      <td>0.54</td>\n      <td>366.646315</td>\n      <td>0.089004</td>\n      <td>0.210240</td>\n      <td>0.262633</td>\n      <td>0.194530</td>\n    </tr>\n    <tr>\n      <th>99997</th>\n      <td>M99998</td>\n      <td>0.71</td>\n      <td>540.351391</td>\n      <td>0.313010</td>\n      <td>0.581753</td>\n      <td>0.013070</td>\n      <td>0.945721</td>\n    </tr>\n    <tr>\n      <th>99998</th>\n      <td>M99999</td>\n      <td>-0.45</td>\n      <td>572.711521</td>\n      <td>0.028841</td>\n      <td>0.051847</td>\n      <td>0.229373</td>\n      <td>0.121864</td>\n    </tr>\n    <tr>\n      <th>99999</th>\n      <td>M100000</td>\n      <td>2.24</td>\n      <td>546.934734</td>\n      <td>0.987738</td>\n      <td>0.132967</td>\n      <td>0.378374</td>\n      <td>0.857013</td>\n    </tr>\n  </tbody>\n</table>\n<p>100000 rows × 7 columns</p>\n</div>"
          },
          "metadata": {}
        }
      ],
      "execution_count": 8,
      "metadata": {
        "jupyter": {
          "source_hidden": false,
          "outputs_hidden": false
        },
        "nteract": {
          "transient": {
            "deleting": false
          }
        },
        "gather": {
          "logged": 1704734938920
        }
      }
    },
    {
      "cell_type": "code",
      "source": [
        "data_member_high_risk = pd.DataFrame(bottom_10_percentile).rename(\n",
        "    columns={\"Member index\": \"High risk member\"}\n",
        ")\n",
        "\n",
        "data_member_high_risk"
      ],
      "outputs": [
        {
          "output_type": "execute_result",
          "execution_count": 9,
          "data": {
            "text/plain": "       High risk member\n0                 False\n1                 False\n2                 False\n3                 False\n4                 False\n...                 ...\n99995             False\n99996             False\n99997             False\n99998             False\n99999             False\n\n[100000 rows x 1 columns]",
            "text/html": "<div>\n<style scoped>\n    .dataframe tbody tr th:only-of-type {\n        vertical-align: middle;\n    }\n\n    .dataframe tbody tr th {\n        vertical-align: top;\n    }\n\n    .dataframe thead th {\n        text-align: right;\n    }\n</style>\n<table border=\"1\" class=\"dataframe\">\n  <thead>\n    <tr style=\"text-align: right;\">\n      <th></th>\n      <th>High risk member</th>\n    </tr>\n  </thead>\n  <tbody>\n    <tr>\n      <th>0</th>\n      <td>False</td>\n    </tr>\n    <tr>\n      <th>1</th>\n      <td>False</td>\n    </tr>\n    <tr>\n      <th>2</th>\n      <td>False</td>\n    </tr>\n    <tr>\n      <th>3</th>\n      <td>False</td>\n    </tr>\n    <tr>\n      <th>4</th>\n      <td>False</td>\n    </tr>\n    <tr>\n      <th>...</th>\n      <td>...</td>\n    </tr>\n    <tr>\n      <th>99995</th>\n      <td>False</td>\n    </tr>\n    <tr>\n      <th>99996</th>\n      <td>False</td>\n    </tr>\n    <tr>\n      <th>99997</th>\n      <td>False</td>\n    </tr>\n    <tr>\n      <th>99998</th>\n      <td>False</td>\n    </tr>\n    <tr>\n      <th>99999</th>\n      <td>False</td>\n    </tr>\n  </tbody>\n</table>\n<p>100000 rows × 1 columns</p>\n</div>"
          },
          "metadata": {}
        }
      ],
      "execution_count": 9,
      "metadata": {
        "jupyter": {
          "source_hidden": false,
          "outputs_hidden": false
        },
        "nteract": {
          "transient": {
            "deleting": false
          }
        },
        "gather": {
          "logged": 1704734940921
        }
      }
    },
    {
      "cell_type": "code",
      "source": [
        "# Add back high risk index\n",
        "\n",
        "data_member_index = pd.concat([data_member_index, data_member_high_risk], axis=1)"
      ],
      "outputs": [],
      "execution_count": 10,
      "metadata": {
        "jupyter": {
          "source_hidden": false,
          "outputs_hidden": false
        },
        "nteract": {
          "transient": {
            "deleting": false
          }
        },
        "gather": {
          "logged": 1704734942963
        }
      }
    },
    {
      "cell_type": "code",
      "source": [
        "data_member_index.columns"
      ],
      "outputs": [
        {
          "output_type": "execute_result",
          "execution_count": 11,
          "data": {
            "text/plain": "Index(['Member ID', 'Member index', 'PMPM', 'HEDIS', 'Prevention', 'Generic',\n       'SocialVulnerabilityIndex', 'High risk member'],\n      dtype='object')"
          },
          "metadata": {}
        }
      ],
      "execution_count": 11,
      "metadata": {
        "jupyter": {
          "source_hidden": false,
          "outputs_hidden": false
        },
        "nteract": {
          "transient": {
            "deleting": false
          }
        },
        "gather": {
          "logged": 1704734945755
        }
      }
    },
    {
      "cell_type": "code",
      "source": [
        "data_member_index.to_csv(\"data_member_index.csv\", index=False)"
      ],
      "outputs": [],
      "execution_count": 16,
      "metadata": {
        "jupyter": {
          "source_hidden": false,
          "outputs_hidden": false
        },
        "nteract": {
          "transient": {
            "deleting": false
          }
        },
        "gather": {
          "logged": 1704735525072
        }
      }
    },
    {
      "cell_type": "code",
      "source": [
        "data_member_index_means = (\n",
        "    data_member_index.drop(columns=[\"Member ID\"])\n",
        "    .groupby(\"High risk member\")\n",
        "    .mean()\n",
        "    .round(2)\n",
        ").reset_index()\n",
        "\n",
        "def what_if_analysis(n_members_to_move, high_risk_pmpm, average_pmpm):\n",
        "    \"\"\"\n",
        "    Calculate the savings in PMPM by moving a specified number of high-risk members to average risk.\n",
        "\n",
        "    Args:\n",
        "    n_members_to_move (int): Number of high-risk members to move to average risk.\n",
        "    high_risk_pmpm (float): Average PMPM for high-risk members.\n",
        "    average_pmpm (float): Average PMPM for average members.\n",
        "\n",
        "    Returns:\n",
        "    float: Total savings in PMPM.\n",
        "    \"\"\"\n",
        "    # Calculate the difference in PMPM for one member\n",
        "    pmpm_difference_per_member = high_risk_pmpm - average_pmpm\n",
        "\n",
        "    # Calculate total savings\n",
        "    total_savings = pmpm_difference_per_member * n_members_to_move\n",
        "\n",
        "    return total_savings\n",
        "\n",
        "\n",
        "# Example usage\n",
        "high_risk_average_pmpm = data_member_index_means[\n",
        "    data_member_index_means[\"High risk member\"] == True\n",
        "][\"PMPM\"].reset_index(drop=True)\n",
        "# Example average PMPM for high-risk members\n",
        "average_member_pmpm = data_member_index_means[\n",
        "    data_member_index_means[\"High risk member\"] == False\n",
        "][\"PMPM\"].reset_index(\n",
        "    drop=True\n",
        ")  # Example average PMPM for average members\n",
        "n_members_to_move = 10  # Number of members to move from high risk to average\n",
        "\n",
        "savings = what_if_analysis(\n",
        "    n_members_to_move, high_risk_average_pmpm, average_member_pmpm\n",
        ")\n",
        "print(f\"Total savings in PMPM: {savings}\")"
      ],
      "outputs": [
        {
          "output_type": "stream",
          "name": "stdout",
          "text": "Total savings in PMPM: 0    1507.2\nName: PMPM, dtype: float64\n"
        }
      ],
      "execution_count": 14,
      "metadata": {
        "jupyter": {
          "source_hidden": false,
          "outputs_hidden": false
        },
        "nteract": {
          "transient": {
            "deleting": false
          }
        },
        "gather": {
          "logged": 1704734999735
        }
      }
    }
  ],
  "metadata": {
    "kernelspec": {
      "name": "python38-azureml",
      "language": "python",
      "display_name": "Python 3.8 - AzureML"
    },
    "language_info": {
      "name": "python",
      "version": "3.8.5",
      "mimetype": "text/x-python",
      "codemirror_mode": {
        "name": "ipython",
        "version": 3
      },
      "pygments_lexer": "ipython3",
      "nbconvert_exporter": "python",
      "file_extension": ".py"
    },
    "microsoft": {
      "ms_spell_check": {
        "ms_spell_check_language": "en"
      },
      "host": {
        "AzureML": {
          "notebookHasBeenCompleted": true
        }
      }
    },
    "kernel_info": {
      "name": "python38-azureml"
    },
    "nteract": {
      "version": "nteract-front-end@1.0.0"
    }
  },
  "nbformat": 4,
  "nbformat_minor": 2
}