{
  "cells": [
    {
      "cell_type": "code",
      "source": [
        "%load_ext lab_black"
      ],
      "outputs": [],
      "execution_count": 1,
      "metadata": {
        "jupyter": {
          "source_hidden": false,
          "outputs_hidden": false
        },
        "nteract": {
          "transient": {
            "deleting": false
          }
        }
      }
    },
    {
      "cell_type": "code",
      "source": [
        "from pyprojroot import here\n",
        "import os\n",
        "from skimpy import clean_columns\n",
        "import pandas as pd\n",
        "import numpy as np\n",
        "import xgboost as xgb\n",
        "from sklearn.model_selection import train_test_split\n",
        "import shap\n",
        "import joblib\n",
        "from joblib import load\n",
        "\n",
        "path_data = here(\"./data\")\n",
        "os.chdir(path_data)\n",
        "\n",
        "data = pd.read_csv(\"data_pmpm.csv\")\n",
        "data_predict = data.drop(columns=[\"Hospital ID\", \"Per Member Per Month Cost\"])\n",
        "# Load the model\n",
        "model = joblib.load(\"model_drivers.joblib\")"
      ],
      "outputs": [],
      "execution_count": 9,
      "metadata": {
        "jupyter": {
          "source_hidden": false,
          "outputs_hidden": false
        },
        "nteract": {
          "transient": {
            "deleting": false
          }
        },
        "gather": {
          "logged": 1702400955962
        }
      }
    },
    {
      "cell_type": "markdown",
      "source": [
        "Get the actual percentage of members with ER visits in the last 30 days for each hospital\n",
        "\n",
        "Show them their average percentages for all four variables.\n",
        "\n",
        "Add some noise for the features by Hospital ID\n",
        "\n",
        "Then create a function to allow for simulated data with the exact percentage that someone shows"
      ],
      "metadata": {
        "nteract": {
          "transient": {
            "deleting": false
          }
        }
      }
    },
    {
      "cell_type": "code",
      "source": [
        "data.groupby(\"Hospital ID\").mean().reset_index().round(2)"
      ],
      "outputs": [
        {
          "output_type": "execute_result",
          "execution_count": 10,
          "data": {
            "text/plain": "   Hospital ID  High Blood Pressure  High Cholesterol  Diabetes  \\\n0            1                 0.29              0.41      0.25   \n1            2                 0.28              0.40      0.24   \n2            3                 0.29              0.40      0.24   \n\n   Preventative Services  Per Member Per Month Cost  \n0                   0.51                    5123.60  \n1                   0.50                    5005.30  \n2                   0.49                    5063.65  ",
            "text/html": "<div>\n<style scoped>\n    .dataframe tbody tr th:only-of-type {\n        vertical-align: middle;\n    }\n\n    .dataframe tbody tr th {\n        vertical-align: top;\n    }\n\n    .dataframe thead th {\n        text-align: right;\n    }\n</style>\n<table border=\"1\" class=\"dataframe\">\n  <thead>\n    <tr style=\"text-align: right;\">\n      <th></th>\n      <th>Hospital ID</th>\n      <th>High Blood Pressure</th>\n      <th>High Cholesterol</th>\n      <th>Diabetes</th>\n      <th>Preventative Services</th>\n      <th>Per Member Per Month Cost</th>\n    </tr>\n  </thead>\n  <tbody>\n    <tr>\n      <th>0</th>\n      <td>1</td>\n      <td>0.29</td>\n      <td>0.41</td>\n      <td>0.25</td>\n      <td>0.51</td>\n      <td>5123.60</td>\n    </tr>\n    <tr>\n      <th>1</th>\n      <td>2</td>\n      <td>0.28</td>\n      <td>0.40</td>\n      <td>0.24</td>\n      <td>0.50</td>\n      <td>5005.30</td>\n    </tr>\n    <tr>\n      <th>2</th>\n      <td>3</td>\n      <td>0.29</td>\n      <td>0.40</td>\n      <td>0.24</td>\n      <td>0.49</td>\n      <td>5063.65</td>\n    </tr>\n  </tbody>\n</table>\n</div>"
          },
          "metadata": {}
        }
      ],
      "execution_count": 10,
      "metadata": {
        "jupyter": {
          "source_hidden": false,
          "outputs_hidden": false
        },
        "nteract": {
          "transient": {
            "deleting": false
          }
        },
        "gather": {
          "logged": 1702400966836
        }
      }
    },
    {
      "cell_type": "markdown",
      "source": [
        "Step: Create a function that generates "
      ],
      "metadata": {
        "nteract": {
          "transient": {
            "deleting": false
          }
        }
      }
    },
    {
      "cell_type": "code",
      "source": [
        "import pandas as pd\n",
        "import numpy as np\n",
        "\n",
        "\n",
        "def adjust_binary_percentages(df, **column_percentages):\n",
        "    \"\"\"\n",
        "    Adjusts the percentage of 1's in each specified column of a binary DataFrame.\n",
        "\n",
        "    Args:\n",
        "    df (pd.DataFrame): DataFrame with binary values.\n",
        "    column_percentages (dict): A dictionary where keys are column names and values are the new desired percentages of 1's.\n",
        "\n",
        "    Returns:\n",
        "    pd.DataFrame: Modified DataFrame.\n",
        "    \"\"\"\n",
        "\n",
        "    for column, percentage in column_percentages.items():\n",
        "        if column not in df.columns:\n",
        "            raise ValueError(f\"Column {column} not found in DataFrame\")\n",
        "\n",
        "        # Calculate current percentage of 1's\n",
        "        current_percentage = df[column].mean()\n",
        "\n",
        "        # Calculate the desired number of 1's\n",
        "        target_count = int(df.shape[0] * percentage)\n",
        "\n",
        "        # Find indices where changes are needed\n",
        "        ones_indices = df[df[column] == 1].index\n",
        "        zeros_indices = df[df[column] == 0].index\n",
        "\n",
        "        if target_count > ones_indices.size:  # Need to add more 1's\n",
        "            change_count = target_count - ones_indices.size\n",
        "            indices_to_change = np.random.choice(\n",
        "                zeros_indices, change_count, replace=False\n",
        "            )\n",
        "            df.loc[indices_to_change, column] = 1\n",
        "        else:  # Need to remove some 1's\n",
        "            change_count = ones_indices.size - target_count\n",
        "            indices_to_change = np.random.choice(\n",
        "                ones_indices, change_count, replace=False\n",
        "            )\n",
        "            df.loc[indices_to_change, column] = 0\n",
        "\n",
        "    return df"
      ],
      "outputs": [],
      "execution_count": 11,
      "metadata": {
        "jupyter": {
          "source_hidden": false,
          "outputs_hidden": false
        },
        "nteract": {
          "transient": {
            "deleting": false
          }
        },
        "gather": {
          "logged": 1702401053153
        }
      }
    },
    {
      "cell_type": "code",
      "source": [
        "data_predict_adjust = clean_columns(data_predict.copy())\n",
        "data_predict_adjust"
      ],
      "outputs": [
        {
          "output_type": "execute_result",
          "execution_count": 12,
          "data": {
            "text/plain": "      high_blood_pressure  high_cholesterol  diabetes  preventative_services\n0                       0                 0         0                      1\n1                       1                 0         0                      0\n2                       1                 0         0                      1\n3                       0                 1         0                      0\n4                       0                 0         0                      1\n...                   ...               ...       ...                    ...\n9995                    1                 1         1                      1\n9996                    1                 0         0                      1\n9997                    1                 0         0                      0\n9998                    0                 0         0                      0\n9999                    0                 0         0                      0\n\n[10000 rows x 4 columns]",
            "text/html": "<div>\n<style scoped>\n    .dataframe tbody tr th:only-of-type {\n        vertical-align: middle;\n    }\n\n    .dataframe tbody tr th {\n        vertical-align: top;\n    }\n\n    .dataframe thead th {\n        text-align: right;\n    }\n</style>\n<table border=\"1\" class=\"dataframe\">\n  <thead>\n    <tr style=\"text-align: right;\">\n      <th></th>\n      <th>high_blood_pressure</th>\n      <th>high_cholesterol</th>\n      <th>diabetes</th>\n      <th>preventative_services</th>\n    </tr>\n  </thead>\n  <tbody>\n    <tr>\n      <th>0</th>\n      <td>0</td>\n      <td>0</td>\n      <td>0</td>\n      <td>1</td>\n    </tr>\n    <tr>\n      <th>1</th>\n      <td>1</td>\n      <td>0</td>\n      <td>0</td>\n      <td>0</td>\n    </tr>\n    <tr>\n      <th>2</th>\n      <td>1</td>\n      <td>0</td>\n      <td>0</td>\n      <td>1</td>\n    </tr>\n    <tr>\n      <th>3</th>\n      <td>0</td>\n      <td>1</td>\n      <td>0</td>\n      <td>0</td>\n    </tr>\n    <tr>\n      <th>4</th>\n      <td>0</td>\n      <td>0</td>\n      <td>0</td>\n      <td>1</td>\n    </tr>\n    <tr>\n      <th>...</th>\n      <td>...</td>\n      <td>...</td>\n      <td>...</td>\n      <td>...</td>\n    </tr>\n    <tr>\n      <th>9995</th>\n      <td>1</td>\n      <td>1</td>\n      <td>1</td>\n      <td>1</td>\n    </tr>\n    <tr>\n      <th>9996</th>\n      <td>1</td>\n      <td>0</td>\n      <td>0</td>\n      <td>1</td>\n    </tr>\n    <tr>\n      <th>9997</th>\n      <td>1</td>\n      <td>0</td>\n      <td>0</td>\n      <td>0</td>\n    </tr>\n    <tr>\n      <th>9998</th>\n      <td>0</td>\n      <td>0</td>\n      <td>0</td>\n      <td>0</td>\n    </tr>\n    <tr>\n      <th>9999</th>\n      <td>0</td>\n      <td>0</td>\n      <td>0</td>\n      <td>0</td>\n    </tr>\n  </tbody>\n</table>\n<p>10000 rows × 4 columns</p>\n</div>"
          },
          "metadata": {}
        }
      ],
      "execution_count": 12,
      "metadata": {
        "jupyter": {
          "source_hidden": false,
          "outputs_hidden": false
        },
        "nteract": {
          "transient": {
            "deleting": false
          }
        },
        "gather": {
          "logged": 1702401074933
        }
      }
    },
    {
      "cell_type": "code",
      "source": [
        "data_predict_adjust = adjust_binary_percentages(\n",
        "    df=data_predict_adjust,\n",
        "    high_blood_pressure=0.5,\n",
        "    high_cholesterol=0.3,\n",
        "    diabetes=0.4,\n",
        "    preventative_services=0.5,\n",
        ")\n",
        "data_predict_adjust.rename(\n",
        "    columns={\n",
        "        \"high_blood_pressure\": \"High Blood Pressure\",\n",
        "        \"high_cholesterol\": \"High Cholesterol\",\n",
        "        \"diabetes\": \"Diabetes\",\n",
        "        \"preventative_services\": \"Preventative Services\",\n",
        "    },\n",
        "    inplace=True,\n",
        ")\n",
        "\n",
        "data_predict_adjust"
      ],
      "outputs": [
        {
          "output_type": "execute_result",
          "execution_count": 13,
          "data": {
            "text/plain": "      High Blood Pressure  High Cholesterol  Diabetes  Preventative Services\n0                       0                 0         0                      1\n1                       1                 0         0                      0\n2                       1                 0         0                      1\n3                       1                 1         0                      0\n4                       1                 0         0                      1\n...                   ...               ...       ...                    ...\n9995                    1                 1         1                      1\n9996                    1                 0         1                      1\n9997                    1                 0         0                      0\n9998                    0                 0         1                      0\n9999                    0                 0         0                      0\n\n[10000 rows x 4 columns]",
            "text/html": "<div>\n<style scoped>\n    .dataframe tbody tr th:only-of-type {\n        vertical-align: middle;\n    }\n\n    .dataframe tbody tr th {\n        vertical-align: top;\n    }\n\n    .dataframe thead th {\n        text-align: right;\n    }\n</style>\n<table border=\"1\" class=\"dataframe\">\n  <thead>\n    <tr style=\"text-align: right;\">\n      <th></th>\n      <th>High Blood Pressure</th>\n      <th>High Cholesterol</th>\n      <th>Diabetes</th>\n      <th>Preventative Services</th>\n    </tr>\n  </thead>\n  <tbody>\n    <tr>\n      <th>0</th>\n      <td>0</td>\n      <td>0</td>\n      <td>0</td>\n      <td>1</td>\n    </tr>\n    <tr>\n      <th>1</th>\n      <td>1</td>\n      <td>0</td>\n      <td>0</td>\n      <td>0</td>\n    </tr>\n    <tr>\n      <th>2</th>\n      <td>1</td>\n      <td>0</td>\n      <td>0</td>\n      <td>1</td>\n    </tr>\n    <tr>\n      <th>3</th>\n      <td>1</td>\n      <td>1</td>\n      <td>0</td>\n      <td>0</td>\n    </tr>\n    <tr>\n      <th>4</th>\n      <td>1</td>\n      <td>0</td>\n      <td>0</td>\n      <td>1</td>\n    </tr>\n    <tr>\n      <th>...</th>\n      <td>...</td>\n      <td>...</td>\n      <td>...</td>\n      <td>...</td>\n    </tr>\n    <tr>\n      <th>9995</th>\n      <td>1</td>\n      <td>1</td>\n      <td>1</td>\n      <td>1</td>\n    </tr>\n    <tr>\n      <th>9996</th>\n      <td>1</td>\n      <td>0</td>\n      <td>1</td>\n      <td>1</td>\n    </tr>\n    <tr>\n      <th>9997</th>\n      <td>1</td>\n      <td>0</td>\n      <td>0</td>\n      <td>0</td>\n    </tr>\n    <tr>\n      <th>9998</th>\n      <td>0</td>\n      <td>0</td>\n      <td>1</td>\n      <td>0</td>\n    </tr>\n    <tr>\n      <th>9999</th>\n      <td>0</td>\n      <td>0</td>\n      <td>0</td>\n      <td>0</td>\n    </tr>\n  </tbody>\n</table>\n<p>10000 rows × 4 columns</p>\n</div>"
          },
          "metadata": {}
        }
      ],
      "execution_count": 13,
      "metadata": {
        "jupyter": {
          "source_hidden": false,
          "outputs_hidden": false
        },
        "nteract": {
          "transient": {
            "deleting": false
          }
        },
        "gather": {
          "logged": 1702401117249
        }
      }
    },
    {
      "cell_type": "code",
      "source": [
        "# Make predictions (opxtional, to evaluate model)\n",
        "predictions = model.predict(data_predict_adjust)\n",
        "predictions_pd = pd.DataFrame(predictions).rename(columns = {0:'Predictions'})\n",
        "predictions_pd"
      ],
      "outputs": [
        {
          "output_type": "stream",
          "name": "stderr",
          "text": "pandas.Int64Index is deprecated and will be removed from pandas in a future version. Use pandas.Index with the appropriate dtype instead.\n"
        },
        {
          "output_type": "error",
          "ename": "ValueError",
          "evalue": "feature_names mismatch: ['Age 60+', 'High Cholesterol', 'Diabetes', 'Preventative Services'] ['High Blood Pressure', 'High Cholesterol', 'Diabetes', 'Preventative Services']\nexpected Age 60+ in input data\ntraining data did not have the following fields: High Blood Pressure",
          "traceback": [
            "\u001b[0;31m---------------------------------------------------------------------------\u001b[0m",
            "\u001b[0;31mValueError\u001b[0m                                Traceback (most recent call last)",
            "Cell \u001b[0;32mIn[14], line 2\u001b[0m\n\u001b[1;32m      1\u001b[0m \u001b[38;5;66;03m# Make predictions (opxtional, to evaluate model)\u001b[39;00m\n\u001b[0;32m----> 2\u001b[0m predictions \u001b[38;5;241m=\u001b[39m \u001b[43mmodel\u001b[49m\u001b[38;5;241;43m.\u001b[39;49m\u001b[43mpredict\u001b[49m\u001b[43m(\u001b[49m\u001b[43mdata_predict_adjust\u001b[49m\u001b[43m)\u001b[49m\n\u001b[1;32m      3\u001b[0m predictions_pd \u001b[38;5;241m=\u001b[39m pd\u001b[38;5;241m.\u001b[39mDataFrame(predictions)\u001b[38;5;241m.\u001b[39mrename(columns \u001b[38;5;241m=\u001b[39m {\u001b[38;5;241m0\u001b[39m:\u001b[38;5;124m'\u001b[39m\u001b[38;5;124mPredictions\u001b[39m\u001b[38;5;124m'\u001b[39m})\n\u001b[1;32m      4\u001b[0m predictions_pd\n",
            "File \u001b[0;32m/anaconda/envs/azureml_py38/lib/python3.8/site-packages/xgboost/sklearn.py:970\u001b[0m, in \u001b[0;36mXGBClassifier.predict\u001b[0;34m(self, data, output_margin, ntree_limit, validate_features, base_margin)\u001b[0m\n\u001b[1;32m    968\u001b[0m \u001b[38;5;28;01mif\u001b[39;00m ntree_limit \u001b[38;5;129;01mis\u001b[39;00m \u001b[38;5;28;01mNone\u001b[39;00m:\n\u001b[1;32m    969\u001b[0m     ntree_limit \u001b[38;5;241m=\u001b[39m \u001b[38;5;28mgetattr\u001b[39m(\u001b[38;5;28mself\u001b[39m, \u001b[38;5;124m\"\u001b[39m\u001b[38;5;124mbest_ntree_limit\u001b[39m\u001b[38;5;124m\"\u001b[39m, \u001b[38;5;241m0\u001b[39m)\n\u001b[0;32m--> 970\u001b[0m class_probs \u001b[38;5;241m=\u001b[39m \u001b[38;5;28;43mself\u001b[39;49m\u001b[38;5;241;43m.\u001b[39;49m\u001b[43mget_booster\u001b[49m\u001b[43m(\u001b[49m\u001b[43m)\u001b[49m\u001b[38;5;241;43m.\u001b[39;49m\u001b[43mpredict\u001b[49m\u001b[43m(\u001b[49m\n\u001b[1;32m    971\u001b[0m \u001b[43m    \u001b[49m\u001b[43mtest_dmatrix\u001b[49m\u001b[43m,\u001b[49m\n\u001b[1;32m    972\u001b[0m \u001b[43m    \u001b[49m\u001b[43moutput_margin\u001b[49m\u001b[38;5;241;43m=\u001b[39;49m\u001b[43moutput_margin\u001b[49m\u001b[43m,\u001b[49m\n\u001b[1;32m    973\u001b[0m \u001b[43m    \u001b[49m\u001b[43mntree_limit\u001b[49m\u001b[38;5;241;43m=\u001b[39;49m\u001b[43mntree_limit\u001b[49m\u001b[43m,\u001b[49m\n\u001b[1;32m    974\u001b[0m \u001b[43m    \u001b[49m\u001b[43mvalidate_features\u001b[49m\u001b[38;5;241;43m=\u001b[39;49m\u001b[43mvalidate_features\u001b[49m\u001b[43m)\u001b[49m\n\u001b[1;32m    975\u001b[0m \u001b[38;5;28;01mif\u001b[39;00m output_margin:\n\u001b[1;32m    976\u001b[0m     \u001b[38;5;66;03m# If output_margin is active, simply return the scores\u001b[39;00m\n\u001b[1;32m    977\u001b[0m     \u001b[38;5;28;01mreturn\u001b[39;00m class_probs\n",
            "File \u001b[0;32m/anaconda/envs/azureml_py38/lib/python3.8/site-packages/xgboost/core.py:1485\u001b[0m, in \u001b[0;36mBooster.predict\u001b[0;34m(self, data, output_margin, ntree_limit, pred_leaf, pred_contribs, approx_contribs, pred_interactions, validate_features, training)\u001b[0m\n\u001b[1;32m   1481\u001b[0m     \u001b[38;5;28;01mraise\u001b[39;00m \u001b[38;5;167;01mTypeError\u001b[39;00m(\u001b[38;5;124m'\u001b[39m\u001b[38;5;124mExpecting data to be a DMatrix object, got: \u001b[39m\u001b[38;5;124m'\u001b[39m,\n\u001b[1;32m   1482\u001b[0m                     \u001b[38;5;28mtype\u001b[39m(data))\n\u001b[1;32m   1484\u001b[0m \u001b[38;5;28;01mif\u001b[39;00m validate_features:\n\u001b[0;32m-> 1485\u001b[0m     \u001b[38;5;28;43mself\u001b[39;49m\u001b[38;5;241;43m.\u001b[39;49m\u001b[43m_validate_features\u001b[49m\u001b[43m(\u001b[49m\u001b[43mdata\u001b[49m\u001b[43m)\u001b[49m\n\u001b[1;32m   1487\u001b[0m length \u001b[38;5;241m=\u001b[39m c_bst_ulong()\n\u001b[1;32m   1488\u001b[0m preds \u001b[38;5;241m=\u001b[39m ctypes\u001b[38;5;241m.\u001b[39mPOINTER(ctypes\u001b[38;5;241m.\u001b[39mc_float)()\n",
            "File \u001b[0;32m/anaconda/envs/azureml_py38/lib/python3.8/site-packages/xgboost/core.py:2060\u001b[0m, in \u001b[0;36mBooster._validate_features\u001b[0;34m(self, data)\u001b[0m\n\u001b[1;32m   2056\u001b[0m \u001b[38;5;28;01mif\u001b[39;00m my_missing:\n\u001b[1;32m   2057\u001b[0m     msg \u001b[38;5;241m+\u001b[39m\u001b[38;5;241m=\u001b[39m (\u001b[38;5;124m'\u001b[39m\u001b[38;5;130;01m\\n\u001b[39;00m\u001b[38;5;124mtraining data did not have the following fields: \u001b[39m\u001b[38;5;124m'\u001b[39m \u001b[38;5;241m+\u001b[39m\n\u001b[1;32m   2058\u001b[0m             \u001b[38;5;124m'\u001b[39m\u001b[38;5;124m, \u001b[39m\u001b[38;5;124m'\u001b[39m\u001b[38;5;241m.\u001b[39mjoin(\u001b[38;5;28mstr\u001b[39m(s) \u001b[38;5;28;01mfor\u001b[39;00m s \u001b[38;5;129;01min\u001b[39;00m my_missing))\n\u001b[0;32m-> 2060\u001b[0m \u001b[38;5;28;01mraise\u001b[39;00m \u001b[38;5;167;01mValueError\u001b[39;00m(msg\u001b[38;5;241m.\u001b[39mformat(\u001b[38;5;28mself\u001b[39m\u001b[38;5;241m.\u001b[39mfeature_names,\n\u001b[1;32m   2061\u001b[0m                             data\u001b[38;5;241m.\u001b[39mfeature_names))\n",
            "\u001b[0;31mValueError\u001b[0m: feature_names mismatch: ['Age 60+', 'High Cholesterol', 'Diabetes', 'Preventative Services'] ['High Blood Pressure', 'High Cholesterol', 'Diabetes', 'Preventative Services']\nexpected Age 60+ in input data\ntraining data did not have the following fields: High Blood Pressure"
          ]
        }
      ],
      "execution_count": 14,
      "metadata": {
        "jupyter": {
          "source_hidden": false,
          "outputs_hidden": false
        },
        "nteract": {
          "transient": {
            "deleting": false
          }
        },
        "gather": {
          "logged": 1702401123198
        }
      }
    },
    {
      "cell_type": "code",
      "source": [
        "data_no_member_id.groupby(\"Hospital ID\").mean().reset_index().round(2)"
      ],
      "outputs": [
        {
          "output_type": "execute_result",
          "execution_count": 28,
          "data": {
            "text/plain": "   Hospital ID  Age 60+  High Cholesterol  Diabetes  Preventative Services  \\\n0            1     0.29              0.41      0.25                   0.51   \n1            2     0.28              0.40      0.24                   0.50   \n2            3     0.29              0.40      0.24                   0.49   \n\n   ER Visit  \n0      0.28  \n1      0.27  \n2      0.28  ",
            "text/html": "<div>\n<style scoped>\n    .dataframe tbody tr th:only-of-type {\n        vertical-align: middle;\n    }\n\n    .dataframe tbody tr th {\n        vertical-align: top;\n    }\n\n    .dataframe thead th {\n        text-align: right;\n    }\n</style>\n<table border=\"1\" class=\"dataframe\">\n  <thead>\n    <tr style=\"text-align: right;\">\n      <th></th>\n      <th>Hospital ID</th>\n      <th>Age 60+</th>\n      <th>High Cholesterol</th>\n      <th>Diabetes</th>\n      <th>Preventative Services</th>\n      <th>ER Visit</th>\n    </tr>\n  </thead>\n  <tbody>\n    <tr>\n      <th>0</th>\n      <td>1</td>\n      <td>0.29</td>\n      <td>0.41</td>\n      <td>0.25</td>\n      <td>0.51</td>\n      <td>0.28</td>\n    </tr>\n    <tr>\n      <th>1</th>\n      <td>2</td>\n      <td>0.28</td>\n      <td>0.40</td>\n      <td>0.24</td>\n      <td>0.50</td>\n      <td>0.27</td>\n    </tr>\n    <tr>\n      <th>2</th>\n      <td>3</td>\n      <td>0.29</td>\n      <td>0.40</td>\n      <td>0.24</td>\n      <td>0.49</td>\n      <td>0.28</td>\n    </tr>\n  </tbody>\n</table>\n</div>"
          },
          "metadata": {}
        }
      ],
      "execution_count": 28,
      "metadata": {
        "jupyter": {
          "source_hidden": false,
          "outputs_hidden": false
        },
        "nteract": {
          "transient": {
            "deleting": false
          }
        },
        "gather": {
          "logged": 1701965482482
        }
      }
    },
    {
      "cell_type": "code",
      "source": [
        "data_predictions_hospital_id = pd.concat(\n",
        "    [data_no_member_id[\"Hospital ID\"], predictions_pd], axis=1\n",
        ")\n",
        "\n",
        "data_predictions_hospital_group = (\n",
        "    data_predictions_hospital_id.groupby(\"Hospital ID\").mean().reset_index().round(2)\n",
        ")\n",
        "\n",
        "noise = np.random.uniform(\n",
        "    -0.02, 0.02, data_predictions_hospital_group[\"Predictions\"].shape\n",
        ")\n",
        "data_predictions_hospital_group[\"Predictions\"] = (\n",
        "    data_predictions_hospital_group[\"Predictions\"] + noise\n",
        ").round(2)\n",
        "\n",
        "data_predictions_hospital_group"
      ],
      "outputs": [
        {
          "output_type": "execute_result",
          "execution_count": 36,
          "data": {
            "text/plain": "   Hospital ID  Predictions\n0            1         0.06\n1            2         0.04\n2            3         0.04",
            "text/html": "<div>\n<style scoped>\n    .dataframe tbody tr th:only-of-type {\n        vertical-align: middle;\n    }\n\n    .dataframe tbody tr th {\n        vertical-align: top;\n    }\n\n    .dataframe thead th {\n        text-align: right;\n    }\n</style>\n<table border=\"1\" class=\"dataframe\">\n  <thead>\n    <tr style=\"text-align: right;\">\n      <th></th>\n      <th>Hospital ID</th>\n      <th>Predictions</th>\n    </tr>\n  </thead>\n  <tbody>\n    <tr>\n      <th>0</th>\n      <td>1</td>\n      <td>0.06</td>\n    </tr>\n    <tr>\n      <th>1</th>\n      <td>2</td>\n      <td>0.04</td>\n    </tr>\n    <tr>\n      <th>2</th>\n      <td>3</td>\n      <td>0.04</td>\n    </tr>\n  </tbody>\n</table>\n</div>"
          },
          "metadata": {}
        }
      ],
      "execution_count": 36,
      "metadata": {
        "jupyter": {
          "source_hidden": false,
          "outputs_hidden": false
        },
        "nteract": {
          "transient": {
            "deleting": false
          }
        },
        "gather": {
          "logged": 1701967247749
        }
      }
    }
  ],
  "metadata": {
    "kernelspec": {
      "name": "python38-azureml",
      "language": "python",
      "display_name": "Python 3.8 - AzureML"
    },
    "language_info": {
      "name": "python",
      "version": "3.8.5",
      "mimetype": "text/x-python",
      "codemirror_mode": {
        "name": "ipython",
        "version": 3
      },
      "pygments_lexer": "ipython3",
      "nbconvert_exporter": "python",
      "file_extension": ".py"
    },
    "microsoft": {
      "ms_spell_check": {
        "ms_spell_check_language": "en"
      },
      "host": {
        "AzureML": {
          "notebookHasBeenCompleted": true
        }
      }
    },
    "kernel_info": {
      "name": "python38-azureml"
    },
    "nteract": {
      "version": "nteract-front-end@1.0.0"
    }
  },
  "nbformat": 4,
  "nbformat_minor": 2
}