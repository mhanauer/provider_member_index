{
  "cells": [
    {
      "cell_type": "code",
      "source": [
        "%load_ext lab_black"
      ],
      "outputs": [
        {
          "output_type": "stream",
          "name": "stdout",
          "text": "The lab_black extension is already loaded. To reload it, use:\n  %reload_ext lab_black\n"
        }
      ],
      "execution_count": 61,
      "metadata": {
        "jupyter": {
          "source_hidden": false,
          "outputs_hidden": false
        },
        "nteract": {
          "transient": {
            "deleting": false
          }
        }
      }
    },
    {
      "cell_type": "code",
      "source": [
        "from pyprojroot import here\n",
        "import os\n",
        "import pandas as pd\n",
        "import numpy as np\n",
        "import xgboost as xgb\n",
        "from sklearn.model_selection import train_test_split\n",
        "import shap\n",
        "\n",
        "path_data = here(\"./data\")\n",
        "os.chdir(path_data)\n",
        "\n",
        "data = pd.read_csv(\"data_er_visits.csv\").rename(columns={\"Unnamed: 0\": \"Patient ID\"})\n",
        "data.head()"
      ],
      "outputs": [
        {
          "output_type": "execute_result",
          "execution_count": 62,
          "data": {
            "text/plain": "   Patient ID  Hospital ID  Age 60+  High Cholesterol  Diabetes  \\\n0           0            1        0                 0         0   \n1           1            1        1                 0         0   \n2           2            3        1                 0         0   \n3           3            1        0                 1         0   \n4           4            3        0                 0         0   \n\n   Preventative Services  ER Visit  \n0                      1         0  \n1                      0         1  \n2                      1         0  \n3                      0         0  \n4                      1         0  ",
            "text/html": "<div>\n<style scoped>\n    .dataframe tbody tr th:only-of-type {\n        vertical-align: middle;\n    }\n\n    .dataframe tbody tr th {\n        vertical-align: top;\n    }\n\n    .dataframe thead th {\n        text-align: right;\n    }\n</style>\n<table border=\"1\" class=\"dataframe\">\n  <thead>\n    <tr style=\"text-align: right;\">\n      <th></th>\n      <th>Patient ID</th>\n      <th>Hospital ID</th>\n      <th>Age 60+</th>\n      <th>High Cholesterol</th>\n      <th>Diabetes</th>\n      <th>Preventative Services</th>\n      <th>ER Visit</th>\n    </tr>\n  </thead>\n  <tbody>\n    <tr>\n      <th>0</th>\n      <td>0</td>\n      <td>1</td>\n      <td>0</td>\n      <td>0</td>\n      <td>0</td>\n      <td>1</td>\n      <td>0</td>\n    </tr>\n    <tr>\n      <th>1</th>\n      <td>1</td>\n      <td>1</td>\n      <td>1</td>\n      <td>0</td>\n      <td>0</td>\n      <td>0</td>\n      <td>1</td>\n    </tr>\n    <tr>\n      <th>2</th>\n      <td>2</td>\n      <td>3</td>\n      <td>1</td>\n      <td>0</td>\n      <td>0</td>\n      <td>1</td>\n      <td>0</td>\n    </tr>\n    <tr>\n      <th>3</th>\n      <td>3</td>\n      <td>1</td>\n      <td>0</td>\n      <td>1</td>\n      <td>0</td>\n      <td>0</td>\n      <td>0</td>\n    </tr>\n    <tr>\n      <th>4</th>\n      <td>4</td>\n      <td>3</td>\n      <td>0</td>\n      <td>0</td>\n      <td>0</td>\n      <td>1</td>\n      <td>0</td>\n    </tr>\n  </tbody>\n</table>\n</div>"
          },
          "metadata": {}
        }
      ],
      "execution_count": 62,
      "metadata": {
        "jupyter": {
          "source_hidden": false,
          "outputs_hidden": false
        },
        "nteract": {
          "transient": {
            "deleting": false
          }
        },
        "gather": {
          "logged": 1701885743200
        }
      }
    },
    {
      "cell_type": "code",
      "source": [
        "# Prepare the data\n",
        "X = data.drop([\"ER Visit\", \"Hospital ID\"], axis=1)\n",
        "y = data[\"ER Visit\"]\n",
        "\n",
        "# Split the data into training and testing sets\n",
        "X_train, X_test, y_train, y_test = train_test_split(\n",
        "    X, y, test_size=0.2, random_state=42\n",
        ")\n",
        "\n",
        "# Train the XGBoost model\n",
        "model = xgb.XGBClassifier(use_label_encoder=False, eval_metric=\"logloss\")\n",
        "model.fit(X_train, y_train)\n",
        "\n",
        "# Make predictions (opxtional, to evaluate model)\n",
        "predictions = model.predict(X_test)"
      ],
      "outputs": [],
      "execution_count": 63,
      "metadata": {
        "jupyter": {
          "source_hidden": false,
          "outputs_hidden": false
        },
        "nteract": {
          "transient": {
            "deleting": false
          }
        },
        "gather": {
          "logged": 1701885746536
        }
      }
    },
    {
      "cell_type": "code",
      "source": [
        "# Assuming 'data' is your DataFrame and is already defined\n",
        "# ... [Your existing code for data preparation and model training] ...\n",
        "\n",
        "# Create a Tree explainer\n",
        "explainer = shap.Explainer(\n",
        "    model, X_train, model_output=\"probability\", feature_perturbation=\"interventional\"\n",
        ")\n",
        "\n",
        "# Calculate SHAP values - this might take some time for larger datasets\n",
        "shap_values = explainer(data.drop([\"ER Visit\", \"Hospital ID\"], axis=1))"
      ],
      "outputs": [
        {
          "output_type": "stream",
          "name": "stderr",
          "text": " 96%|=================== | 9631/10000 [00:23<00:00]       "
        }
      ],
      "execution_count": 64,
      "metadata": {
        "jupyter": {
          "source_hidden": false,
          "outputs_hidden": false
        },
        "nteract": {
          "transient": {
            "deleting": false
          }
        },
        "gather": {
          "logged": 1701885771847
        }
      }
    },
    {
      "cell_type": "code",
      "source": [
        "# Assuming shap_values and X have the same order\n",
        "column_mapping = {\n",
        "    i: name\n",
        "    for i, name in enumerate(data.drop([\"ER Visit\", \"Hospital ID\"], axis=1).columns)\n",
        "}\n",
        "\n",
        "# Rename columns in the DataFrame created from SHAP values\n",
        "data_shap_pd = pd.DataFrame(shap_values.values).rename(columns=column_mapping)"
      ],
      "outputs": [],
      "execution_count": 65,
      "metadata": {
        "jupyter": {
          "source_hidden": false,
          "outputs_hidden": false
        },
        "nteract": {
          "transient": {
            "deleting": false
          }
        },
        "gather": {
          "logged": 1701885771954
        }
      }
    },
    {
      "cell_type": "code",
      "source": [
        "data_no_id_outcome = data.drop(columns=[\"Patient ID\", \"Hospital ID\", \"ER Visit\"])\n",
        "data_percentile = data_no_id_outcome.rank(pct=True)"
      ],
      "outputs": [],
      "execution_count": 69,
      "metadata": {
        "jupyter": {
          "source_hidden": false,
          "outputs_hidden": false
        },
        "nteract": {
          "transient": {
            "deleting": false
          }
        },
        "gather": {
          "logged": 1701885825870
        }
      }
    },
    {
      "cell_type": "code",
      "source": [
        "data_percentile"
      ],
      "outputs": [
        {
          "output_type": "execute_result",
          "execution_count": 70,
          "data": {
            "text/plain": "      Age 60+  High Cholesterol  Diabetes  Preventative Services\n0      0.3557            0.2973    0.3777                0.75005\n1      0.8557            0.2973    0.3777                0.25005\n2      0.8557            0.2973    0.3777                0.75005\n3      0.3557            0.7973    0.3777                0.25005\n4      0.3557            0.2973    0.3777                0.75005\n...       ...               ...       ...                    ...\n9995   0.8557            0.7973    0.8777                0.75005\n9996   0.8557            0.2973    0.3777                0.75005\n9997   0.8557            0.2973    0.3777                0.25005\n9998   0.3557            0.2973    0.3777                0.25005\n9999   0.3557            0.2973    0.3777                0.25005\n\n[10000 rows x 4 columns]",
            "text/html": "<div>\n<style scoped>\n    .dataframe tbody tr th:only-of-type {\n        vertical-align: middle;\n    }\n\n    .dataframe tbody tr th {\n        vertical-align: top;\n    }\n\n    .dataframe thead th {\n        text-align: right;\n    }\n</style>\n<table border=\"1\" class=\"dataframe\">\n  <thead>\n    <tr style=\"text-align: right;\">\n      <th></th>\n      <th>Age 60+</th>\n      <th>High Cholesterol</th>\n      <th>Diabetes</th>\n      <th>Preventative Services</th>\n    </tr>\n  </thead>\n  <tbody>\n    <tr>\n      <th>0</th>\n      <td>0.3557</td>\n      <td>0.2973</td>\n      <td>0.3777</td>\n      <td>0.75005</td>\n    </tr>\n    <tr>\n      <th>1</th>\n      <td>0.8557</td>\n      <td>0.2973</td>\n      <td>0.3777</td>\n      <td>0.25005</td>\n    </tr>\n    <tr>\n      <th>2</th>\n      <td>0.8557</td>\n      <td>0.2973</td>\n      <td>0.3777</td>\n      <td>0.75005</td>\n    </tr>\n    <tr>\n      <th>3</th>\n      <td>0.3557</td>\n      <td>0.7973</td>\n      <td>0.3777</td>\n      <td>0.25005</td>\n    </tr>\n    <tr>\n      <th>4</th>\n      <td>0.3557</td>\n      <td>0.2973</td>\n      <td>0.3777</td>\n      <td>0.75005</td>\n    </tr>\n    <tr>\n      <th>...</th>\n      <td>...</td>\n      <td>...</td>\n      <td>...</td>\n      <td>...</td>\n    </tr>\n    <tr>\n      <th>9995</th>\n      <td>0.8557</td>\n      <td>0.7973</td>\n      <td>0.8777</td>\n      <td>0.75005</td>\n    </tr>\n    <tr>\n      <th>9996</th>\n      <td>0.8557</td>\n      <td>0.2973</td>\n      <td>0.3777</td>\n      <td>0.75005</td>\n    </tr>\n    <tr>\n      <th>9997</th>\n      <td>0.8557</td>\n      <td>0.2973</td>\n      <td>0.3777</td>\n      <td>0.25005</td>\n    </tr>\n    <tr>\n      <th>9998</th>\n      <td>0.3557</td>\n      <td>0.2973</td>\n      <td>0.3777</td>\n      <td>0.25005</td>\n    </tr>\n    <tr>\n      <th>9999</th>\n      <td>0.3557</td>\n      <td>0.2973</td>\n      <td>0.3777</td>\n      <td>0.25005</td>\n    </tr>\n  </tbody>\n</table>\n<p>10000 rows × 4 columns</p>\n</div>"
          },
          "metadata": {}
        }
      ],
      "execution_count": 70,
      "metadata": {
        "jupyter": {
          "source_hidden": false,
          "outputs_hidden": false
        },
        "nteract": {
          "transient": {
            "deleting": false
          }
        },
        "gather": {
          "logged": 1701885827999
        }
      }
    },
    {
      "cell_type": "markdown",
      "source": [
        "Step: Add back hosptial ids and add unique ids"
      ],
      "metadata": {
        "nteract": {
          "transient": {
            "deleting": false
          }
        }
      }
    },
    {
      "cell_type": "code",
      "source": [
        "data_percentile_id = pd.concat(\n",
        "    [data[[\"Patient ID\", \"Hospital ID\"]], data_percentile], axis=1\n",
        ")\n",
        "data_shap_id = pd.concat([data[[\"Hospital ID\"]], data_shap_pd], axis=1)"
      ],
      "outputs": [],
      "execution_count": 83,
      "metadata": {
        "jupyter": {
          "source_hidden": false,
          "outputs_hidden": false
        },
        "nteract": {
          "transient": {
            "deleting": false
          }
        },
        "gather": {
          "logged": 1701886266846
        }
      }
    },
    {
      "cell_type": "code",
      "source": [
        "import pandas as pd\n",
        "\n",
        "\n",
        "def median_shap_for_high_percentiles(percentile_df, shap_df, id_col):\n",
        "    # Initialize a dictionary to store the results\n",
        "    median_shap_values = {id_col: [], \"variable\": [], \"median_shap\": []}\n",
        "\n",
        "    # Iterate over each ID\n",
        "    for id_value in percentile_df[id_col].unique():\n",
        "        # Filter DataFrames for the current ID\n",
        "        percentile_subdf = percentile_df[percentile_df[id_col] == id_value]\n",
        "        shap_subdf = shap_df[shap_df[id_col] == id_value]\n",
        "\n",
        "        # Iterate over each column (except the ID column)\n",
        "        for col in percentile_df.columns:\n",
        "            if col == id_col:\n",
        "                continue\n",
        "\n",
        "            # Calculate the median of the current column in percentile DataFrame\n",
        "            median_value = percentile_subdf[col].median()\n",
        "\n",
        "            # Filter rows where the percentile value is above the median\n",
        "            rows_above_median = percentile_subdf[\n",
        "                percentile_subdf[col] > median_value\n",
        "            ].index\n",
        "\n",
        "            # Calculate the median SHAP value for these rows\n",
        "            median_shap = shap_subdf.loc[rows_above_median, col].median()\n",
        "\n",
        "            # Store the results\n",
        "            median_shap_values[id_col].append(id_value)\n",
        "            median_shap_values[\"variable\"].append(col)\n",
        "            median_shap_values[\"median_shap\"].append(median_shap)\n",
        "\n",
        "    # Convert the dictionary to a DataFrame and return\n",
        "    return pd.DataFrame(median_shap_values)"
      ],
      "outputs": [],
      "execution_count": 84,
      "metadata": {
        "jupyter": {
          "source_hidden": false,
          "outputs_hidden": false
        },
        "nteract": {
          "transient": {
            "deleting": false
          }
        },
        "gather": {
          "logged": 1701886268855
        }
      }
    },
    {
      "cell_type": "code",
      "source": [
        "# Example usage\n",
        "result_df = (\n",
        "    median_shap_for_high_percentiles(\n",
        "        percentile_df=data_percentile_id, shap_df=data_shap_id, id_col=\"Hospital ID\"\n",
        "    )\n",
        "    .fillna(-0.20)\n",
        "    .round(2)\n",
        ")"
      ],
      "outputs": [],
      "execution_count": 87,
      "metadata": {
        "jupyter": {
          "source_hidden": false,
          "outputs_hidden": false
        },
        "nteract": {
          "transient": {
            "deleting": false
          }
        },
        "gather": {
          "logged": 1701886292233
        }
      }
    },
    {
      "cell_type": "code",
      "source": [
        "noise = np.random.uniform(-0.07, 0.07, result_df[\"median_shap\"].shape)\n",
        "result_df[\"median_shap\"] = result_df[\"median_shap\"] + noise\n",
        "data_shap_hospital = (\n",
        "    result_df.rename(columns={\"variable\": \"Driver\", \"median_shap\": \"Impact\"})\n",
        "    .round(2)\n",
        "    .query(\"Driver != 'Patient ID' \")\n",
        ").reset_index(drop=True)"
      ],
      "outputs": [
        {
          "output_type": "execute_result",
          "execution_count": 91,
          "data": {
            "text/plain": "    Hospital ID                 Driver  Impact\n0             1                Age 60+    0.32\n1             1       High Cholesterol    0.23\n2             1               Diabetes    0.18\n3             1  Preventative Services   -0.18\n4             3                Age 60+    0.42\n5             3       High Cholesterol    0.33\n6             3               Diabetes    0.24\n7             3  Preventative Services   -0.23\n8             2                Age 60+    0.44\n9             2       High Cholesterol    0.19\n10            2               Diabetes    0.08\n11            2  Preventative Services   -0.19",
            "text/html": "<div>\n<style scoped>\n    .dataframe tbody tr th:only-of-type {\n        vertical-align: middle;\n    }\n\n    .dataframe tbody tr th {\n        vertical-align: top;\n    }\n\n    .dataframe thead th {\n        text-align: right;\n    }\n</style>\n<table border=\"1\" class=\"dataframe\">\n  <thead>\n    <tr style=\"text-align: right;\">\n      <th></th>\n      <th>Hospital ID</th>\n      <th>Driver</th>\n      <th>Impact</th>\n    </tr>\n  </thead>\n  <tbody>\n    <tr>\n      <th>0</th>\n      <td>1</td>\n      <td>Age 60+</td>\n      <td>0.32</td>\n    </tr>\n    <tr>\n      <th>1</th>\n      <td>1</td>\n      <td>High Cholesterol</td>\n      <td>0.23</td>\n    </tr>\n    <tr>\n      <th>2</th>\n      <td>1</td>\n      <td>Diabetes</td>\n      <td>0.18</td>\n    </tr>\n    <tr>\n      <th>3</th>\n      <td>1</td>\n      <td>Preventative Services</td>\n      <td>-0.18</td>\n    </tr>\n    <tr>\n      <th>4</th>\n      <td>3</td>\n      <td>Age 60+</td>\n      <td>0.42</td>\n    </tr>\n    <tr>\n      <th>5</th>\n      <td>3</td>\n      <td>High Cholesterol</td>\n      <td>0.33</td>\n    </tr>\n    <tr>\n      <th>6</th>\n      <td>3</td>\n      <td>Diabetes</td>\n      <td>0.24</td>\n    </tr>\n    <tr>\n      <th>7</th>\n      <td>3</td>\n      <td>Preventative Services</td>\n      <td>-0.23</td>\n    </tr>\n    <tr>\n      <th>8</th>\n      <td>2</td>\n      <td>Age 60+</td>\n      <td>0.44</td>\n    </tr>\n    <tr>\n      <th>9</th>\n      <td>2</td>\n      <td>High Cholesterol</td>\n      <td>0.19</td>\n    </tr>\n    <tr>\n      <th>10</th>\n      <td>2</td>\n      <td>Diabetes</td>\n      <td>0.08</td>\n    </tr>\n    <tr>\n      <th>11</th>\n      <td>2</td>\n      <td>Preventative Services</td>\n      <td>-0.19</td>\n    </tr>\n  </tbody>\n</table>\n</div>"
          },
          "metadata": {}
        }
      ],
      "execution_count": 91,
      "metadata": {
        "jupyter": {
          "source_hidden": false,
          "outputs_hidden": false
        },
        "nteract": {
          "transient": {
            "deleting": false
          }
        },
        "gather": {
          "logged": 1701886479021
        }
      }
    },
    {
      "cell_type": "code",
      "source": [
        "data_shap_hospital.to_csv(\"data_shap_hospital.csv\")"
      ],
      "outputs": [],
      "execution_count": 92,
      "metadata": {
        "jupyter": {
          "source_hidden": false,
          "outputs_hidden": false
        },
        "nteract": {
          "transient": {
            "deleting": false
          }
        },
        "gather": {
          "logged": 1701886486482
        }
      }
    },
    {
      "cell_type": "code",
      "source": [
        "data_shap_patient_id = data_shap_id.reset_index().rename(columns={\"index\": \"Member ID\"})\n",
        "\n",
        "data_shap_patient_id = data_shap_patient_id.round(2)\n",
        "data_shap_patient_id"
      ],
      "outputs": [
        {
          "output_type": "execute_result",
          "execution_count": 93,
          "data": {
            "text/plain": "      Member ID  Hospital ID  Patient ID  Age 60+  High Cholesterol  Diabetes  \\\n0             0            1       -0.04    -0.06             -0.06     -0.01   \n1             1            1        0.01     0.43             -0.14     -0.02   \n2             2            3       -0.07     0.21             -0.10     -0.03   \n3             3            1       -0.17    -0.15              0.11     -0.05   \n4             4            3       -0.04    -0.06             -0.06     -0.01   \n...         ...          ...         ...      ...               ...       ...   \n9995       9995            2        0.03     0.35              0.29      0.20   \n9996       9996            1       -0.03     0.17             -0.14     -0.03   \n9997       9997            1        0.04     0.30             -0.24     -0.04   \n9998       9998            2        0.10    -0.11             -0.20     -0.04   \n9999       9999            1        0.10    -0.11             -0.20     -0.04   \n\n      Preventative Services  \n0                     -0.12  \n1                      0.24  \n2                     -0.26  \n3                      0.12  \n4                     -0.12  \n...                     ...  \n9995                  -0.28  \n9996                  -0.23  \n9997                   0.21  \n9998                   0.19  \n9999                   0.19  \n\n[10000 rows x 7 columns]",
            "text/html": "<div>\n<style scoped>\n    .dataframe tbody tr th:only-of-type {\n        vertical-align: middle;\n    }\n\n    .dataframe tbody tr th {\n        vertical-align: top;\n    }\n\n    .dataframe thead th {\n        text-align: right;\n    }\n</style>\n<table border=\"1\" class=\"dataframe\">\n  <thead>\n    <tr style=\"text-align: right;\">\n      <th></th>\n      <th>Member ID</th>\n      <th>Hospital ID</th>\n      <th>Patient ID</th>\n      <th>Age 60+</th>\n      <th>High Cholesterol</th>\n      <th>Diabetes</th>\n      <th>Preventative Services</th>\n    </tr>\n  </thead>\n  <tbody>\n    <tr>\n      <th>0</th>\n      <td>0</td>\n      <td>1</td>\n      <td>-0.04</td>\n      <td>-0.06</td>\n      <td>-0.06</td>\n      <td>-0.01</td>\n      <td>-0.12</td>\n    </tr>\n    <tr>\n      <th>1</th>\n      <td>1</td>\n      <td>1</td>\n      <td>0.01</td>\n      <td>0.43</td>\n      <td>-0.14</td>\n      <td>-0.02</td>\n      <td>0.24</td>\n    </tr>\n    <tr>\n      <th>2</th>\n      <td>2</td>\n      <td>3</td>\n      <td>-0.07</td>\n      <td>0.21</td>\n      <td>-0.10</td>\n      <td>-0.03</td>\n      <td>-0.26</td>\n    </tr>\n    <tr>\n      <th>3</th>\n      <td>3</td>\n      <td>1</td>\n      <td>-0.17</td>\n      <td>-0.15</td>\n      <td>0.11</td>\n      <td>-0.05</td>\n      <td>0.12</td>\n    </tr>\n    <tr>\n      <th>4</th>\n      <td>4</td>\n      <td>3</td>\n      <td>-0.04</td>\n      <td>-0.06</td>\n      <td>-0.06</td>\n      <td>-0.01</td>\n      <td>-0.12</td>\n    </tr>\n    <tr>\n      <th>...</th>\n      <td>...</td>\n      <td>...</td>\n      <td>...</td>\n      <td>...</td>\n      <td>...</td>\n      <td>...</td>\n      <td>...</td>\n    </tr>\n    <tr>\n      <th>9995</th>\n      <td>9995</td>\n      <td>2</td>\n      <td>0.03</td>\n      <td>0.35</td>\n      <td>0.29</td>\n      <td>0.20</td>\n      <td>-0.28</td>\n    </tr>\n    <tr>\n      <th>9996</th>\n      <td>9996</td>\n      <td>1</td>\n      <td>-0.03</td>\n      <td>0.17</td>\n      <td>-0.14</td>\n      <td>-0.03</td>\n      <td>-0.23</td>\n    </tr>\n    <tr>\n      <th>9997</th>\n      <td>9997</td>\n      <td>1</td>\n      <td>0.04</td>\n      <td>0.30</td>\n      <td>-0.24</td>\n      <td>-0.04</td>\n      <td>0.21</td>\n    </tr>\n    <tr>\n      <th>9998</th>\n      <td>9998</td>\n      <td>2</td>\n      <td>0.10</td>\n      <td>-0.11</td>\n      <td>-0.20</td>\n      <td>-0.04</td>\n      <td>0.19</td>\n    </tr>\n    <tr>\n      <th>9999</th>\n      <td>9999</td>\n      <td>1</td>\n      <td>0.10</td>\n      <td>-0.11</td>\n      <td>-0.20</td>\n      <td>-0.04</td>\n      <td>0.19</td>\n    </tr>\n  </tbody>\n</table>\n<p>10000 rows × 7 columns</p>\n</div>"
          },
          "metadata": {}
        }
      ],
      "execution_count": 93,
      "metadata": {
        "jupyter": {
          "source_hidden": false,
          "outputs_hidden": false
        },
        "nteract": {
          "transient": {
            "deleting": false
          }
        },
        "gather": {
          "logged": 1701886494200
        }
      }
    }
  ],
  "metadata": {
    "kernelspec": {
      "name": "python38-azureml",
      "language": "python",
      "display_name": "Python 3.8 - AzureML"
    },
    "language_info": {
      "name": "python",
      "version": "3.8.5",
      "mimetype": "text/x-python",
      "codemirror_mode": {
        "name": "ipython",
        "version": 3
      },
      "pygments_lexer": "ipython3",
      "nbconvert_exporter": "python",
      "file_extension": ".py"
    },
    "microsoft": {
      "ms_spell_check": {
        "ms_spell_check_language": "en"
      },
      "host": {
        "AzureML": {
          "notebookHasBeenCompleted": true
        }
      }
    },
    "kernel_info": {
      "name": "python38-azureml"
    },
    "nteract": {
      "version": "nteract-front-end@1.0.0"
    }
  },
  "nbformat": 4,
  "nbformat_minor": 2
}