{
  "cells": [
    {
      "cell_type": "code",
      "source": [
        "%load_ext lab_black"
      ],
      "outputs": [],
      "execution_count": 1,
      "metadata": {
        "jupyter": {
          "source_hidden": false,
          "outputs_hidden": false
        },
        "nteract": {
          "transient": {
            "deleting": false
          }
        }
      }
    },
    {
      "cell_type": "code",
      "source": [
        "from pyprojroot import here\n",
        "import os\n",
        "from skimpy import clean_columns\n",
        "import pandas as pd\n",
        "import numpy as np\n",
        "import xgboost as xgb\n",
        "from sklearn.model_selection import train_test_split\n",
        "import shap\n",
        "import joblib\n",
        "from joblib import load\n",
        "\n",
        "path_data = here(\"./data\")\n",
        "os.chdir(path_data)\n",
        "\n",
        "data = pd.read_csv(\"data_pmpm.csv\")\n",
        "data_predict = data.drop(columns=[\"Hospital ID\", \"Per Member Per Month Cost\"])\n",
        "# Load the model\n",
        "model = joblib.load(\"model_drivers.joblib\")"
      ],
      "outputs": [
        {
          "output_type": "stream",
          "name": "stderr",
          "text": "/anaconda/envs/azureml_py38/lib/python3.8/site-packages/xgboost/compat.py:31: FutureWarning: pandas.Int64Index is deprecated and will be removed from pandas in a future version. Use pandas.Index with the appropriate dtype instead.\n  from pandas import MultiIndex, Int64Index\n"
        }
      ],
      "execution_count": 2,
      "metadata": {
        "jupyter": {
          "source_hidden": false,
          "outputs_hidden": false
        },
        "nteract": {
          "transient": {
            "deleting": false
          }
        },
        "gather": {
          "logged": 1702471085323
        }
      }
    },
    {
      "cell_type": "markdown",
      "source": [
        "Get the actual percentage of members with ER visits in the last 30 days for each hospital\n",
        "\n",
        "Show them their average percentages for all four variables.\n",
        "\n",
        "Add some noise for the features by Hospital ID\n",
        "\n",
        "Then create a function to allow for simulated data with the exact percentage that someone shows"
      ],
      "metadata": {
        "nteract": {
          "transient": {
            "deleting": false
          }
        }
      }
    },
    {
      "cell_type": "code",
      "source": [
        "data.groupby(\"Hospital ID\").mean().reset_index().round(2)"
      ],
      "outputs": [
        {
          "output_type": "execute_result",
          "execution_count": 4,
          "data": {
            "text/plain": "   Hospital ID  High Blood Pressure  High Cholesterol  Diabetes  \\\n0            1                  0.3              0.40      0.25   \n1            2                  0.3              0.40      0.25   \n2            3                  0.3              0.41      0.25   \n\n   Preventative Services  Per Member Per Month Cost  \n0                    0.5                    5178.47  \n1                    0.5                    5163.05  \n2                    0.5                    5179.44  ",
            "text/html": "<div>\n<style scoped>\n    .dataframe tbody tr th:only-of-type {\n        vertical-align: middle;\n    }\n\n    .dataframe tbody tr th {\n        vertical-align: top;\n    }\n\n    .dataframe thead th {\n        text-align: right;\n    }\n</style>\n<table border=\"1\" class=\"dataframe\">\n  <thead>\n    <tr style=\"text-align: right;\">\n      <th></th>\n      <th>Hospital ID</th>\n      <th>High Blood Pressure</th>\n      <th>High Cholesterol</th>\n      <th>Diabetes</th>\n      <th>Preventative Services</th>\n      <th>Per Member Per Month Cost</th>\n    </tr>\n  </thead>\n  <tbody>\n    <tr>\n      <th>0</th>\n      <td>1</td>\n      <td>0.3</td>\n      <td>0.40</td>\n      <td>0.25</td>\n      <td>0.5</td>\n      <td>5178.47</td>\n    </tr>\n    <tr>\n      <th>1</th>\n      <td>2</td>\n      <td>0.3</td>\n      <td>0.40</td>\n      <td>0.25</td>\n      <td>0.5</td>\n      <td>5163.05</td>\n    </tr>\n    <tr>\n      <th>2</th>\n      <td>3</td>\n      <td>0.3</td>\n      <td>0.41</td>\n      <td>0.25</td>\n      <td>0.5</td>\n      <td>5179.44</td>\n    </tr>\n  </tbody>\n</table>\n</div>"
          },
          "metadata": {}
        }
      ],
      "execution_count": 4,
      "metadata": {
        "jupyter": {
          "source_hidden": false,
          "outputs_hidden": false
        },
        "nteract": {
          "transient": {
            "deleting": false
          }
        },
        "gather": {
          "logged": 1702471085489
        }
      }
    },
    {
      "cell_type": "markdown",
      "source": [
        "Step: Create a function that generates "
      ],
      "metadata": {
        "nteract": {
          "transient": {
            "deleting": false
          }
        }
      }
    },
    {
      "cell_type": "code",
      "source": [
        "import pandas as pd\n",
        "import numpy as np\n",
        "\n",
        "\n",
        "def adjust_binary_percentages(df, **column_percentages):\n",
        "    \"\"\"\n",
        "    Adjusts the percentage of 1's in each specified column of a binary DataFrame.\n",
        "\n",
        "    Args:\n",
        "    df (pd.DataFrame): DataFrame with binary values.\n",
        "    column_percentages (dict): A dictionary where keys are column names and values are the new desired percentages of 1's.\n",
        "\n",
        "    Returns:\n",
        "    pd.DataFrame: Modified DataFrame.\n",
        "    \"\"\"\n",
        "\n",
        "    for column, percentage in column_percentages.items():\n",
        "        if column not in df.columns:\n",
        "            raise ValueError(f\"Column {column} not found in DataFrame\")\n",
        "\n",
        "        # Calculate current percentage of 1's\n",
        "        current_percentage = df[column].mean()\n",
        "\n",
        "        # Calculate the desired number of 1's\n",
        "        target_count = int(df.shape[0] * percentage)\n",
        "\n",
        "        # Find indices where changes are needed\n",
        "        ones_indices = df[df[column] == 1].index\n",
        "        zeros_indices = df[df[column] == 0].index\n",
        "\n",
        "        if target_count > ones_indices.size:  # Need to add more 1's\n",
        "            change_count = target_count - ones_indices.size\n",
        "            indices_to_change = np.random.choice(\n",
        "                zeros_indices, change_count, replace=False\n",
        "            )\n",
        "            df.loc[indices_to_change, column] = 1\n",
        "        else:  # Need to remove some 1's\n",
        "            change_count = ones_indices.size - target_count\n",
        "            indices_to_change = np.random.choice(\n",
        "                ones_indices, change_count, replace=False\n",
        "            )\n",
        "            df.loc[indices_to_change, column] = 0\n",
        "\n",
        "    return df"
      ],
      "outputs": [],
      "execution_count": 5,
      "metadata": {
        "jupyter": {
          "source_hidden": false,
          "outputs_hidden": false
        },
        "nteract": {
          "transient": {
            "deleting": false
          }
        },
        "gather": {
          "logged": 1702471085633
        }
      }
    },
    {
      "cell_type": "code",
      "source": [
        "data_predict_adjust = clean_columns(data_predict.copy())\n",
        "data_predict_adjust = adjust_binary_percentages(\n",
        "    df=data_predict_adjust,\n",
        "    high_blood_pressure=0.1,\n",
        "    high_cholesterol=0.1,\n",
        "    diabetes=0.5,\n",
        "    preventative_services=0.7,\n",
        ")\n",
        "data_predict_adjust.rename(\n",
        "    columns={\n",
        "        \"high_blood_pressure\": \"High Blood Pressure\",\n",
        "        \"high_cholesterol\": \"High Cholesterol\",\n",
        "        \"diabetes\": \"Diabetes\",\n",
        "        \"preventative_services\": \"Preventative Services\",\n",
        "    },\n",
        "    inplace=True,\n",
        ")"
      ],
      "outputs": [],
      "execution_count": 6,
      "metadata": {
        "jupyter": {
          "source_hidden": false,
          "outputs_hidden": false
        },
        "nteract": {
          "transient": {
            "deleting": false
          }
        },
        "gather": {
          "logged": 1702471085720
        }
      }
    },
    {
      "cell_type": "code",
      "source": [
        "# Make predictions (opxtional, to evaluate model)\n",
        "predictions = model.predict(data_predict_adjust)\n",
        "predictions_pd = pd.DataFrame(predictions).rename(columns={0: \"Predictions\"})"
      ],
      "outputs": [
        {
          "output_type": "stream",
          "name": "stderr",
          "text": "pandas.Int64Index is deprecated and will be removed from pandas in a future version. Use pandas.Index with the appropriate dtype instead.\n"
        }
      ],
      "execution_count": 7,
      "metadata": {
        "jupyter": {
          "source_hidden": false,
          "outputs_hidden": false
        },
        "nteract": {
          "transient": {
            "deleting": false
          }
        },
        "gather": {
          "logged": 1702471085816
        }
      }
    },
    {
      "cell_type": "code",
      "source": [
        "data_predictions_hospital_id = pd.concat([data[\"Hospital ID\"], predictions_pd], axis=1)\n",
        "\n",
        "data_predictions_hospital_group = (\n",
        "    data_predictions_hospital_id.groupby(\"Hospital ID\").mean().reset_index().round(2)\n",
        ")\n",
        "\n",
        "noise = np.random.uniform(\n",
        "    -100, 100, data_predictions_hospital_group[\"Predictions\"].shape\n",
        ")\n",
        "data_predictions_hospital_group[\"Predictions\"] = (\n",
        "    data_predictions_hospital_group[\"Predictions\"]  # + noise\n",
        ").round(2)\n",
        "\n",
        "data_predictions_hospital_group"
      ],
      "outputs": [
        {
          "output_type": "execute_result",
          "execution_count": 8,
          "data": {
            "text/plain": "   Hospital ID  Predictions\n0            1  4121.000000\n1            2  4136.209961\n2            3  4143.220215",
            "text/html": "<div>\n<style scoped>\n    .dataframe tbody tr th:only-of-type {\n        vertical-align: middle;\n    }\n\n    .dataframe tbody tr th {\n        vertical-align: top;\n    }\n\n    .dataframe thead th {\n        text-align: right;\n    }\n</style>\n<table border=\"1\" class=\"dataframe\">\n  <thead>\n    <tr style=\"text-align: right;\">\n      <th></th>\n      <th>Hospital ID</th>\n      <th>Predictions</th>\n    </tr>\n  </thead>\n  <tbody>\n    <tr>\n      <th>0</th>\n      <td>1</td>\n      <td>4121.000000</td>\n    </tr>\n    <tr>\n      <th>1</th>\n      <td>2</td>\n      <td>4136.209961</td>\n    </tr>\n    <tr>\n      <th>2</th>\n      <td>3</td>\n      <td>4143.220215</td>\n    </tr>\n  </tbody>\n</table>\n</div>"
          },
          "metadata": {}
        }
      ],
      "execution_count": 8,
      "metadata": {
        "jupyter": {
          "source_hidden": false,
          "outputs_hidden": false
        },
        "nteract": {
          "transient": {
            "deleting": false
          }
        },
        "gather": {
          "logged": 1702471085926
        }
      }
    },
    {
      "cell_type": "code",
      "source": [
        "data_actual_costs = (\n",
        "    data[[\"Hospital ID\", \"Per Member Per Month Cost\"]]\n",
        "    .groupby(\"Hospital ID\")\n",
        "    .mean()\n",
        "    .reset_index()\n",
        ").round(0)\n",
        "data_actual_costs"
      ],
      "outputs": [
        {
          "output_type": "execute_result",
          "execution_count": 14,
          "data": {
            "text/plain": "   Hospital ID  Per Member Per Month Cost\n0            1                     5178.0\n1            2                     5163.0\n2            3                     5179.0",
            "text/html": "<div>\n<style scoped>\n    .dataframe tbody tr th:only-of-type {\n        vertical-align: middle;\n    }\n\n    .dataframe tbody tr th {\n        vertical-align: top;\n    }\n\n    .dataframe thead th {\n        text-align: right;\n    }\n</style>\n<table border=\"1\" class=\"dataframe\">\n  <thead>\n    <tr style=\"text-align: right;\">\n      <th></th>\n      <th>Hospital ID</th>\n      <th>Per Member Per Month Cost</th>\n    </tr>\n  </thead>\n  <tbody>\n    <tr>\n      <th>0</th>\n      <td>1</td>\n      <td>5178.0</td>\n    </tr>\n    <tr>\n      <th>1</th>\n      <td>2</td>\n      <td>5163.0</td>\n    </tr>\n    <tr>\n      <th>2</th>\n      <td>3</td>\n      <td>5179.0</td>\n    </tr>\n  </tbody>\n</table>\n</div>"
          },
          "metadata": {}
        }
      ],
      "execution_count": 14,
      "metadata": {
        "jupyter": {
          "source_hidden": false,
          "outputs_hidden": false
        },
        "nteract": {
          "transient": {
            "deleting": false
          }
        },
        "gather": {
          "logged": 1702471209195
        }
      }
    },
    {
      "cell_type": "code",
      "source": [
        "import pandas as pd\n",
        "\n",
        "# Assuming data_actual_costs and data_predictions_hospital_group are already defined\n",
        "\n",
        "# Merge the datasets on 'Hospital ID'\n",
        "merged_data = data_actual_costs.merge(\n",
        "    data_predictions_hospital_group,\n",
        "    on=\"Hospital ID\",\n",
        ")\n",
        "\n",
        "# Calculate the difference\n",
        "merged_data[\"Difference\"] = (\n",
        "    merged_data[\"Predictions\"] - merged_data[\"Per Member Per Month Cost\"]\n",
        ")\n",
        "\n",
        "# Calculate the percentage change\n",
        "merged_data[\"Percentage Change\"] = (\n",
        "    merged_data[\"Difference\"] / merged_data[\"Predictions\"]\n",
        ") * 100\n",
        "\n",
        "# Formatting the Difference and Percentage Change\n",
        "merged_data[\"Difference\"] = merged_data[\"Difference\"].map(\"${:,.0f}\".format)\n",
        "merged_data[\"Predictions\"] = merged_data[\"Predictions\"].map(\"${:,.0f}\".format)\n",
        "merged_data[\"Per Member Per Month Cost\"] = merged_data[\"Per Member Per Month Cost\"].map(\n",
        "    \"${:,.0f}\".format\n",
        ")\n",
        "\n",
        "\n",
        "merged_data[\"Percentage Change\"] = merged_data[\"Percentage Change\"].map(\n",
        "    \"{:.2f}%\".format\n",
        ")\n",
        "\n",
        "# Concatenating the relevant columns\n",
        "data_predicted_actual = pd.concat(\n",
        "    [\n",
        "        merged_data[[\"Hospital ID\"]],\n",
        "        merged_data[[\"Predictions\"]],\n",
        "        merged_data[[\"Per Member Per Month Cost\", \"Difference\", \"Percentage Change\"]],\n",
        "    ],\n",
        "    axis=1,\n",
        ")\n",
        "\n",
        "# Display the final DataFrame\n",
        "data_predicted_actual"
      ],
      "outputs": [
        {
          "output_type": "execute_result",
          "execution_count": 35,
          "data": {
            "text/plain": "   Hospital ID Predictions Per Member Per Month Cost Difference  \\\n0            1      $4,121                    $5,178    $-1,057   \n1            2      $4,136                    $5,163    $-1,027   \n2            3      $4,143                    $5,179    $-1,036   \n\n  Percentage Change  \n0           -25.65%  \n1           -24.82%  \n2           -25.00%  ",
            "text/html": "<div>\n<style scoped>\n    .dataframe tbody tr th:only-of-type {\n        vertical-align: middle;\n    }\n\n    .dataframe tbody tr th {\n        vertical-align: top;\n    }\n\n    .dataframe thead th {\n        text-align: right;\n    }\n</style>\n<table border=\"1\" class=\"dataframe\">\n  <thead>\n    <tr style=\"text-align: right;\">\n      <th></th>\n      <th>Hospital ID</th>\n      <th>Predictions</th>\n      <th>Per Member Per Month Cost</th>\n      <th>Difference</th>\n      <th>Percentage Change</th>\n    </tr>\n  </thead>\n  <tbody>\n    <tr>\n      <th>0</th>\n      <td>1</td>\n      <td>$4,121</td>\n      <td>$5,178</td>\n      <td>$-1,057</td>\n      <td>-25.65%</td>\n    </tr>\n    <tr>\n      <th>1</th>\n      <td>2</td>\n      <td>$4,136</td>\n      <td>$5,163</td>\n      <td>$-1,027</td>\n      <td>-24.82%</td>\n    </tr>\n    <tr>\n      <th>2</th>\n      <td>3</td>\n      <td>$4,143</td>\n      <td>$5,179</td>\n      <td>$-1,036</td>\n      <td>-25.00%</td>\n    </tr>\n  </tbody>\n</table>\n</div>"
          },
          "metadata": {}
        }
      ],
      "execution_count": 35,
      "metadata": {
        "jupyter": {
          "source_hidden": false,
          "outputs_hidden": false
        },
        "nteract": {
          "transient": {
            "deleting": false
          }
        },
        "gather": {
          "logged": 1702472229153
        }
      }
    },
    {
      "cell_type": "code",
      "source": [
        "\n",
        "        # Calculate difference and percentage change\n",
        "\n"
      ],
      "outputs": [
        {
          "output_type": "error",
          "ename": "KeyError",
          "evalue": "'Per Member Per Month Cost_Actual'",
          "traceback": [
            "\u001b[0;31m---------------------------------------------------------------------------\u001b[0m",
            "\u001b[0;31mKeyError\u001b[0m                                  Traceback (most recent call last)",
            "File \u001b[0;32m/anaconda/envs/azureml_py38/lib/python3.8/site-packages/pandas/core/indexes/base.py:3621\u001b[0m, in \u001b[0;36mIndex.get_loc\u001b[0;34m(self, key, method, tolerance)\u001b[0m\n\u001b[1;32m   3620\u001b[0m \u001b[38;5;28;01mtry\u001b[39;00m:\n\u001b[0;32m-> 3621\u001b[0m     \u001b[38;5;28;01mreturn\u001b[39;00m \u001b[38;5;28;43mself\u001b[39;49m\u001b[38;5;241;43m.\u001b[39;49m\u001b[43m_engine\u001b[49m\u001b[38;5;241;43m.\u001b[39;49m\u001b[43mget_loc\u001b[49m\u001b[43m(\u001b[49m\u001b[43mcasted_key\u001b[49m\u001b[43m)\u001b[49m\n\u001b[1;32m   3622\u001b[0m \u001b[38;5;28;01mexcept\u001b[39;00m \u001b[38;5;167;01mKeyError\u001b[39;00m \u001b[38;5;28;01mas\u001b[39;00m err:\n",
            "File \u001b[0;32m/anaconda/envs/azureml_py38/lib/python3.8/site-packages/pandas/_libs/index.pyx:136\u001b[0m, in \u001b[0;36mpandas._libs.index.IndexEngine.get_loc\u001b[0;34m()\u001b[0m\n",
            "File \u001b[0;32m/anaconda/envs/azureml_py38/lib/python3.8/site-packages/pandas/_libs/index.pyx:163\u001b[0m, in \u001b[0;36mpandas._libs.index.IndexEngine.get_loc\u001b[0;34m()\u001b[0m\n",
            "File \u001b[0;32mpandas/_libs/hashtable_class_helper.pxi:5198\u001b[0m, in \u001b[0;36mpandas._libs.hashtable.PyObjectHashTable.get_item\u001b[0;34m()\u001b[0m\n",
            "File \u001b[0;32mpandas/_libs/hashtable_class_helper.pxi:5206\u001b[0m, in \u001b[0;36mpandas._libs.hashtable.PyObjectHashTable.get_item\u001b[0;34m()\u001b[0m\n",
            "\u001b[0;31mKeyError\u001b[0m: 'Per Member Per Month Cost_Actual'",
            "\nThe above exception was the direct cause of the following exception:\n",
            "\u001b[0;31mKeyError\u001b[0m                                  Traceback (most recent call last)",
            "Cell \u001b[0;32mIn[15], line 4\u001b[0m\n\u001b[1;32m      1\u001b[0m merged_data \u001b[38;5;241m=\u001b[39m data_actual_costs\u001b[38;5;241m.\u001b[39mmerge(data_predictions_hospital_group, on\u001b[38;5;241m=\u001b[39m\u001b[38;5;124m\"\u001b[39m\u001b[38;5;124mHospital ID\u001b[39m\u001b[38;5;124m\"\u001b[39m, suffixes\u001b[38;5;241m=\u001b[39m(\u001b[38;5;124m'\u001b[39m\u001b[38;5;124m_Actual\u001b[39m\u001b[38;5;124m'\u001b[39m, \u001b[38;5;124m'\u001b[39m\u001b[38;5;124m_Predicted\u001b[39m\u001b[38;5;124m'\u001b[39m))\n\u001b[1;32m      3\u001b[0m         \u001b[38;5;66;03m# Calculate difference and percentage change\u001b[39;00m\n\u001b[0;32m----> 4\u001b[0m merged_data[\u001b[38;5;124m'\u001b[39m\u001b[38;5;124mDifference\u001b[39m\u001b[38;5;124m'\u001b[39m] \u001b[38;5;241m=\u001b[39m \u001b[43mmerged_data\u001b[49m\u001b[43m[\u001b[49m\u001b[38;5;124;43m'\u001b[39;49m\u001b[38;5;124;43mPer Member Per Month Cost_Actual\u001b[39;49m\u001b[38;5;124;43m'\u001b[39;49m\u001b[43m]\u001b[49m \u001b[38;5;241m-\u001b[39m merged_data[\u001b[38;5;124m'\u001b[39m\u001b[38;5;124mPredictions_Predicted\u001b[39m\u001b[38;5;124m'\u001b[39m]\n\u001b[1;32m      5\u001b[0m merged_data[\u001b[38;5;124m'\u001b[39m\u001b[38;5;124mPercentage Change\u001b[39m\u001b[38;5;124m'\u001b[39m] \u001b[38;5;241m=\u001b[39m (merged_data[\u001b[38;5;124m'\u001b[39m\u001b[38;5;124mDifference\u001b[39m\u001b[38;5;124m'\u001b[39m] \u001b[38;5;241m/\u001b[39m merged_data[\u001b[38;5;124m'\u001b[39m\u001b[38;5;124mPer Member Per Month Cost_Actual\u001b[39m\u001b[38;5;124m'\u001b[39m]) \u001b[38;5;241m*\u001b[39m \u001b[38;5;241m100\u001b[39m\n",
            "File \u001b[0;32m/anaconda/envs/azureml_py38/lib/python3.8/site-packages/pandas/core/frame.py:3505\u001b[0m, in \u001b[0;36mDataFrame.__getitem__\u001b[0;34m(self, key)\u001b[0m\n\u001b[1;32m   3503\u001b[0m \u001b[38;5;28;01mif\u001b[39;00m \u001b[38;5;28mself\u001b[39m\u001b[38;5;241m.\u001b[39mcolumns\u001b[38;5;241m.\u001b[39mnlevels \u001b[38;5;241m>\u001b[39m \u001b[38;5;241m1\u001b[39m:\n\u001b[1;32m   3504\u001b[0m     \u001b[38;5;28;01mreturn\u001b[39;00m \u001b[38;5;28mself\u001b[39m\u001b[38;5;241m.\u001b[39m_getitem_multilevel(key)\n\u001b[0;32m-> 3505\u001b[0m indexer \u001b[38;5;241m=\u001b[39m \u001b[38;5;28;43mself\u001b[39;49m\u001b[38;5;241;43m.\u001b[39;49m\u001b[43mcolumns\u001b[49m\u001b[38;5;241;43m.\u001b[39;49m\u001b[43mget_loc\u001b[49m\u001b[43m(\u001b[49m\u001b[43mkey\u001b[49m\u001b[43m)\u001b[49m\n\u001b[1;32m   3506\u001b[0m \u001b[38;5;28;01mif\u001b[39;00m is_integer(indexer):\n\u001b[1;32m   3507\u001b[0m     indexer \u001b[38;5;241m=\u001b[39m [indexer]\n",
            "File \u001b[0;32m/anaconda/envs/azureml_py38/lib/python3.8/site-packages/pandas/core/indexes/base.py:3623\u001b[0m, in \u001b[0;36mIndex.get_loc\u001b[0;34m(self, key, method, tolerance)\u001b[0m\n\u001b[1;32m   3621\u001b[0m     \u001b[38;5;28;01mreturn\u001b[39;00m \u001b[38;5;28mself\u001b[39m\u001b[38;5;241m.\u001b[39m_engine\u001b[38;5;241m.\u001b[39mget_loc(casted_key)\n\u001b[1;32m   3622\u001b[0m \u001b[38;5;28;01mexcept\u001b[39;00m \u001b[38;5;167;01mKeyError\u001b[39;00m \u001b[38;5;28;01mas\u001b[39;00m err:\n\u001b[0;32m-> 3623\u001b[0m     \u001b[38;5;28;01mraise\u001b[39;00m \u001b[38;5;167;01mKeyError\u001b[39;00m(key) \u001b[38;5;28;01mfrom\u001b[39;00m \u001b[38;5;21;01merr\u001b[39;00m\n\u001b[1;32m   3624\u001b[0m \u001b[38;5;28;01mexcept\u001b[39;00m \u001b[38;5;167;01mTypeError\u001b[39;00m:\n\u001b[1;32m   3625\u001b[0m     \u001b[38;5;66;03m# If we have a listlike key, _check_indexing_error will raise\u001b[39;00m\n\u001b[1;32m   3626\u001b[0m     \u001b[38;5;66;03m#  InvalidIndexError. Otherwise we fall through and re-raise\u001b[39;00m\n\u001b[1;32m   3627\u001b[0m     \u001b[38;5;66;03m#  the TypeError.\u001b[39;00m\n\u001b[1;32m   3628\u001b[0m     \u001b[38;5;28mself\u001b[39m\u001b[38;5;241m.\u001b[39m_check_indexing_error(key)\n",
            "\u001b[0;31mKeyError\u001b[0m: 'Per Member Per Month Cost_Actual'"
          ]
        }
      ],
      "execution_count": 15,
      "metadata": {
        "jupyter": {
          "source_hidden": false,
          "outputs_hidden": false
        },
        "nteract": {
          "transient": {
            "deleting": false
          }
        },
        "gather": {
          "logged": 1702471236441
        }
      }
    }
  ],
  "metadata": {
    "kernelspec": {
      "name": "python38-azureml",
      "language": "python",
      "display_name": "Python 3.8 - AzureML"
    },
    "language_info": {
      "name": "python",
      "version": "3.8.5",
      "mimetype": "text/x-python",
      "codemirror_mode": {
        "name": "ipython",
        "version": 3
      },
      "pygments_lexer": "ipython3",
      "nbconvert_exporter": "python",
      "file_extension": ".py"
    },
    "microsoft": {
      "ms_spell_check": {
        "ms_spell_check_language": "en"
      },
      "host": {
        "AzureML": {
          "notebookHasBeenCompleted": true
        }
      }
    },
    "kernel_info": {
      "name": "python38-azureml"
    },
    "nteract": {
      "version": "nteract-front-end@1.0.0"
    }
  },
  "nbformat": 4,
  "nbformat_minor": 2
}