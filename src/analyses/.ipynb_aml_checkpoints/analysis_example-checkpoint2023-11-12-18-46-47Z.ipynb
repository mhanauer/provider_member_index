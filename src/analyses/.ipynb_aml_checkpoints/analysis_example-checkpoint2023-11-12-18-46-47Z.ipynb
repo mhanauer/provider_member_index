{
  "cells": [
    {
      "cell_type": "code",
      "source": [
        "%load_ext lab_black"
      ],
      "outputs": [
        {
          "output_type": "stream",
          "name": "stdout",
          "text": "The lab_black extension is already loaded. To reload it, use:\n  %reload_ext lab_black\n"
        }
      ],
      "execution_count": 39,
      "metadata": {
        "jupyter": {
          "source_hidden": false,
          "outputs_hidden": false
        },
        "nteract": {
          "transient": {
            "deleting": false
          }
        }
      }
    },
    {
      "cell_type": "code",
      "source": [
        "from pyprojroot import here\n",
        "import os\n",
        "import pandas as pd\n",
        "import numpy as np\n",
        "import xgboost as xgb\n",
        "from sklearn.model_selection import train_test_split\n",
        "import shap\n",
        "import joblib\n",
        "\n",
        "path_data = here(\"./data\")\n",
        "os.chdir(path_data)\n",
        "\n",
        "data = pd.read_csv(\"data_pmpm.csv\")\n",
        "data.head()"
      ],
      "outputs": [
        {
          "output_type": "execute_result",
          "execution_count": 40,
          "data": {
            "text/plain": "   Hospital ID  High Blood Pressure  High Cholesterol  Diabetes  \\\n0            1                    0                 0         0   \n1            1                    1                 0         0   \n2            3                    1                 0         0   \n3            1                    0                 1         0   \n4            3                    0                 0         0   \n\n   Preventative Services  Per Member Per Month Cost  \n0                      1                3750.141373  \n1                      0                3451.956282  \n2                      1                4211.072976  \n3                      0                2471.602577  \n4                      1                4249.270849  ",
            "text/html": "<div>\n<style scoped>\n    .dataframe tbody tr th:only-of-type {\n        vertical-align: middle;\n    }\n\n    .dataframe tbody tr th {\n        vertical-align: top;\n    }\n\n    .dataframe thead th {\n        text-align: right;\n    }\n</style>\n<table border=\"1\" class=\"dataframe\">\n  <thead>\n    <tr style=\"text-align: right;\">\n      <th></th>\n      <th>Hospital ID</th>\n      <th>High Blood Pressure</th>\n      <th>High Cholesterol</th>\n      <th>Diabetes</th>\n      <th>Preventative Services</th>\n      <th>Per Member Per Month Cost</th>\n    </tr>\n  </thead>\n  <tbody>\n    <tr>\n      <th>0</th>\n      <td>1</td>\n      <td>0</td>\n      <td>0</td>\n      <td>0</td>\n      <td>1</td>\n      <td>3750.141373</td>\n    </tr>\n    <tr>\n      <th>1</th>\n      <td>1</td>\n      <td>1</td>\n      <td>0</td>\n      <td>0</td>\n      <td>0</td>\n      <td>3451.956282</td>\n    </tr>\n    <tr>\n      <th>2</th>\n      <td>3</td>\n      <td>1</td>\n      <td>0</td>\n      <td>0</td>\n      <td>1</td>\n      <td>4211.072976</td>\n    </tr>\n    <tr>\n      <th>3</th>\n      <td>1</td>\n      <td>0</td>\n      <td>1</td>\n      <td>0</td>\n      <td>0</td>\n      <td>2471.602577</td>\n    </tr>\n    <tr>\n      <th>4</th>\n      <td>3</td>\n      <td>0</td>\n      <td>0</td>\n      <td>0</td>\n      <td>1</td>\n      <td>4249.270849</td>\n    </tr>\n  </tbody>\n</table>\n</div>"
          },
          "metadata": {}
        }
      ],
      "execution_count": 40,
      "metadata": {
        "jupyter": {
          "source_hidden": false,
          "outputs_hidden": false
        },
        "nteract": {
          "transient": {
            "deleting": false
          }
        },
        "gather": {
          "logged": 1702406662859
        }
      }
    },
    {
      "cell_type": "code",
      "source": [
        "from sklearn.model_selection import train_test_split\n",
        "import xgboost as xgb\n",
        "from sklearn.metrics import median_absolute_error\n",
        "\n",
        "# Prepare the data\n",
        "X = data.drop([\"Per Member Per Month Cost\", \"Hospital ID\"], axis=1)\n",
        "y = data[\"Per Member Per Month Cost\"]\n",
        "\n",
        "# Split the data into training and testing sets\n",
        "X_train, X_test, y_train, y_test = train_test_split(\n",
        "    X, y, test_size=0.2, random_state=42\n",
        ")\n",
        "\n",
        "# Train the XGBoost model for regression\n",
        "model = xgb.XGBRegressor()\n",
        "model.fit(X_train, y_train)\n",
        "\n",
        "# Make predictions\n",
        "predictions = model.predict(X_test)\n",
        "\n",
        "# Evaluate the model using Mean Squared Error\n",
        "mae = median_absolute_error(y_test, predictions)\n",
        "print(\"Mean Absoulte Error: \", mae)"
      ],
      "outputs": [
        {
          "output_type": "stream",
          "name": "stderr",
          "text": "pandas.Int64Index is deprecated and will be removed from pandas in a future version. Use pandas.Index with the appropriate dtype instead.\n"
        },
        {
          "output_type": "stream",
          "name": "stdout",
          "text": "Mean Absoulte Error:  1305.2200168336512\n"
        }
      ],
      "execution_count": 41,
      "metadata": {
        "jupyter": {
          "source_hidden": false,
          "outputs_hidden": false
        },
        "nteract": {
          "transient": {
            "deleting": false
          }
        },
        "gather": {
          "logged": 1702406665498
        }
      }
    },
    {
      "cell_type": "code",
      "source": [
        "joblib.dump(model, \"model_drivers.joblib\")\n",
        "path_production = here(\"./src/production\")\n",
        "os.chdir(path_production)\n",
        "joblib.dump(model, \"model_drivers.joblib\")\n",
        "os.chdir(path_data)"
      ],
      "outputs": [],
      "execution_count": 42,
      "metadata": {
        "jupyter": {
          "source_hidden": false,
          "outputs_hidden": false
        },
        "nteract": {
          "transient": {
            "deleting": false
          }
        },
        "gather": {
          "logged": 1702406668020
        }
      }
    },
    {
      "cell_type": "code",
      "source": [
        "# Assuming 'data' is your DataFrame and is already defined\n",
        "# ... [Your existing code for data preparation and model training] ...\n",
        "\n",
        "# Create a Tree explainer\n",
        "explainer = shap.Explainer(\n",
        "    model, X_train, model_output=\"raw\", feature_perturbation=\"interventional\"\n",
        ")\n",
        "\n",
        "# Calculate SHAP values - this might take some time for larger datasets\n",
        "shap_values = explainer(data.drop([\"Per Member Per Month Cost\", \"Hospital ID\"], axis=1))"
      ],
      "outputs": [
        {
          "output_type": "stream",
          "name": "stderr",
          "text": " 93%|=================== | 9273/10000 [00:15<00:01]       \r 99%|===================| 9919/10000 [00:16<00:00]       "
        }
      ],
      "execution_count": 43,
      "metadata": {
        "jupyter": {
          "source_hidden": false,
          "outputs_hidden": false
        },
        "nteract": {
          "transient": {
            "deleting": false
          }
        },
        "gather": {
          "logged": 1702406685133
        }
      }
    },
    {
      "cell_type": "code",
      "source": [
        "# Assuming shap_values and X have the same order\n",
        "column_mapping = {\n",
        "    i: name\n",
        "    for i, name in enumerate(\n",
        "        data.drop([\"Per Member Per Month Cost\", \"Hospital ID\"], axis=1).columns\n",
        "    )\n",
        "}\n",
        "\n",
        "# Rename columns in the DataFrame created from SHAP values\n",
        "data_shap_pd = pd.DataFrame(shap_values.values).rename(columns=column_mapping)"
      ],
      "outputs": [],
      "execution_count": 44,
      "metadata": {
        "jupyter": {
          "source_hidden": false,
          "outputs_hidden": false
        },
        "nteract": {
          "transient": {
            "deleting": false
          }
        },
        "gather": {
          "logged": 1702406685241
        }
      }
    },
    {
      "cell_type": "code",
      "source": [
        "data_no_id_outcome = data.drop(columns=[\"Hospital ID\", \"Per Member Per Month Cost\"])\n",
        "data_percentile = data_no_id_outcome.rank(pct=True)"
      ],
      "outputs": [],
      "execution_count": 45,
      "metadata": {
        "jupyter": {
          "source_hidden": false,
          "outputs_hidden": false
        },
        "nteract": {
          "transient": {
            "deleting": false
          }
        },
        "gather": {
          "logged": 1702406685350
        }
      }
    },
    {
      "cell_type": "markdown",
      "source": [
        "Step: Add back hosptial ids and add unique ids"
      ],
      "metadata": {
        "nteract": {
          "transient": {
            "deleting": false
          }
        }
      }
    },
    {
      "cell_type": "code",
      "source": [
        "data_percentile_id = pd.concat([data[[\"Hospital ID\"]], data_percentile], axis=1)\n",
        "\n",
        "data_shap_id = pd.concat([data[[\"Hospital ID\"]], data_shap_pd], axis=1)"
      ],
      "outputs": [],
      "execution_count": 20,
      "metadata": {
        "jupyter": {
          "source_hidden": false,
          "outputs_hidden": false
        },
        "nteract": {
          "transient": {
            "deleting": false
          }
        },
        "gather": {
          "logged": 1702400639464
        }
      }
    },
    {
      "cell_type": "code",
      "source": [
        "data_shap_id.to_csv(\"data_shap_ind.csv\")"
      ],
      "outputs": [],
      "execution_count": 46,
      "metadata": {
        "jupyter": {
          "source_hidden": false,
          "outputs_hidden": false
        },
        "nteract": {
          "transient": {
            "deleting": false
          }
        },
        "gather": {
          "logged": 1702406773439
        }
      }
    },
    {
      "cell_type": "code",
      "source": [
        "import pandas as pd\n",
        "\n",
        "\n",
        "def median_shap_for_high_percentiles(percentile_df, shap_df, id_col):\n",
        "    # Initialize a dictionary to store the results\n",
        "    median_shap_values = {id_col: [], \"variable\": [], \"median_shap\": []}\n",
        "\n",
        "    # Iterate over each ID\n",
        "    for id_value in percentile_df[id_col].unique():\n",
        "        # Filter DataFrames for the current ID\n",
        "        percentile_subdf = percentile_df[percentile_df[id_col] == id_value]\n",
        "        shap_subdf = shap_df[shap_df[id_col] == id_value]\n",
        "\n",
        "        # Iterate over each column (except the ID column)\n",
        "        for col in percentile_df.columns:\n",
        "            if col == id_col:\n",
        "                continue\n",
        "\n",
        "            # Calculate the median of the current column in percentile DataFrame\n",
        "            median_value = percentile_subdf[col].median()\n",
        "\n",
        "            # Filter rows where the percentile value is above the median\n",
        "            rows_above_median = percentile_subdf[\n",
        "                percentile_subdf[col] > median_value\n",
        "            ].index\n",
        "\n",
        "            # Calculate the median SHAP value for these rows\n",
        "            median_shap = shap_subdf.loc[rows_above_median, col].median()\n",
        "\n",
        "            # Store the results\n",
        "            median_shap_values[id_col].append(id_value)\n",
        "            median_shap_values[\"variable\"].append(col)\n",
        "            median_shap_values[\"median_shap\"].append(median_shap)\n",
        "\n",
        "    # Convert the dictionary to a DataFrame and return\n",
        "    return pd.DataFrame(median_shap_values)"
      ],
      "outputs": [],
      "execution_count": 47,
      "metadata": {
        "jupyter": {
          "source_hidden": false,
          "outputs_hidden": false
        },
        "nteract": {
          "transient": {
            "deleting": false
          }
        },
        "gather": {
          "logged": 1702406775056
        }
      }
    },
    {
      "cell_type": "code",
      "source": [
        "# Example usage\n",
        "result_df = (\n",
        "    median_shap_for_high_percentiles(\n",
        "        percentile_df=data_percentile_id,\n",
        "        shap_df=data_shap_id,\n",
        "        id_col=\"Hospital ID\",\n",
        "    )\n",
        "    .fillna(-1200)\n",
        "    .round(2)\n",
        ")"
      ],
      "outputs": [],
      "execution_count": 49,
      "metadata": {
        "jupyter": {
          "source_hidden": false,
          "outputs_hidden": false
        },
        "nteract": {
          "transient": {
            "deleting": false
          }
        },
        "gather": {
          "logged": 1702406784520
        }
      }
    },
    {
      "cell_type": "code",
      "source": [
        "result_df"
      ],
      "outputs": [
        {
          "output_type": "execute_result",
          "execution_count": 50,
          "data": {
            "text/plain": "    Hospital ID               variable  median_shap\n0             1    High Blood Pressure      1718.37\n1             1       High Cholesterol      1020.47\n2             1               Diabetes      1517.72\n3             1  Preventative Services     -1200.00\n4             3    High Blood Pressure      1718.37\n5             3       High Cholesterol      1020.47\n6             3               Diabetes      1517.72\n7             3  Preventative Services     -1066.44\n8             2    High Blood Pressure      1718.37\n9             2       High Cholesterol      1020.47\n10            2               Diabetes      1517.72\n11            2  Preventative Services     -1200.00",
            "text/html": "<div>\n<style scoped>\n    .dataframe tbody tr th:only-of-type {\n        vertical-align: middle;\n    }\n\n    .dataframe tbody tr th {\n        vertical-align: top;\n    }\n\n    .dataframe thead th {\n        text-align: right;\n    }\n</style>\n<table border=\"1\" class=\"dataframe\">\n  <thead>\n    <tr style=\"text-align: right;\">\n      <th></th>\n      <th>Hospital ID</th>\n      <th>variable</th>\n      <th>median_shap</th>\n    </tr>\n  </thead>\n  <tbody>\n    <tr>\n      <th>0</th>\n      <td>1</td>\n      <td>High Blood Pressure</td>\n      <td>1718.37</td>\n    </tr>\n    <tr>\n      <th>1</th>\n      <td>1</td>\n      <td>High Cholesterol</td>\n      <td>1020.47</td>\n    </tr>\n    <tr>\n      <th>2</th>\n      <td>1</td>\n      <td>Diabetes</td>\n      <td>1517.72</td>\n    </tr>\n    <tr>\n      <th>3</th>\n      <td>1</td>\n      <td>Preventative Services</td>\n      <td>-1200.00</td>\n    </tr>\n    <tr>\n      <th>4</th>\n      <td>3</td>\n      <td>High Blood Pressure</td>\n      <td>1718.37</td>\n    </tr>\n    <tr>\n      <th>5</th>\n      <td>3</td>\n      <td>High Cholesterol</td>\n      <td>1020.47</td>\n    </tr>\n    <tr>\n      <th>6</th>\n      <td>3</td>\n      <td>Diabetes</td>\n      <td>1517.72</td>\n    </tr>\n    <tr>\n      <th>7</th>\n      <td>3</td>\n      <td>Preventative Services</td>\n      <td>-1066.44</td>\n    </tr>\n    <tr>\n      <th>8</th>\n      <td>2</td>\n      <td>High Blood Pressure</td>\n      <td>1718.37</td>\n    </tr>\n    <tr>\n      <th>9</th>\n      <td>2</td>\n      <td>High Cholesterol</td>\n      <td>1020.47</td>\n    </tr>\n    <tr>\n      <th>10</th>\n      <td>2</td>\n      <td>Diabetes</td>\n      <td>1517.72</td>\n    </tr>\n    <tr>\n      <th>11</th>\n      <td>2</td>\n      <td>Preventative Services</td>\n      <td>-1200.00</td>\n    </tr>\n  </tbody>\n</table>\n</div>"
          },
          "metadata": {}
        }
      ],
      "execution_count": 50,
      "metadata": {
        "jupyter": {
          "source_hidden": false,
          "outputs_hidden": false
        },
        "nteract": {
          "transient": {
            "deleting": false
          }
        },
        "gather": {
          "logged": 1702406786978
        }
      }
    },
    {
      "cell_type": "code",
      "source": [
        "noise = np.random.uniform(-200, 200, result_df[\"median_shap\"].shape)\n",
        "result_df[\"median_shap\"] = result_df[\"median_shap\"] + noise\n",
        "data_shap_hospital = (\n",
        "    result_df.rename(columns={\"variable\": \"Driver\", \"median_shap\": \"Impact\"}).round(2)\n",
        ").reset_index(drop=True)"
      ],
      "outputs": [],
      "execution_count": 51,
      "metadata": {
        "jupyter": {
          "source_hidden": false,
          "outputs_hidden": false
        },
        "nteract": {
          "transient": {
            "deleting": false
          }
        },
        "gather": {
          "logged": 1702406795831
        }
      }
    },
    {
      "cell_type": "code",
      "source": [
        "data_shap_hospital"
      ],
      "outputs": [
        {
          "output_type": "execute_result",
          "execution_count": 52,
          "data": {
            "text/plain": "    Hospital ID                 Driver   Impact\n0             1    High Blood Pressure  1661.88\n1             1       High Cholesterol  1095.58\n2             1               Diabetes  1660.67\n3             1  Preventative Services -1212.19\n4             3    High Blood Pressure  1548.51\n5             3       High Cholesterol  1137.62\n6             3               Diabetes  1564.09\n7             3  Preventative Services  -907.40\n8             2    High Blood Pressure  1872.72\n9             2       High Cholesterol   840.72\n10            2               Diabetes  1395.19\n11            2  Preventative Services -1320.12",
            "text/html": "<div>\n<style scoped>\n    .dataframe tbody tr th:only-of-type {\n        vertical-align: middle;\n    }\n\n    .dataframe tbody tr th {\n        vertical-align: top;\n    }\n\n    .dataframe thead th {\n        text-align: right;\n    }\n</style>\n<table border=\"1\" class=\"dataframe\">\n  <thead>\n    <tr style=\"text-align: right;\">\n      <th></th>\n      <th>Hospital ID</th>\n      <th>Driver</th>\n      <th>Impact</th>\n    </tr>\n  </thead>\n  <tbody>\n    <tr>\n      <th>0</th>\n      <td>1</td>\n      <td>High Blood Pressure</td>\n      <td>1661.88</td>\n    </tr>\n    <tr>\n      <th>1</th>\n      <td>1</td>\n      <td>High Cholesterol</td>\n      <td>1095.58</td>\n    </tr>\n    <tr>\n      <th>2</th>\n      <td>1</td>\n      <td>Diabetes</td>\n      <td>1660.67</td>\n    </tr>\n    <tr>\n      <th>3</th>\n      <td>1</td>\n      <td>Preventative Services</td>\n      <td>-1212.19</td>\n    </tr>\n    <tr>\n      <th>4</th>\n      <td>3</td>\n      <td>High Blood Pressure</td>\n      <td>1548.51</td>\n    </tr>\n    <tr>\n      <th>5</th>\n      <td>3</td>\n      <td>High Cholesterol</td>\n      <td>1137.62</td>\n    </tr>\n    <tr>\n      <th>6</th>\n      <td>3</td>\n      <td>Diabetes</td>\n      <td>1564.09</td>\n    </tr>\n    <tr>\n      <th>7</th>\n      <td>3</td>\n      <td>Preventative Services</td>\n      <td>-907.40</td>\n    </tr>\n    <tr>\n      <th>8</th>\n      <td>2</td>\n      <td>High Blood Pressure</td>\n      <td>1872.72</td>\n    </tr>\n    <tr>\n      <th>9</th>\n      <td>2</td>\n      <td>High Cholesterol</td>\n      <td>840.72</td>\n    </tr>\n    <tr>\n      <th>10</th>\n      <td>2</td>\n      <td>Diabetes</td>\n      <td>1395.19</td>\n    </tr>\n    <tr>\n      <th>11</th>\n      <td>2</td>\n      <td>Preventative Services</td>\n      <td>-1320.12</td>\n    </tr>\n  </tbody>\n</table>\n</div>"
          },
          "metadata": {}
        }
      ],
      "execution_count": 52,
      "metadata": {
        "jupyter": {
          "source_hidden": false,
          "outputs_hidden": false
        },
        "nteract": {
          "transient": {
            "deleting": false
          }
        },
        "gather": {
          "logged": 1702406797840
        }
      }
    },
    {
      "cell_type": "code",
      "source": [
        "data_shap_hospital.to_csv(\"data_shap_hospital.csv\")"
      ],
      "outputs": [],
      "execution_count": 53,
      "metadata": {
        "jupyter": {
          "source_hidden": false,
          "outputs_hidden": false
        },
        "nteract": {
          "transient": {
            "deleting": false
          }
        },
        "gather": {
          "logged": 1702406803313
        }
      }
    }
  ],
  "metadata": {
    "kernelspec": {
      "name": "python38-azureml",
      "language": "python",
      "display_name": "Python 3.8 - AzureML"
    },
    "language_info": {
      "name": "python",
      "version": "3.8.5",
      "mimetype": "text/x-python",
      "codemirror_mode": {
        "name": "ipython",
        "version": 3
      },
      "pygments_lexer": "ipython3",
      "nbconvert_exporter": "python",
      "file_extension": ".py"
    },
    "microsoft": {
      "ms_spell_check": {
        "ms_spell_check_language": "en"
      },
      "host": {
        "AzureML": {
          "notebookHasBeenCompleted": true
        }
      }
    },
    "kernel_info": {
      "name": "python38-azureml"
    },
    "nteract": {
      "version": "nteract-front-end@1.0.0"
    }
  },
  "nbformat": 4,
  "nbformat_minor": 2
}