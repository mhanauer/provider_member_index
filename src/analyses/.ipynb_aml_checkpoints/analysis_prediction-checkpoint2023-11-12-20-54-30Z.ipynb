{
  "cells": [
    {
      "cell_type": "code",
      "source": [
        "%load_ext lab_black"
      ],
      "outputs": [
        {
          "output_type": "stream",
          "name": "stdout",
          "text": "The lab_black extension is already loaded. To reload it, use:\n  %reload_ext lab_black\n"
        }
      ],
      "execution_count": 41,
      "metadata": {
        "jupyter": {
          "source_hidden": false,
          "outputs_hidden": false
        },
        "nteract": {
          "transient": {
            "deleting": false
          }
        }
      }
    },
    {
      "cell_type": "code",
      "source": [
        "from pyprojroot import here\n",
        "import os\n",
        "from skimpy import clean_columns\n",
        "import pandas as pd\n",
        "import numpy as np\n",
        "import xgboost as xgb\n",
        "from sklearn.model_selection import train_test_split\n",
        "import shap\n",
        "import joblib\n",
        "from joblib import load\n",
        "\n",
        "path_data = here(\"./data\")\n",
        "os.chdir(path_data)\n",
        "\n",
        "data = pd.read_csv(\"data_pmpm.csv\")\n",
        "data_predict = data.drop(columns=[\"Hospital ID\", \"Per Member Per Month Cost\"])\n",
        "# Load the model\n",
        "model = joblib.load(\"model_drivers.joblib\")"
      ],
      "outputs": [],
      "execution_count": 42,
      "metadata": {
        "jupyter": {
          "source_hidden": false,
          "outputs_hidden": false
        },
        "nteract": {
          "transient": {
            "deleting": false
          }
        },
        "gather": {
          "logged": 1702408657535
        }
      }
    },
    {
      "cell_type": "markdown",
      "source": [
        "Get the actual percentage of members with ER visits in the last 30 days for each hospital\n",
        "\n",
        "Show them their average percentages for all four variables.\n",
        "\n",
        "Add some noise for the features by Hospital ID\n",
        "\n",
        "Then create a function to allow for simulated data with the exact percentage that someone shows"
      ],
      "metadata": {
        "nteract": {
          "transient": {
            "deleting": false
          }
        }
      }
    },
    {
      "cell_type": "code",
      "source": [
        "data.groupby(\"Hospital ID\").mean().reset_index().round(2)"
      ],
      "outputs": [
        {
          "output_type": "execute_result",
          "execution_count": 43,
          "data": {
            "text/plain": "   Hospital ID  High Blood Pressure  High Cholesterol  Diabetes  \\\n0            1                 0.29              0.41      0.25   \n1            2                 0.28              0.40      0.24   \n2            3                 0.29              0.40      0.24   \n\n   Preventative Services  Per Member Per Month Cost  \n0                   0.51                    5225.40  \n1                   0.50                    5106.84  \n2                   0.49                    5166.67  ",
            "text/html": "<div>\n<style scoped>\n    .dataframe tbody tr th:only-of-type {\n        vertical-align: middle;\n    }\n\n    .dataframe tbody tr th {\n        vertical-align: top;\n    }\n\n    .dataframe thead th {\n        text-align: right;\n    }\n</style>\n<table border=\"1\" class=\"dataframe\">\n  <thead>\n    <tr style=\"text-align: right;\">\n      <th></th>\n      <th>Hospital ID</th>\n      <th>High Blood Pressure</th>\n      <th>High Cholesterol</th>\n      <th>Diabetes</th>\n      <th>Preventative Services</th>\n      <th>Per Member Per Month Cost</th>\n    </tr>\n  </thead>\n  <tbody>\n    <tr>\n      <th>0</th>\n      <td>1</td>\n      <td>0.29</td>\n      <td>0.41</td>\n      <td>0.25</td>\n      <td>0.51</td>\n      <td>5225.40</td>\n    </tr>\n    <tr>\n      <th>1</th>\n      <td>2</td>\n      <td>0.28</td>\n      <td>0.40</td>\n      <td>0.24</td>\n      <td>0.50</td>\n      <td>5106.84</td>\n    </tr>\n    <tr>\n      <th>2</th>\n      <td>3</td>\n      <td>0.29</td>\n      <td>0.40</td>\n      <td>0.24</td>\n      <td>0.49</td>\n      <td>5166.67</td>\n    </tr>\n  </tbody>\n</table>\n</div>"
          },
          "metadata": {}
        }
      ],
      "execution_count": 43,
      "metadata": {
        "jupyter": {
          "source_hidden": false,
          "outputs_hidden": false
        },
        "nteract": {
          "transient": {
            "deleting": false
          }
        },
        "gather": {
          "logged": 1702408660427
        }
      }
    },
    {
      "cell_type": "markdown",
      "source": [
        "Step: Create a function that generates "
      ],
      "metadata": {
        "nteract": {
          "transient": {
            "deleting": false
          }
        }
      }
    },
    {
      "cell_type": "code",
      "source": [
        "import pandas as pd\n",
        "import numpy as np\n",
        "\n",
        "\n",
        "def adjust_binary_percentages(df, **column_percentages):\n",
        "    \"\"\"\n",
        "    Adjusts the percentage of 1's in each specified column of a binary DataFrame.\n",
        "\n",
        "    Args:\n",
        "    df (pd.DataFrame): DataFrame with binary values.\n",
        "    column_percentages (dict): A dictionary where keys are column names and values are the new desired percentages of 1's.\n",
        "\n",
        "    Returns:\n",
        "    pd.DataFrame: Modified DataFrame.\n",
        "    \"\"\"\n",
        "\n",
        "    for column, percentage in column_percentages.items():\n",
        "        if column not in df.columns:\n",
        "            raise ValueError(f\"Column {column} not found in DataFrame\")\n",
        "\n",
        "        # Calculate current percentage of 1's\n",
        "        current_percentage = df[column].mean()\n",
        "\n",
        "        # Calculate the desired number of 1's\n",
        "        target_count = int(df.shape[0] * percentage)\n",
        "\n",
        "        # Find indices where changes are needed\n",
        "        ones_indices = df[df[column] == 1].index\n",
        "        zeros_indices = df[df[column] == 0].index\n",
        "\n",
        "        if target_count > ones_indices.size:  # Need to add more 1's\n",
        "            change_count = target_count - ones_indices.size\n",
        "            indices_to_change = np.random.choice(\n",
        "                zeros_indices, change_count, replace=False\n",
        "            )\n",
        "            df.loc[indices_to_change, column] = 1\n",
        "        else:  # Need to remove some 1's\n",
        "            change_count = ones_indices.size - target_count\n",
        "            indices_to_change = np.random.choice(\n",
        "                ones_indices, change_count, replace=False\n",
        "            )\n",
        "            df.loc[indices_to_change, column] = 0\n",
        "\n",
        "    return df"
      ],
      "outputs": [],
      "execution_count": 44,
      "metadata": {
        "jupyter": {
          "source_hidden": false,
          "outputs_hidden": false
        },
        "nteract": {
          "transient": {
            "deleting": false
          }
        },
        "gather": {
          "logged": 1702408664019
        }
      }
    },
    {
      "cell_type": "code",
      "source": [
        "data_predict_adjust = clean_columns(data_predict.copy())"
      ],
      "outputs": [],
      "execution_count": 55,
      "metadata": {
        "jupyter": {
          "source_hidden": false,
          "outputs_hidden": false
        },
        "nteract": {
          "transient": {
            "deleting": false
          }
        },
        "gather": {
          "logged": 1702408700887
        }
      }
    },
    {
      "cell_type": "code",
      "source": [
        "data_predict_adjust = adjust_binary_percentages(\n",
        "    df=data_predict_adjust,\n",
        "    high_blood_pressure=0.9,\n",
        "    high_cholesterol=0.7,\n",
        "    diabetes=0.6,\n",
        "    preventative_services=0.1,\n",
        ")\n",
        "data_predict_adjust.rename(\n",
        "    columns={\n",
        "        \"high_blood_pressure\": \"High Blood Pressure\",\n",
        "        \"high_cholesterol\": \"High Cholesterol\",\n",
        "        \"diabetes\": \"Diabetes\",\n",
        "        \"preventative_services\": \"Preventative Services\",\n",
        "    },\n",
        "    inplace=True,\n",
        ")"
      ],
      "outputs": [],
      "execution_count": 56,
      "metadata": {
        "jupyter": {
          "source_hidden": false,
          "outputs_hidden": false
        },
        "nteract": {
          "transient": {
            "deleting": false
          }
        },
        "gather": {
          "logged": 1702408701893
        }
      }
    },
    {
      "cell_type": "code",
      "source": [
        "# Make predictions (opxtional, to evaluate model)\n",
        "predictions = model.predict(data_predict_adjust)\n",
        "predictions_pd = pd.DataFrame(predictions).rename(columns={0: \"Predictions\"})\n",
        "predictions_pd"
      ],
      "outputs": [
        {
          "output_type": "stream",
          "name": "stderr",
          "text": "pandas.Int64Index is deprecated and will be removed from pandas in a future version. Use pandas.Index with the appropriate dtype instead.\n"
        },
        {
          "output_type": "execute_result",
          "execution_count": 57,
          "data": {
            "text/plain": "      Predictions\n0     6661.562500\n1     8592.769531\n2     9840.030273\n3     8592.769531\n4     6727.020508\n...           ...\n9995  8974.455078\n9996  6661.562500\n9997  8905.558594\n9998  8592.769531\n9999  9840.030273\n\n[10000 rows x 1 columns]",
            "text/html": "<div>\n<style scoped>\n    .dataframe tbody tr th:only-of-type {\n        vertical-align: middle;\n    }\n\n    .dataframe tbody tr th {\n        vertical-align: top;\n    }\n\n    .dataframe thead th {\n        text-align: right;\n    }\n</style>\n<table border=\"1\" class=\"dataframe\">\n  <thead>\n    <tr style=\"text-align: right;\">\n      <th></th>\n      <th>Predictions</th>\n    </tr>\n  </thead>\n  <tbody>\n    <tr>\n      <th>0</th>\n      <td>6661.562500</td>\n    </tr>\n    <tr>\n      <th>1</th>\n      <td>8592.769531</td>\n    </tr>\n    <tr>\n      <th>2</th>\n      <td>9840.030273</td>\n    </tr>\n    <tr>\n      <th>3</th>\n      <td>8592.769531</td>\n    </tr>\n    <tr>\n      <th>4</th>\n      <td>6727.020508</td>\n    </tr>\n    <tr>\n      <th>...</th>\n      <td>...</td>\n    </tr>\n    <tr>\n      <th>9995</th>\n      <td>8974.455078</td>\n    </tr>\n    <tr>\n      <th>9996</th>\n      <td>6661.562500</td>\n    </tr>\n    <tr>\n      <th>9997</th>\n      <td>8905.558594</td>\n    </tr>\n    <tr>\n      <th>9998</th>\n      <td>8592.769531</td>\n    </tr>\n    <tr>\n      <th>9999</th>\n      <td>9840.030273</td>\n    </tr>\n  </tbody>\n</table>\n<p>10000 rows × 1 columns</p>\n</div>"
          },
          "metadata": {}
        }
      ],
      "execution_count": 57,
      "metadata": {
        "jupyter": {
          "source_hidden": false,
          "outputs_hidden": false
        },
        "nteract": {
          "transient": {
            "deleting": false
          }
        },
        "gather": {
          "logged": 1702408704273
        }
      }
    },
    {
      "cell_type": "code",
      "source": [
        "data_predictions_hospital_id = pd.concat([data[\"Hospital ID\"], predictions_pd], axis=1)\n",
        "\n",
        "data_predictions_hospital_group = (\n",
        "    data_predictions_hospital_id.groupby(\"Hospital ID\").mean().reset_index().round(2)\n",
        ")\n",
        "\n",
        "noise = np.random.uniform(\n",
        "    -100, 100, data_predictions_hospital_group[\"Predictions\"].shape\n",
        ")\n",
        "data_predictions_hospital_group[\"Predictions\"] = (\n",
        "    data_predictions_hospital_group[\"Predictions\"]  # + noise\n",
        ").round(2)\n",
        "\n",
        "data_predictions_hospital_group"
      ],
      "outputs": [
        {
          "output_type": "execute_result",
          "execution_count": 60,
          "data": {
            "text/plain": "   Hospital ID  Predictions\n0            1  8570.530273\n1            2  8571.200195\n2            3  8610.139648",
            "text/html": "<div>\n<style scoped>\n    .dataframe tbody tr th:only-of-type {\n        vertical-align: middle;\n    }\n\n    .dataframe tbody tr th {\n        vertical-align: top;\n    }\n\n    .dataframe thead th {\n        text-align: right;\n    }\n</style>\n<table border=\"1\" class=\"dataframe\">\n  <thead>\n    <tr style=\"text-align: right;\">\n      <th></th>\n      <th>Hospital ID</th>\n      <th>Predictions</th>\n    </tr>\n  </thead>\n  <tbody>\n    <tr>\n      <th>0</th>\n      <td>1</td>\n      <td>8570.530273</td>\n    </tr>\n    <tr>\n      <th>1</th>\n      <td>2</td>\n      <td>8571.200195</td>\n    </tr>\n    <tr>\n      <th>2</th>\n      <td>3</td>\n      <td>8610.139648</td>\n    </tr>\n  </tbody>\n</table>\n</div>"
          },
          "metadata": {}
        }
      ],
      "execution_count": 60,
      "metadata": {
        "jupyter": {
          "source_hidden": false,
          "outputs_hidden": false
        },
        "nteract": {
          "transient": {
            "deleting": false
          }
        },
        "gather": {
          "logged": 1702408745314
        }
      }
    }
  ],
  "metadata": {
    "kernelspec": {
      "name": "python38-azureml",
      "language": "python",
      "display_name": "Python 3.8 - AzureML"
    },
    "language_info": {
      "name": "python",
      "version": "3.8.5",
      "mimetype": "text/x-python",
      "codemirror_mode": {
        "name": "ipython",
        "version": 3
      },
      "pygments_lexer": "ipython3",
      "nbconvert_exporter": "python",
      "file_extension": ".py"
    },
    "microsoft": {
      "ms_spell_check": {
        "ms_spell_check_language": "en"
      },
      "host": {
        "AzureML": {
          "notebookHasBeenCompleted": true
        }
      }
    },
    "kernel_info": {
      "name": "python38-azureml"
    },
    "nteract": {
      "version": "nteract-front-end@1.0.0"
    }
  },
  "nbformat": 4,
  "nbformat_minor": 2
}