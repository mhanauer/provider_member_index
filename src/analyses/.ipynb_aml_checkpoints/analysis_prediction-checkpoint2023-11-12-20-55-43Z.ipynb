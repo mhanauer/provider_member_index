{
  "cells": [
    {
      "cell_type": "code",
      "source": [
        "%load_ext lab_black"
      ],
      "outputs": [],
      "execution_count": 1,
      "metadata": {
        "jupyter": {
          "source_hidden": false,
          "outputs_hidden": false
        },
        "nteract": {
          "transient": {
            "deleting": false
          }
        }
      }
    },
    {
      "cell_type": "code",
      "source": [
        "from pyprojroot import here\n",
        "import os\n",
        "from skimpy import clean_columns\n",
        "import pandas as pd\n",
        "import numpy as np\n",
        "import xgboost as xgb\n",
        "from sklearn.model_selection import train_test_split\n",
        "import shap\n",
        "import joblib\n",
        "from joblib import load\n",
        "\n",
        "path_data = here(\"./data\")\n",
        "os.chdir(path_data)\n",
        "\n",
        "data = pd.read_csv(\"data_pmpm.csv\")\n",
        "data_predict = data.drop(columns=[\"Hospital ID\", \"Per Member Per Month Cost\"])\n",
        "# Load the model\n",
        "model = joblib.load(\"model_drivers.joblib\")"
      ],
      "outputs": [
        {
          "output_type": "stream",
          "name": "stderr",
          "text": "/anaconda/envs/azureml_py38/lib/python3.8/site-packages/xgboost/compat.py:31: FutureWarning: pandas.Int64Index is deprecated and will be removed from pandas in a future version. Use pandas.Index with the appropriate dtype instead.\n  from pandas import MultiIndex, Int64Index\n"
        }
      ],
      "execution_count": 2,
      "metadata": {
        "jupyter": {
          "source_hidden": false,
          "outputs_hidden": false
        },
        "nteract": {
          "transient": {
            "deleting": false
          }
        },
        "gather": {
          "logged": 1702414492099
        }
      }
    },
    {
      "cell_type": "markdown",
      "source": [
        "Get the actual percentage of members with ER visits in the last 30 days for each hospital\n",
        "\n",
        "Show them their average percentages for all four variables.\n",
        "\n",
        "Add some noise for the features by Hospital ID\n",
        "\n",
        "Then create a function to allow for simulated data with the exact percentage that someone shows"
      ],
      "metadata": {
        "nteract": {
          "transient": {
            "deleting": false
          }
        }
      }
    },
    {
      "cell_type": "code",
      "source": [
        "data.groupby(\"Hospital ID\").mean().reset_index().round(2)"
      ],
      "outputs": [
        {
          "output_type": "execute_result",
          "execution_count": 3,
          "data": {
            "text/plain": "   Hospital ID  High Blood Pressure  High Cholesterol  Diabetes  \\\n0            1                  0.3              0.40      0.25   \n1            2                  0.3              0.40      0.25   \n2            3                  0.3              0.41      0.25   \n\n   Preventative Services  Per Member Per Month Cost  \n0                    0.5                    5178.47  \n1                    0.5                    5163.05  \n2                    0.5                    5179.44  ",
            "text/html": "<div>\n<style scoped>\n    .dataframe tbody tr th:only-of-type {\n        vertical-align: middle;\n    }\n\n    .dataframe tbody tr th {\n        vertical-align: top;\n    }\n\n    .dataframe thead th {\n        text-align: right;\n    }\n</style>\n<table border=\"1\" class=\"dataframe\">\n  <thead>\n    <tr style=\"text-align: right;\">\n      <th></th>\n      <th>Hospital ID</th>\n      <th>High Blood Pressure</th>\n      <th>High Cholesterol</th>\n      <th>Diabetes</th>\n      <th>Preventative Services</th>\n      <th>Per Member Per Month Cost</th>\n    </tr>\n  </thead>\n  <tbody>\n    <tr>\n      <th>0</th>\n      <td>1</td>\n      <td>0.3</td>\n      <td>0.40</td>\n      <td>0.25</td>\n      <td>0.5</td>\n      <td>5178.47</td>\n    </tr>\n    <tr>\n      <th>1</th>\n      <td>2</td>\n      <td>0.3</td>\n      <td>0.40</td>\n      <td>0.25</td>\n      <td>0.5</td>\n      <td>5163.05</td>\n    </tr>\n    <tr>\n      <th>2</th>\n      <td>3</td>\n      <td>0.3</td>\n      <td>0.41</td>\n      <td>0.25</td>\n      <td>0.5</td>\n      <td>5179.44</td>\n    </tr>\n  </tbody>\n</table>\n</div>"
          },
          "metadata": {}
        }
      ],
      "execution_count": 3,
      "metadata": {
        "jupyter": {
          "source_hidden": false,
          "outputs_hidden": false
        },
        "nteract": {
          "transient": {
            "deleting": false
          }
        },
        "gather": {
          "logged": 1702414492235
        }
      }
    },
    {
      "cell_type": "markdown",
      "source": [
        "Step: Create a function that generates "
      ],
      "metadata": {
        "nteract": {
          "transient": {
            "deleting": false
          }
        }
      }
    },
    {
      "cell_type": "code",
      "source": [
        "import pandas as pd\n",
        "import numpy as np\n",
        "\n",
        "\n",
        "def adjust_binary_percentages(df, **column_percentages):\n",
        "    \"\"\"\n",
        "    Adjusts the percentage of 1's in each specified column of a binary DataFrame.\n",
        "\n",
        "    Args:\n",
        "    df (pd.DataFrame): DataFrame with binary values.\n",
        "    column_percentages (dict): A dictionary where keys are column names and values are the new desired percentages of 1's.\n",
        "\n",
        "    Returns:\n",
        "    pd.DataFrame: Modified DataFrame.\n",
        "    \"\"\"\n",
        "\n",
        "    for column, percentage in column_percentages.items():\n",
        "        if column not in df.columns:\n",
        "            raise ValueError(f\"Column {column} not found in DataFrame\")\n",
        "\n",
        "        # Calculate current percentage of 1's\n",
        "        current_percentage = df[column].mean()\n",
        "\n",
        "        # Calculate the desired number of 1's\n",
        "        target_count = int(df.shape[0] * percentage)\n",
        "\n",
        "        # Find indices where changes are needed\n",
        "        ones_indices = df[df[column] == 1].index\n",
        "        zeros_indices = df[df[column] == 0].index\n",
        "\n",
        "        if target_count > ones_indices.size:  # Need to add more 1's\n",
        "            change_count = target_count - ones_indices.size\n",
        "            indices_to_change = np.random.choice(\n",
        "                zeros_indices, change_count, replace=False\n",
        "            )\n",
        "            df.loc[indices_to_change, column] = 1\n",
        "        else:  # Need to remove some 1's\n",
        "            change_count = ones_indices.size - target_count\n",
        "            indices_to_change = np.random.choice(\n",
        "                ones_indices, change_count, replace=False\n",
        "            )\n",
        "            df.loc[indices_to_change, column] = 0\n",
        "\n",
        "    return df"
      ],
      "outputs": [],
      "execution_count": 4,
      "metadata": {
        "jupyter": {
          "source_hidden": false,
          "outputs_hidden": false
        },
        "nteract": {
          "transient": {
            "deleting": false
          }
        },
        "gather": {
          "logged": 1702414492346
        }
      }
    },
    {
      "cell_type": "code",
      "source": [
        "data_predict_adjust = clean_columns(data_predict.copy())"
      ],
      "outputs": [],
      "execution_count": 10,
      "metadata": {
        "jupyter": {
          "source_hidden": false,
          "outputs_hidden": false
        },
        "nteract": {
          "transient": {
            "deleting": false
          }
        },
        "gather": {
          "logged": 1702414510510
        }
      }
    },
    {
      "cell_type": "code",
      "source": [
        "data_predict_adjust = adjust_binary_percentages(\n",
        "    df=data_predict_adjust,\n",
        "    high_blood_pressure=0.9,\n",
        "    high_cholesterol=0.7,\n",
        "    diabetes=0.6,\n",
        "    preventative_services=0.5,\n",
        ")\n",
        "data_predict_adjust.rename(\n",
        "    columns={\n",
        "        \"high_blood_pressure\": \"High Blood Pressure\",\n",
        "        \"high_cholesterol\": \"High Cholesterol\",\n",
        "        \"diabetes\": \"Diabetes\",\n",
        "        \"preventative_services\": \"Preventative Services\",\n",
        "    },\n",
        "    inplace=True,\n",
        ")"
      ],
      "outputs": [],
      "execution_count": 11,
      "metadata": {
        "jupyter": {
          "source_hidden": false,
          "outputs_hidden": false
        },
        "nteract": {
          "transient": {
            "deleting": false
          }
        },
        "gather": {
          "logged": 1702414511598
        }
      }
    },
    {
      "cell_type": "code",
      "source": [
        "# Make predictions (opxtional, to evaluate model)\n",
        "predictions = model.predict(data_predict_adjust)\n",
        "predictions_pd = pd.DataFrame(predictions).rename(columns={0: \"Predictions\"})\n",
        "predictions_pd"
      ],
      "outputs": [
        {
          "output_type": "stream",
          "name": "stderr",
          "text": "pandas.Int64Index is deprecated and will be removed from pandas in a future version. Use pandas.Index with the appropriate dtype instead.\n"
        },
        {
          "output_type": "execute_result",
          "execution_count": 12,
          "data": {
            "text/plain": "       Predictions\n0      8604.878906\n1      6686.411621\n2      9780.978516\n3      9780.978516\n4      7086.763184\n...            ...\n99995  8929.051758\n99996  8604.878906\n99997  4509.191895\n99998  6779.080078\n99999  4509.191895\n\n[100000 rows x 1 columns]",
            "text/html": "<div>\n<style scoped>\n    .dataframe tbody tr th:only-of-type {\n        vertical-align: middle;\n    }\n\n    .dataframe tbody tr th {\n        vertical-align: top;\n    }\n\n    .dataframe thead th {\n        text-align: right;\n    }\n</style>\n<table border=\"1\" class=\"dataframe\">\n  <thead>\n    <tr style=\"text-align: right;\">\n      <th></th>\n      <th>Predictions</th>\n    </tr>\n  </thead>\n  <tbody>\n    <tr>\n      <th>0</th>\n      <td>8604.878906</td>\n    </tr>\n    <tr>\n      <th>1</th>\n      <td>6686.411621</td>\n    </tr>\n    <tr>\n      <th>2</th>\n      <td>9780.978516</td>\n    </tr>\n    <tr>\n      <th>3</th>\n      <td>9780.978516</td>\n    </tr>\n    <tr>\n      <th>4</th>\n      <td>7086.763184</td>\n    </tr>\n    <tr>\n      <th>...</th>\n      <td>...</td>\n    </tr>\n    <tr>\n      <th>99995</th>\n      <td>8929.051758</td>\n    </tr>\n    <tr>\n      <th>99996</th>\n      <td>8604.878906</td>\n    </tr>\n    <tr>\n      <th>99997</th>\n      <td>4509.191895</td>\n    </tr>\n    <tr>\n      <th>99998</th>\n      <td>6779.080078</td>\n    </tr>\n    <tr>\n      <th>99999</th>\n      <td>4509.191895</td>\n    </tr>\n  </tbody>\n</table>\n<p>100000 rows × 1 columns</p>\n</div>"
          },
          "metadata": {}
        }
      ],
      "execution_count": 12,
      "metadata": {
        "jupyter": {
          "source_hidden": false,
          "outputs_hidden": false
        },
        "nteract": {
          "transient": {
            "deleting": false
          }
        },
        "gather": {
          "logged": 1702414514231
        }
      }
    },
    {
      "cell_type": "code",
      "source": [
        "data_predictions_hospital_id = pd.concat([data[\"Hospital ID\"], predictions_pd], axis=1)\n",
        "\n",
        "data_predictions_hospital_group = (\n",
        "    data_predictions_hospital_id.groupby(\"Hospital ID\").mean().reset_index().round(2)\n",
        ")\n",
        "\n",
        "noise = np.random.uniform(\n",
        "    -100, 100, data_predictions_hospital_group[\"Predictions\"].shape\n",
        ")\n",
        "data_predictions_hospital_group[\"Predictions\"] = (\n",
        "    data_predictions_hospital_group[\"Predictions\"]  # + noise\n",
        ").round(2)\n",
        "\n",
        "data_predictions_hospital_group"
      ],
      "outputs": [
        {
          "output_type": "execute_result",
          "execution_count": 13,
          "data": {
            "text/plain": "   Hospital ID  Predictions\n0            1  7943.109863\n1            2  7957.100098\n2            3  7931.859863",
            "text/html": "<div>\n<style scoped>\n    .dataframe tbody tr th:only-of-type {\n        vertical-align: middle;\n    }\n\n    .dataframe tbody tr th {\n        vertical-align: top;\n    }\n\n    .dataframe thead th {\n        text-align: right;\n    }\n</style>\n<table border=\"1\" class=\"dataframe\">\n  <thead>\n    <tr style=\"text-align: right;\">\n      <th></th>\n      <th>Hospital ID</th>\n      <th>Predictions</th>\n    </tr>\n  </thead>\n  <tbody>\n    <tr>\n      <th>0</th>\n      <td>1</td>\n      <td>7943.109863</td>\n    </tr>\n    <tr>\n      <th>1</th>\n      <td>2</td>\n      <td>7957.100098</td>\n    </tr>\n    <tr>\n      <th>2</th>\n      <td>3</td>\n      <td>7931.859863</td>\n    </tr>\n  </tbody>\n</table>\n</div>"
          },
          "metadata": {}
        }
      ],
      "execution_count": 13,
      "metadata": {
        "jupyter": {
          "source_hidden": false,
          "outputs_hidden": false
        },
        "nteract": {
          "transient": {
            "deleting": false
          }
        },
        "gather": {
          "logged": 1702414516504
        }
      }
    }
  ],
  "metadata": {
    "kernelspec": {
      "name": "python38-azureml",
      "language": "python",
      "display_name": "Python 3.8 - AzureML"
    },
    "language_info": {
      "name": "python",
      "version": "3.8.5",
      "mimetype": "text/x-python",
      "codemirror_mode": {
        "name": "ipython",
        "version": 3
      },
      "pygments_lexer": "ipython3",
      "nbconvert_exporter": "python",
      "file_extension": ".py"
    },
    "microsoft": {
      "ms_spell_check": {
        "ms_spell_check_language": "en"
      },
      "host": {
        "AzureML": {
          "notebookHasBeenCompleted": true
        }
      }
    },
    "kernel_info": {
      "name": "python38-azureml"
    },
    "nteract": {
      "version": "nteract-front-end@1.0.0"
    }
  },
  "nbformat": 4,
  "nbformat_minor": 2
}