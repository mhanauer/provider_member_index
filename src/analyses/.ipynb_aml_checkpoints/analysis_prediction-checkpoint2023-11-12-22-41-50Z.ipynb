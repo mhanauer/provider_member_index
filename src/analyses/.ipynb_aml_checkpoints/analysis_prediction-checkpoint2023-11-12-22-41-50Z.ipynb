{
  "cells": [
    {
      "cell_type": "code",
      "source": [
        "%load_ext lab_black"
      ],
      "outputs": [
        {
          "output_type": "stream",
          "name": "stdout",
          "text": "The lab_black extension is already loaded. To reload it, use:\n  %reload_ext lab_black\n"
        }
      ],
      "execution_count": 15,
      "metadata": {
        "jupyter": {
          "source_hidden": false,
          "outputs_hidden": false
        },
        "nteract": {
          "transient": {
            "deleting": false
          }
        }
      }
    },
    {
      "cell_type": "code",
      "source": [
        "from pyprojroot import here\n",
        "import os\n",
        "from skimpy import clean_columns\n",
        "import pandas as pd\n",
        "import numpy as np\n",
        "import xgboost as xgb\n",
        "from sklearn.model_selection import train_test_split\n",
        "import shap\n",
        "import joblib\n",
        "from joblib import load\n",
        "\n",
        "path_data = here(\"./data\")\n",
        "os.chdir(path_data)\n",
        "\n",
        "data = pd.read_csv(\"data_pmpm.csv\")\n",
        "data_predict = data.drop(columns=[\"Hospital ID\", \"Per Member Per Month Cost\"])\n",
        "# Load the model\n",
        "model = joblib.load(\"model_drivers.joblib\")"
      ],
      "outputs": [],
      "execution_count": 16,
      "metadata": {
        "jupyter": {
          "source_hidden": false,
          "outputs_hidden": false
        },
        "nteract": {
          "transient": {
            "deleting": false
          }
        },
        "gather": {
          "logged": 1702414850531
        }
      }
    },
    {
      "cell_type": "markdown",
      "source": [
        "Get the actual percentage of members with ER visits in the last 30 days for each hospital\n",
        "\n",
        "Show them their average percentages for all four variables.\n",
        "\n",
        "Add some noise for the features by Hospital ID\n",
        "\n",
        "Then create a function to allow for simulated data with the exact percentage that someone shows"
      ],
      "metadata": {
        "nteract": {
          "transient": {
            "deleting": false
          }
        }
      }
    },
    {
      "cell_type": "code",
      "source": [
        "data.groupby(\"Hospital ID\").mean().reset_index().round(2)"
      ],
      "outputs": [
        {
          "output_type": "execute_result",
          "execution_count": 17,
          "data": {
            "text/plain": "   Hospital ID  High Blood Pressure  High Cholesterol  Diabetes  \\\n0            1                  0.3              0.40      0.25   \n1            2                  0.3              0.40      0.25   \n2            3                  0.3              0.41      0.25   \n\n   Preventative Services  Per Member Per Month Cost  \n0                    0.5                    5178.47  \n1                    0.5                    5163.05  \n2                    0.5                    5179.44  ",
            "text/html": "<div>\n<style scoped>\n    .dataframe tbody tr th:only-of-type {\n        vertical-align: middle;\n    }\n\n    .dataframe tbody tr th {\n        vertical-align: top;\n    }\n\n    .dataframe thead th {\n        text-align: right;\n    }\n</style>\n<table border=\"1\" class=\"dataframe\">\n  <thead>\n    <tr style=\"text-align: right;\">\n      <th></th>\n      <th>Hospital ID</th>\n      <th>High Blood Pressure</th>\n      <th>High Cholesterol</th>\n      <th>Diabetes</th>\n      <th>Preventative Services</th>\n      <th>Per Member Per Month Cost</th>\n    </tr>\n  </thead>\n  <tbody>\n    <tr>\n      <th>0</th>\n      <td>1</td>\n      <td>0.3</td>\n      <td>0.40</td>\n      <td>0.25</td>\n      <td>0.5</td>\n      <td>5178.47</td>\n    </tr>\n    <tr>\n      <th>1</th>\n      <td>2</td>\n      <td>0.3</td>\n      <td>0.40</td>\n      <td>0.25</td>\n      <td>0.5</td>\n      <td>5163.05</td>\n    </tr>\n    <tr>\n      <th>2</th>\n      <td>3</td>\n      <td>0.3</td>\n      <td>0.41</td>\n      <td>0.25</td>\n      <td>0.5</td>\n      <td>5179.44</td>\n    </tr>\n  </tbody>\n</table>\n</div>"
          },
          "metadata": {}
        }
      ],
      "execution_count": 17,
      "metadata": {
        "jupyter": {
          "source_hidden": false,
          "outputs_hidden": false
        },
        "nteract": {
          "transient": {
            "deleting": false
          }
        },
        "gather": {
          "logged": 1702414852217
        }
      }
    },
    {
      "cell_type": "markdown",
      "source": [
        "Step: Create a function that generates "
      ],
      "metadata": {
        "nteract": {
          "transient": {
            "deleting": false
          }
        }
      }
    },
    {
      "cell_type": "code",
      "source": [
        "import pandas as pd\n",
        "import numpy as np\n",
        "\n",
        "\n",
        "def adjust_binary_percentages(df, **column_percentages):\n",
        "    \"\"\"\n",
        "    Adjusts the percentage of 1's in each specified column of a binary DataFrame.\n",
        "\n",
        "    Args:\n",
        "    df (pd.DataFrame): DataFrame with binary values.\n",
        "    column_percentages (dict): A dictionary where keys are column names and values are the new desired percentages of 1's.\n",
        "\n",
        "    Returns:\n",
        "    pd.DataFrame: Modified DataFrame.\n",
        "    \"\"\"\n",
        "\n",
        "    for column, percentage in column_percentages.items():\n",
        "        if column not in df.columns:\n",
        "            raise ValueError(f\"Column {column} not found in DataFrame\")\n",
        "\n",
        "        # Calculate current percentage of 1's\n",
        "        current_percentage = df[column].mean()\n",
        "\n",
        "        # Calculate the desired number of 1's\n",
        "        target_count = int(df.shape[0] * percentage)\n",
        "\n",
        "        # Find indices where changes are needed\n",
        "        ones_indices = df[df[column] == 1].index\n",
        "        zeros_indices = df[df[column] == 0].index\n",
        "\n",
        "        if target_count > ones_indices.size:  # Need to add more 1's\n",
        "            change_count = target_count - ones_indices.size\n",
        "            indices_to_change = np.random.choice(\n",
        "                zeros_indices, change_count, replace=False\n",
        "            )\n",
        "            df.loc[indices_to_change, column] = 1\n",
        "        else:  # Need to remove some 1's\n",
        "            change_count = ones_indices.size - target_count\n",
        "            indices_to_change = np.random.choice(\n",
        "                ones_indices, change_count, replace=False\n",
        "            )\n",
        "            df.loc[indices_to_change, column] = 0\n",
        "\n",
        "    return df"
      ],
      "outputs": [],
      "execution_count": 18,
      "metadata": {
        "jupyter": {
          "source_hidden": false,
          "outputs_hidden": false
        },
        "nteract": {
          "transient": {
            "deleting": false
          }
        },
        "gather": {
          "logged": 1702414854007
        }
      }
    },
    {
      "cell_type": "code",
      "source": [
        "data_predict_adjust = clean_columns(data_predict.copy())\n",
        "data_predict_adjust = adjust_binary_percentages(\n",
        "    df=data_predict_adjust,\n",
        "    high_blood_pressure=0.1,\n",
        "    high_cholesterol=0.1,\n",
        "    diabetes=0.5,\n",
        "    preventative_services=0.7,\n",
        ")\n",
        "data_predict_adjust.rename(\n",
        "    columns={\n",
        "        \"high_blood_pressure\": \"High Blood Pressure\",\n",
        "        \"high_cholesterol\": \"High Cholesterol\",\n",
        "        \"diabetes\": \"Diabetes\",\n",
        "        \"preventative_services\": \"Preventative Services\",\n",
        "    },\n",
        "    inplace=True,\n",
        ")"
      ],
      "outputs": [],
      "execution_count": 70,
      "metadata": {
        "jupyter": {
          "source_hidden": false,
          "outputs_hidden": false
        },
        "nteract": {
          "transient": {
            "deleting": false
          }
        },
        "gather": {
          "logged": 1702415910545
        }
      }
    },
    {
      "cell_type": "code",
      "source": [
        "# Make predictions (opxtional, to evaluate model)\n",
        "predictions = model.predict(data_predict_adjust)\n",
        "predictions_pd = pd.DataFrame(predictions).rename(columns={0: \"Predictions\"})"
      ],
      "outputs": [
        {
          "output_type": "stream",
          "name": "stderr",
          "text": "pandas.Int64Index is deprecated and will be removed from pandas in a future version. Use pandas.Index with the appropriate dtype instead.\n"
        }
      ],
      "execution_count": 71,
      "metadata": {
        "jupyter": {
          "source_hidden": false,
          "outputs_hidden": false
        },
        "nteract": {
          "transient": {
            "deleting": false
          }
        },
        "gather": {
          "logged": 1702415912438
        }
      }
    },
    {
      "cell_type": "code",
      "source": [
        "data_predictions_hospital_id = pd.concat([data[\"Hospital ID\"], predictions_pd], axis=1)\n",
        "\n",
        "data_predictions_hospital_group = (\n",
        "    data_predictions_hospital_id.groupby(\"Hospital ID\").mean().reset_index().round(2)\n",
        ")\n",
        "\n",
        "noise = np.random.uniform(\n",
        "    -100, 100, data_predictions_hospital_group[\"Predictions\"].shape\n",
        ")\n",
        "data_predictions_hospital_group[\"Predictions\"] = (\n",
        "    data_predictions_hospital_group[\"Predictions\"]  # + noise\n",
        ").round(2)\n",
        "\n",
        "data_predictions_hospital_group"
      ],
      "outputs": [
        {
          "output_type": "execute_result",
          "execution_count": 72,
          "data": {
            "text/plain": "   Hospital ID  Predictions\n0            1  4131.040039\n1            2  4132.459961\n2            3  4137.160156",
            "text/html": "<div>\n<style scoped>\n    .dataframe tbody tr th:only-of-type {\n        vertical-align: middle;\n    }\n\n    .dataframe tbody tr th {\n        vertical-align: top;\n    }\n\n    .dataframe thead th {\n        text-align: right;\n    }\n</style>\n<table border=\"1\" class=\"dataframe\">\n  <thead>\n    <tr style=\"text-align: right;\">\n      <th></th>\n      <th>Hospital ID</th>\n      <th>Predictions</th>\n    </tr>\n  </thead>\n  <tbody>\n    <tr>\n      <th>0</th>\n      <td>1</td>\n      <td>4131.040039</td>\n    </tr>\n    <tr>\n      <th>1</th>\n      <td>2</td>\n      <td>4132.459961</td>\n    </tr>\n    <tr>\n      <th>2</th>\n      <td>3</td>\n      <td>4137.160156</td>\n    </tr>\n  </tbody>\n</table>\n</div>"
          },
          "metadata": {}
        }
      ],
      "execution_count": 72,
      "metadata": {
        "jupyter": {
          "source_hidden": false,
          "outputs_hidden": false
        },
        "nteract": {
          "transient": {
            "deleting": false
          }
        },
        "gather": {
          "logged": 1702415913933
        }
      }
    }
  ],
  "metadata": {
    "kernelspec": {
      "name": "python38-azureml",
      "language": "python",
      "display_name": "Python 3.8 - AzureML"
    },
    "language_info": {
      "name": "python",
      "version": "3.8.5",
      "mimetype": "text/x-python",
      "codemirror_mode": {
        "name": "ipython",
        "version": 3
      },
      "pygments_lexer": "ipython3",
      "nbconvert_exporter": "python",
      "file_extension": ".py"
    },
    "microsoft": {
      "ms_spell_check": {
        "ms_spell_check_language": "en"
      },
      "host": {
        "AzureML": {
          "notebookHasBeenCompleted": true
        }
      }
    },
    "kernel_info": {
      "name": "python38-azureml"
    },
    "nteract": {
      "version": "nteract-front-end@1.0.0"
    }
  },
  "nbformat": 4,
  "nbformat_minor": 2
}